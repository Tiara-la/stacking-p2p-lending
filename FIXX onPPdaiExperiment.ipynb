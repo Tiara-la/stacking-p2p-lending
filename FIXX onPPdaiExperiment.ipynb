{
  "cells": [
    {
      "cell_type": "markdown",
      "metadata": {
        "id": "view-in-github",
        "colab_type": "text"
      },
      "source": [
        "<a href=\"https://colab.research.google.com/github/Tiara-la/stacking-p2p-lending/blob/main/FIXX%20onPPdaiExperiment.ipynb\" target=\"_parent\"><img src=\"https://colab.research.google.com/assets/colab-badge.svg\" alt=\"Open In Colab\"/></a>"
      ]
    },
    {
      "cell_type": "code",
      "execution_count": null,
      "metadata": {
        "id": "RWaqo1XZ8fkE"
      },
      "outputs": [],
      "source": [
        "import matplotlib.pyplot as plt\n",
        "import seaborn as sns\n",
        "import pandas as pd\n",
        "from sklearn.ensemble import StackingClassifier\n",
        "from sklearn.tree import DecisionTreeClassifier\n",
        "from xgboost import XGBClassifier\n",
        "from lightgbm import LGBMClassifier\n",
        "from sklearn.ensemble import RandomForestClassifier\n",
        "from sklearn.linear_model import LogisticRegression"
      ]
    },
    {
      "cell_type": "markdown",
      "metadata": {
        "id": "3HyBnYI1VC2-"
      },
      "source": [
        "# **Data Collecting**"
      ]
    },
    {
      "cell_type": "code",
      "execution_count": null,
      "metadata": {
        "id": "Gbfl1fxD9HO7"
      },
      "outputs": [],
      "source": [
        "#untuk membaca file\n",
        "\n",
        "df = pd.read_csv (\"/content/ppdaiData.csv\")"
      ]
    },
    {
      "cell_type": "code",
      "execution_count": null,
      "metadata": {
        "colab": {
          "base_uri": "https://localhost:8080/"
        },
        "id": "74zTZc7P9Pqj",
        "outputId": "278a3426-7864-405a-b332-00c253bc12a7"
      },
      "outputs": [
        {
          "output_type": "execute_result",
          "data": {
            "text/plain": [
              "       sex  occupation  education  marriage  household     income    outcome  \\\n",
              "0        1           2          3         1          3  13.734079  13.255397   \n",
              "1        1           2          3         2          1   0.000000   0.000000   \n",
              "2        1           4          4         1          4  13.249264   9.834236   \n",
              "3        1           4          4         3          2  12.128566  10.920132   \n",
              "4        1           2          2         3          1   0.000000   0.000000   \n",
              "...    ...         ...        ...       ...        ...        ...        ...   \n",
              "55591    1           2          3         1          4   0.000000   0.000000   \n",
              "55592    1           4          2         1          4   0.000000   0.000000   \n",
              "55593    1           2          4         1          4   0.000000   0.000000   \n",
              "55594    1           2          3         3          4   0.000000   0.000000   \n",
              "55595    2           2          3         1          2   0.000000   0.000000   \n",
              "\n",
              "          income_tm    outcome_tm   tm_encode_3  ...  cash_limit  repay_state  \\\n",
              "0      5.900126e+09  5.900935e+09  0.000000e+00  ...    0.000000          0.0   \n",
              "1      0.000000e+00  0.000000e+00  5.659685e+09  ...    7.087560          0.0   \n",
              "2      4.767557e+09  5.899778e+09  0.000000e+00  ...    0.000000          0.0   \n",
              "3      5.042088e+09  5.902715e+09  5.912412e+09  ...    7.808445          0.0   \n",
              "4      0.000000e+00  0.000000e+00  0.000000e+00  ...   19.971271          0.0   \n",
              "...             ...           ...           ...  ...         ...          ...   \n",
              "55591  0.000000e+00  0.000000e+00  5.937622e+09  ...   12.357302          0.0   \n",
              "55592  0.000000e+00  0.000000e+00  5.907957e+09  ...    7.284420          0.0   \n",
              "55593  0.000000e+00  0.000000e+00  5.918528e+09  ...    8.948062          0.0   \n",
              "55594  0.000000e+00  0.000000e+00  4.227085e+09  ...    9.277013          0.0   \n",
              "55595  0.000000e+00  0.000000e+00  5.930926e+09  ...   21.069883          0.0   \n",
              "\n",
              "       browse_data   loan_time          time      yu_e  yu_e_categery  \\\n",
              "0              0.0  5914855887  5.914856e+09  0.478681            1.0   \n",
              "1         151500.0  5914855887  2.551708e+08  0.000000            2.0   \n",
              "2          38586.0  5914855887  5.914856e+09  3.415028            1.0   \n",
              "3          38764.0  5914855887  2.443522e+06  1.208435            1.0   \n",
              "4              0.0  5914855887  5.914856e+09  0.000000            2.0   \n",
              "...            ...         ...           ...       ...            ...   \n",
              "55591      46890.0  5932135887 -5.486400e+06  0.000000            2.0   \n",
              "55592      19600.0  5932135887  2.417882e+07  0.000000            2.0   \n",
              "55593     104040.0  5932135887  1.360766e+07  0.000000            2.0   \n",
              "55594      70720.0  5932135887  1.705051e+09  0.000000            2.0   \n",
              "55595      13300.0  5932135887  1.209600e+06  0.000000            2.0   \n",
              "\n",
              "            yu_e_tm  yu_e_tm_categery  label  \n",
              "0     -8.094010e+05               3.0      0  \n",
              "1      0.000000e+00               2.0      0  \n",
              "2     -1.132222e+09               3.0      0  \n",
              "3     -8.606264e+08               3.0      1  \n",
              "4      0.000000e+00               2.0      0  \n",
              "...             ...               ...    ...  \n",
              "55591  0.000000e+00               2.0      0  \n",
              "55592  0.000000e+00               2.0      1  \n",
              "55593  0.000000e+00               2.0      0  \n",
              "55594  0.000000e+00               2.0      0  \n",
              "55595  0.000000e+00               2.0      0  \n",
              "\n",
              "[55596 rows x 30 columns]"
            ],
            "text/html": [
              "\n",
              "  <div id=\"df-d1877fe4-d6d2-4edf-ad0f-4e8bb8e8b14a\">\n",
              "    <div class=\"colab-df-container\">\n",
              "      <div>\n",
              "<style scoped>\n",
              "    .dataframe tbody tr th:only-of-type {\n",
              "        vertical-align: middle;\n",
              "    }\n",
              "\n",
              "    .dataframe tbody tr th {\n",
              "        vertical-align: top;\n",
              "    }\n",
              "\n",
              "    .dataframe thead th {\n",
              "        text-align: right;\n",
              "    }\n",
              "</style>\n",
              "<table border=\"1\" class=\"dataframe\">\n",
              "  <thead>\n",
              "    <tr style=\"text-align: right;\">\n",
              "      <th></th>\n",
              "      <th>sex</th>\n",
              "      <th>occupation</th>\n",
              "      <th>education</th>\n",
              "      <th>marriage</th>\n",
              "      <th>household</th>\n",
              "      <th>income</th>\n",
              "      <th>outcome</th>\n",
              "      <th>income_tm</th>\n",
              "      <th>outcome_tm</th>\n",
              "      <th>tm_encode_3</th>\n",
              "      <th>...</th>\n",
              "      <th>cash_limit</th>\n",
              "      <th>repay_state</th>\n",
              "      <th>browse_data</th>\n",
              "      <th>loan_time</th>\n",
              "      <th>time</th>\n",
              "      <th>yu_e</th>\n",
              "      <th>yu_e_categery</th>\n",
              "      <th>yu_e_tm</th>\n",
              "      <th>yu_e_tm_categery</th>\n",
              "      <th>label</th>\n",
              "    </tr>\n",
              "  </thead>\n",
              "  <tbody>\n",
              "    <tr>\n",
              "      <th>0</th>\n",
              "      <td>1</td>\n",
              "      <td>2</td>\n",
              "      <td>3</td>\n",
              "      <td>1</td>\n",
              "      <td>3</td>\n",
              "      <td>13.734079</td>\n",
              "      <td>13.255397</td>\n",
              "      <td>5.900126e+09</td>\n",
              "      <td>5.900935e+09</td>\n",
              "      <td>0.000000e+00</td>\n",
              "      <td>...</td>\n",
              "      <td>0.000000</td>\n",
              "      <td>0.0</td>\n",
              "      <td>0.0</td>\n",
              "      <td>5914855887</td>\n",
              "      <td>5.914856e+09</td>\n",
              "      <td>0.478681</td>\n",
              "      <td>1.0</td>\n",
              "      <td>-8.094010e+05</td>\n",
              "      <td>3.0</td>\n",
              "      <td>0</td>\n",
              "    </tr>\n",
              "    <tr>\n",
              "      <th>1</th>\n",
              "      <td>1</td>\n",
              "      <td>2</td>\n",
              "      <td>3</td>\n",
              "      <td>2</td>\n",
              "      <td>1</td>\n",
              "      <td>0.000000</td>\n",
              "      <td>0.000000</td>\n",
              "      <td>0.000000e+00</td>\n",
              "      <td>0.000000e+00</td>\n",
              "      <td>5.659685e+09</td>\n",
              "      <td>...</td>\n",
              "      <td>7.087560</td>\n",
              "      <td>0.0</td>\n",
              "      <td>151500.0</td>\n",
              "      <td>5914855887</td>\n",
              "      <td>2.551708e+08</td>\n",
              "      <td>0.000000</td>\n",
              "      <td>2.0</td>\n",
              "      <td>0.000000e+00</td>\n",
              "      <td>2.0</td>\n",
              "      <td>0</td>\n",
              "    </tr>\n",
              "    <tr>\n",
              "      <th>2</th>\n",
              "      <td>1</td>\n",
              "      <td>4</td>\n",
              "      <td>4</td>\n",
              "      <td>1</td>\n",
              "      <td>4</td>\n",
              "      <td>13.249264</td>\n",
              "      <td>9.834236</td>\n",
              "      <td>4.767557e+09</td>\n",
              "      <td>5.899778e+09</td>\n",
              "      <td>0.000000e+00</td>\n",
              "      <td>...</td>\n",
              "      <td>0.000000</td>\n",
              "      <td>0.0</td>\n",
              "      <td>38586.0</td>\n",
              "      <td>5914855887</td>\n",
              "      <td>5.914856e+09</td>\n",
              "      <td>3.415028</td>\n",
              "      <td>1.0</td>\n",
              "      <td>-1.132222e+09</td>\n",
              "      <td>3.0</td>\n",
              "      <td>0</td>\n",
              "    </tr>\n",
              "    <tr>\n",
              "      <th>3</th>\n",
              "      <td>1</td>\n",
              "      <td>4</td>\n",
              "      <td>4</td>\n",
              "      <td>3</td>\n",
              "      <td>2</td>\n",
              "      <td>12.128566</td>\n",
              "      <td>10.920132</td>\n",
              "      <td>5.042088e+09</td>\n",
              "      <td>5.902715e+09</td>\n",
              "      <td>5.912412e+09</td>\n",
              "      <td>...</td>\n",
              "      <td>7.808445</td>\n",
              "      <td>0.0</td>\n",
              "      <td>38764.0</td>\n",
              "      <td>5914855887</td>\n",
              "      <td>2.443522e+06</td>\n",
              "      <td>1.208435</td>\n",
              "      <td>1.0</td>\n",
              "      <td>-8.606264e+08</td>\n",
              "      <td>3.0</td>\n",
              "      <td>1</td>\n",
              "    </tr>\n",
              "    <tr>\n",
              "      <th>4</th>\n",
              "      <td>1</td>\n",
              "      <td>2</td>\n",
              "      <td>2</td>\n",
              "      <td>3</td>\n",
              "      <td>1</td>\n",
              "      <td>0.000000</td>\n",
              "      <td>0.000000</td>\n",
              "      <td>0.000000e+00</td>\n",
              "      <td>0.000000e+00</td>\n",
              "      <td>0.000000e+00</td>\n",
              "      <td>...</td>\n",
              "      <td>19.971271</td>\n",
              "      <td>0.0</td>\n",
              "      <td>0.0</td>\n",
              "      <td>5914855887</td>\n",
              "      <td>5.914856e+09</td>\n",
              "      <td>0.000000</td>\n",
              "      <td>2.0</td>\n",
              "      <td>0.000000e+00</td>\n",
              "      <td>2.0</td>\n",
              "      <td>0</td>\n",
              "    </tr>\n",
              "    <tr>\n",
              "      <th>...</th>\n",
              "      <td>...</td>\n",
              "      <td>...</td>\n",
              "      <td>...</td>\n",
              "      <td>...</td>\n",
              "      <td>...</td>\n",
              "      <td>...</td>\n",
              "      <td>...</td>\n",
              "      <td>...</td>\n",
              "      <td>...</td>\n",
              "      <td>...</td>\n",
              "      <td>...</td>\n",
              "      <td>...</td>\n",
              "      <td>...</td>\n",
              "      <td>...</td>\n",
              "      <td>...</td>\n",
              "      <td>...</td>\n",
              "      <td>...</td>\n",
              "      <td>...</td>\n",
              "      <td>...</td>\n",
              "      <td>...</td>\n",
              "      <td>...</td>\n",
              "    </tr>\n",
              "    <tr>\n",
              "      <th>55591</th>\n",
              "      <td>1</td>\n",
              "      <td>2</td>\n",
              "      <td>3</td>\n",
              "      <td>1</td>\n",
              "      <td>4</td>\n",
              "      <td>0.000000</td>\n",
              "      <td>0.000000</td>\n",
              "      <td>0.000000e+00</td>\n",
              "      <td>0.000000e+00</td>\n",
              "      <td>5.937622e+09</td>\n",
              "      <td>...</td>\n",
              "      <td>12.357302</td>\n",
              "      <td>0.0</td>\n",
              "      <td>46890.0</td>\n",
              "      <td>5932135887</td>\n",
              "      <td>-5.486400e+06</td>\n",
              "      <td>0.000000</td>\n",
              "      <td>2.0</td>\n",
              "      <td>0.000000e+00</td>\n",
              "      <td>2.0</td>\n",
              "      <td>0</td>\n",
              "    </tr>\n",
              "    <tr>\n",
              "      <th>55592</th>\n",
              "      <td>1</td>\n",
              "      <td>4</td>\n",
              "      <td>2</td>\n",
              "      <td>1</td>\n",
              "      <td>4</td>\n",
              "      <td>0.000000</td>\n",
              "      <td>0.000000</td>\n",
              "      <td>0.000000e+00</td>\n",
              "      <td>0.000000e+00</td>\n",
              "      <td>5.907957e+09</td>\n",
              "      <td>...</td>\n",
              "      <td>7.284420</td>\n",
              "      <td>0.0</td>\n",
              "      <td>19600.0</td>\n",
              "      <td>5932135887</td>\n",
              "      <td>2.417882e+07</td>\n",
              "      <td>0.000000</td>\n",
              "      <td>2.0</td>\n",
              "      <td>0.000000e+00</td>\n",
              "      <td>2.0</td>\n",
              "      <td>1</td>\n",
              "    </tr>\n",
              "    <tr>\n",
              "      <th>55593</th>\n",
              "      <td>1</td>\n",
              "      <td>2</td>\n",
              "      <td>4</td>\n",
              "      <td>1</td>\n",
              "      <td>4</td>\n",
              "      <td>0.000000</td>\n",
              "      <td>0.000000</td>\n",
              "      <td>0.000000e+00</td>\n",
              "      <td>0.000000e+00</td>\n",
              "      <td>5.918528e+09</td>\n",
              "      <td>...</td>\n",
              "      <td>8.948062</td>\n",
              "      <td>0.0</td>\n",
              "      <td>104040.0</td>\n",
              "      <td>5932135887</td>\n",
              "      <td>1.360766e+07</td>\n",
              "      <td>0.000000</td>\n",
              "      <td>2.0</td>\n",
              "      <td>0.000000e+00</td>\n",
              "      <td>2.0</td>\n",
              "      <td>0</td>\n",
              "    </tr>\n",
              "    <tr>\n",
              "      <th>55594</th>\n",
              "      <td>1</td>\n",
              "      <td>2</td>\n",
              "      <td>3</td>\n",
              "      <td>3</td>\n",
              "      <td>4</td>\n",
              "      <td>0.000000</td>\n",
              "      <td>0.000000</td>\n",
              "      <td>0.000000e+00</td>\n",
              "      <td>0.000000e+00</td>\n",
              "      <td>4.227085e+09</td>\n",
              "      <td>...</td>\n",
              "      <td>9.277013</td>\n",
              "      <td>0.0</td>\n",
              "      <td>70720.0</td>\n",
              "      <td>5932135887</td>\n",
              "      <td>1.705051e+09</td>\n",
              "      <td>0.000000</td>\n",
              "      <td>2.0</td>\n",
              "      <td>0.000000e+00</td>\n",
              "      <td>2.0</td>\n",
              "      <td>0</td>\n",
              "    </tr>\n",
              "    <tr>\n",
              "      <th>55595</th>\n",
              "      <td>2</td>\n",
              "      <td>2</td>\n",
              "      <td>3</td>\n",
              "      <td>1</td>\n",
              "      <td>2</td>\n",
              "      <td>0.000000</td>\n",
              "      <td>0.000000</td>\n",
              "      <td>0.000000e+00</td>\n",
              "      <td>0.000000e+00</td>\n",
              "      <td>5.930926e+09</td>\n",
              "      <td>...</td>\n",
              "      <td>21.069883</td>\n",
              "      <td>0.0</td>\n",
              "      <td>13300.0</td>\n",
              "      <td>5932135887</td>\n",
              "      <td>1.209600e+06</td>\n",
              "      <td>0.000000</td>\n",
              "      <td>2.0</td>\n",
              "      <td>0.000000e+00</td>\n",
              "      <td>2.0</td>\n",
              "      <td>0</td>\n",
              "    </tr>\n",
              "  </tbody>\n",
              "</table>\n",
              "<p>55596 rows × 30 columns</p>\n",
              "</div>\n",
              "      <button class=\"colab-df-convert\" onclick=\"convertToInteractive('df-d1877fe4-d6d2-4edf-ad0f-4e8bb8e8b14a')\"\n",
              "              title=\"Convert this dataframe to an interactive table.\"\n",
              "              style=\"display:none;\">\n",
              "        \n",
              "  <svg xmlns=\"http://www.w3.org/2000/svg\" height=\"24px\"viewBox=\"0 0 24 24\"\n",
              "       width=\"24px\">\n",
              "    <path d=\"M0 0h24v24H0V0z\" fill=\"none\"/>\n",
              "    <path d=\"M18.56 5.44l.94 2.06.94-2.06 2.06-.94-2.06-.94-.94-2.06-.94 2.06-2.06.94zm-11 1L8.5 8.5l.94-2.06 2.06-.94-2.06-.94L8.5 2.5l-.94 2.06-2.06.94zm10 10l.94 2.06.94-2.06 2.06-.94-2.06-.94-.94-2.06-.94 2.06-2.06.94z\"/><path d=\"M17.41 7.96l-1.37-1.37c-.4-.4-.92-.59-1.43-.59-.52 0-1.04.2-1.43.59L10.3 9.45l-7.72 7.72c-.78.78-.78 2.05 0 2.83L4 21.41c.39.39.9.59 1.41.59.51 0 1.02-.2 1.41-.59l7.78-7.78 2.81-2.81c.8-.78.8-2.07 0-2.86zM5.41 20L4 18.59l7.72-7.72 1.47 1.35L5.41 20z\"/>\n",
              "  </svg>\n",
              "      </button>\n",
              "      \n",
              "  <style>\n",
              "    .colab-df-container {\n",
              "      display:flex;\n",
              "      flex-wrap:wrap;\n",
              "      gap: 12px;\n",
              "    }\n",
              "\n",
              "    .colab-df-convert {\n",
              "      background-color: #E8F0FE;\n",
              "      border: none;\n",
              "      border-radius: 50%;\n",
              "      cursor: pointer;\n",
              "      display: none;\n",
              "      fill: #1967D2;\n",
              "      height: 32px;\n",
              "      padding: 0 0 0 0;\n",
              "      width: 32px;\n",
              "    }\n",
              "\n",
              "    .colab-df-convert:hover {\n",
              "      background-color: #E2EBFA;\n",
              "      box-shadow: 0px 1px 2px rgba(60, 64, 67, 0.3), 0px 1px 3px 1px rgba(60, 64, 67, 0.15);\n",
              "      fill: #174EA6;\n",
              "    }\n",
              "\n",
              "    [theme=dark] .colab-df-convert {\n",
              "      background-color: #3B4455;\n",
              "      fill: #D2E3FC;\n",
              "    }\n",
              "\n",
              "    [theme=dark] .colab-df-convert:hover {\n",
              "      background-color: #434B5C;\n",
              "      box-shadow: 0px 1px 3px 1px rgba(0, 0, 0, 0.15);\n",
              "      filter: drop-shadow(0px 1px 2px rgba(0, 0, 0, 0.3));\n",
              "      fill: #FFFFFF;\n",
              "    }\n",
              "  </style>\n",
              "\n",
              "      <script>\n",
              "        const buttonEl =\n",
              "          document.querySelector('#df-d1877fe4-d6d2-4edf-ad0f-4e8bb8e8b14a button.colab-df-convert');\n",
              "        buttonEl.style.display =\n",
              "          google.colab.kernel.accessAllowed ? 'block' : 'none';\n",
              "\n",
              "        async function convertToInteractive(key) {\n",
              "          const element = document.querySelector('#df-d1877fe4-d6d2-4edf-ad0f-4e8bb8e8b14a');\n",
              "          const dataTable =\n",
              "            await google.colab.kernel.invokeFunction('convertToInteractive',\n",
              "                                                     [key], {});\n",
              "          if (!dataTable) return;\n",
              "\n",
              "          const docLinkHtml = 'Like what you see? Visit the ' +\n",
              "            '<a target=\"_blank\" href=https://colab.research.google.com/notebooks/data_table.ipynb>data table notebook</a>'\n",
              "            + ' to learn more about interactive tables.';\n",
              "          element.innerHTML = '';\n",
              "          dataTable['output_type'] = 'display_data';\n",
              "          await google.colab.output.renderOutput(dataTable, element);\n",
              "          const docLink = document.createElement('div');\n",
              "          docLink.innerHTML = docLinkHtml;\n",
              "          element.appendChild(docLink);\n",
              "        }\n",
              "      </script>\n",
              "    </div>\n",
              "  </div>\n",
              "  "
            ]
          },
          "metadata": {},
          "execution_count": 384
        }
      ],
      "source": [
        "#untuk menampilkan data\n",
        "df"
      ]
    },
    {
      "cell_type": "markdown",
      "metadata": {
        "id": "_ubMZxp4ySCX"
      },
      "source": [
        "# **Exploratory Data Analysis**"
      ]
    },
    {
      "cell_type": "code",
      "execution_count": null,
      "metadata": {
        "colab": {
          "base_uri": "https://localhost:8080/"
        },
        "id": "Q-TpK-6FxTGs",
        "outputId": "7e05dbfa-f263-47f5-b2a0-8e851774a43a"
      },
      "outputs": [
        {
          "output_type": "stream",
          "name": "stdout",
          "text": [
            "<class 'pandas.core.frame.DataFrame'>\n",
            "Int64Index: 10149 entries, 5610 to 55595\n",
            "Data columns (total 30 columns):\n",
            " #   Column               Non-Null Count  Dtype  \n",
            "---  ------               --------------  -----  \n",
            " 0   sex                  10149 non-null  int64  \n",
            " 1   occupation           10149 non-null  int64  \n",
            " 2   education            10149 non-null  int64  \n",
            " 3   marriage             10149 non-null  int64  \n",
            " 4   household            10149 non-null  int64  \n",
            " 5   income               10149 non-null  float64\n",
            " 6   outcome              10149 non-null  float64\n",
            " 7   income_tm            10149 non-null  float64\n",
            " 8   outcome_tm           10149 non-null  float64\n",
            " 9   tm_encode_3          10149 non-null  float64\n",
            " 10  prior_account        10149 non-null  float64\n",
            " 11  prior_repay          10149 non-null  float64\n",
            " 12  credit_limit         10149 non-null  float64\n",
            " 13  account_balance      10149 non-null  float64\n",
            " 14  minimun_repay        10149 non-null  float64\n",
            " 15  consume_count        10149 non-null  float64\n",
            " 16  account              10149 non-null  float64\n",
            " 17  adjust_account       10149 non-null  float64\n",
            " 18  circulated_interest  10149 non-null  float64\n",
            " 19  avaliable_balance    10149 non-null  float64\n",
            " 20  cash_limit           10149 non-null  float64\n",
            " 21  repay_state          10149 non-null  float64\n",
            " 22  browse_data          10149 non-null  float64\n",
            " 23  loan_time            10149 non-null  int64  \n",
            " 24  time                 10149 non-null  float64\n",
            " 25  yu_e                 10149 non-null  float64\n",
            " 26  yu_e_categery        10149 non-null  float64\n",
            " 27  yu_e_tm              10149 non-null  float64\n",
            " 28  yu_e_tm_categery     10149 non-null  float64\n",
            " 29  label                10149 non-null  int64  \n",
            "dtypes: float64(23), int64(7)\n",
            "memory usage: 2.4 MB\n"
          ]
        }
      ],
      "source": [
        "# info data\n",
        "df.info()"
      ]
    },
    {
      "cell_type": "code",
      "execution_count": null,
      "metadata": {
        "colab": {
          "base_uri": "https://localhost:8080/"
        },
        "id": "ffEwJZugyiIl",
        "outputId": "7e45c424-64f9-459b-ca86-fc8b7065795f"
      },
      "outputs": [
        {
          "output_type": "display_data",
          "data": {
            "text/plain": [
              "<Figure size 518.4x432 with 1 Axes>"
            ],
            "image/png": "[encoded data removed]"
          },
          "metadata": {
            "needs_background": "light"
          }
        }
      ],
      "source": [
        "sns.catplot(kind='count',x='label',height=6, aspect=1.2,data=df,palette='Set2')\n",
        "plt.show()"
      ]
    },
    {
      "cell_type": "code",
      "execution_count": null,
      "metadata": {
        "colab": {
          "base_uri": "https://localhost:8080/"
        },
        "id": "7SHk3dl129qE",
        "outputId": "c354fc38-27f9-4c81-e107-7eb12c8e69c3"
      },
      "outputs": [
        {
          "output_type": "execute_result",
          "data": {
            "text/plain": [
              "<AxesSubplot:>"
            ]
          },
          "metadata": {},
          "execution_count": 319
        },
        {
          "output_type": "display_data",
          "data": {
            "text/plain": [
              "<Figure size 864x576 with 2 Axes>"
            ],
            "image/png": "[encoded data removed]"
          },
          "metadata": {
            "needs_background": "light"
          }
        }
      ],
      "source": [
        "# corelation matrix\n",
        "plt.figure(figsize=(12, 8))\n",
        "sns.heatmap(df.corr(), annot=True, cmap='viridis')"
      ]
    },
    {
      "cell_type": "markdown",
      "metadata": {
        "id": "HMpOqt6a3Jfc"
      },
      "source": [
        "loan_status_description memiliki korelasi baik dengan days_past_due; installment dengan principal_paid; amount_borrowed dengan principal_paid dan interest_paid; installment dengan principal_paid"
      ]
    },
    {
      "cell_type": "code",
      "execution_count": null,
      "metadata": {
        "colab": {
          "base_uri": "https://localhost:8080/"
        },
        "id": "h8PlgYN36Bmf",
        "outputId": "81c09641-7e5b-4bbc-891b-e136b1d2cb7d"
      },
      "outputs": [
        {
          "output_type": "execute_result",
          "data": {
            "text/plain": [
              "                sex    occupation     education      marriage     household  \\\n",
              "count  10149.000000  10149.000000  10149.000000  10149.000000  10149.000000   \n",
              "mean       1.139915      2.418465      3.298059      2.004927      2.365061   \n",
              "std        0.431938      0.781120      0.762711      1.001170      1.190077   \n",
              "min        0.000000      0.000000      0.000000      0.000000      0.000000   \n",
              "25%        1.000000      2.000000      3.000000      1.000000      1.000000   \n",
              "50%        1.000000      2.000000      3.000000      2.000000      2.000000   \n",
              "75%        1.000000      3.000000      4.000000      3.000000      4.000000   \n",
              "max        2.000000      4.000000      4.000000      5.000000      4.000000   \n",
              "\n",
              "        income  outcome  income_tm  outcome_tm   tm_encode_3  ...  \\\n",
              "count  10149.0  10149.0    10149.0     10149.0  1.014900e+04  ...   \n",
              "mean       0.0      0.0        0.0         0.0  5.922677e+09  ...   \n",
              "std        0.0      0.0        0.0         0.0  1.073692e+07  ...   \n",
              "min        0.0      0.0        0.0         0.0  5.889020e+09  ...   \n",
              "25%        0.0      0.0        0.0         0.0  5.916027e+09  ...   \n",
              "50%        0.0      0.0        0.0         0.0  5.926261e+09  ...   \n",
              "75%        0.0      0.0        0.0         0.0  5.930625e+09  ...   \n",
              "max        0.0      0.0        0.0         0.0  5.939992e+09  ...   \n",
              "\n",
              "         cash_limit  repay_state   browse_data     loan_time          time  \\\n",
              "count  10149.000000      10149.0  10149.000000  1.014900e+04  1.014900e+04   \n",
              "mean      11.238167          0.0  23546.791802  5.929017e+09  6.340018e+06   \n",
              "std        8.390058          0.0  22414.588682  2.014887e+06  1.074911e+07   \n",
              "min        0.000000          0.0      0.000000  5.922977e+09 -1.537920e+07   \n",
              "25%        0.000000          0.0   4262.000000  5.927557e+09 -1.302880e+06   \n",
              "50%       12.998218          0.0  17176.000000  5.929371e+09  2.764800e+06   \n",
              "75%       19.290638          0.0  36804.000000  5.930667e+09  1.283349e+07   \n",
              "max       22.967003          0.0  89765.000000  5.932136e+09  3.499200e+07   \n",
              "\n",
              "          yu_e  yu_e_categery  yu_e_tm  yu_e_tm_categery         label  \n",
              "count  10149.0        10149.0  10149.0           10149.0  10149.000000  \n",
              "mean       0.0            2.0      0.0               2.0      0.122475  \n",
              "std        0.0            0.0      0.0               0.0      0.327850  \n",
              "min        0.0            2.0      0.0               2.0      0.000000  \n",
              "25%        0.0            2.0      0.0               2.0      0.000000  \n",
              "50%        0.0            2.0      0.0               2.0      0.000000  \n",
              "75%        0.0            2.0      0.0               2.0      0.000000  \n",
              "max        0.0            2.0      0.0               2.0      1.000000  \n",
              "\n",
              "[8 rows x 30 columns]"
            ],
            "text/html": [
              "\n",
              "  <div id=\"df-616937b5-b1ec-4dce-81c8-a4afecfd74a2\">\n",
              "    <div class=\"colab-df-container\">\n",
              "      <div>\n",
              "<style scoped>\n",
              "    .dataframe tbody tr th:only-of-type {\n",
              "        vertical-align: middle;\n",
              "    }\n",
              "\n",
              "    .dataframe tbody tr th {\n",
              "        vertical-align: top;\n",
              "    }\n",
              "\n",
              "    .dataframe thead th {\n",
              "        text-align: right;\n",
              "    }\n",
              "</style>\n",
              "<table border=\"1\" class=\"dataframe\">\n",
              "  <thead>\n",
              "    <tr style=\"text-align: right;\">\n",
              "      <th></th>\n",
              "      <th>sex</th>\n",
              "      <th>occupation</th>\n",
              "      <th>education</th>\n",
              "      <th>marriage</th>\n",
              "      <th>household</th>\n",
              "      <th>income</th>\n",
              "      <th>outcome</th>\n",
              "      <th>income_tm</th>\n",
              "      <th>outcome_tm</th>\n",
              "      <th>tm_encode_3</th>\n",
              "      <th>...</th>\n",
              "      <th>cash_limit</th>\n",
              "      <th>repay_state</th>\n",
              "      <th>browse_data</th>\n",
              "      <th>loan_time</th>\n",
              "      <th>time</th>\n",
              "      <th>yu_e</th>\n",
              "      <th>yu_e_categery</th>\n",
              "      <th>yu_e_tm</th>\n",
              "      <th>yu_e_tm_categery</th>\n",
              "      <th>label</th>\n",
              "    </tr>\n",
              "  </thead>\n",
              "  <tbody>\n",
              "    <tr>\n",
              "      <th>count</th>\n",
              "      <td>10149.000000</td>\n",
              "      <td>10149.000000</td>\n",
              "      <td>10149.000000</td>\n",
              "      <td>10149.000000</td>\n",
              "      <td>10149.000000</td>\n",
              "      <td>10149.0</td>\n",
              "      <td>10149.0</td>\n",
              "      <td>10149.0</td>\n",
              "      <td>10149.0</td>\n",
              "      <td>1.014900e+04</td>\n",
              "      <td>...</td>\n",
              "      <td>10149.000000</td>\n",
              "      <td>10149.0</td>\n",
              "      <td>10149.000000</td>\n",
              "      <td>1.014900e+04</td>\n",
              "      <td>1.014900e+04</td>\n",
              "      <td>10149.0</td>\n",
              "      <td>10149.0</td>\n",
              "      <td>10149.0</td>\n",
              "      <td>10149.0</td>\n",
              "      <td>10149.000000</td>\n",
              "    </tr>\n",
              "    <tr>\n",
              "      <th>mean</th>\n",
              "      <td>1.139915</td>\n",
              "      <td>2.418465</td>\n",
              "      <td>3.298059</td>\n",
              "      <td>2.004927</td>\n",
              "      <td>2.365061</td>\n",
              "      <td>0.0</td>\n",
              "      <td>0.0</td>\n",
              "      <td>0.0</td>\n",
              "      <td>0.0</td>\n",
              "      <td>5.922677e+09</td>\n",
              "      <td>...</td>\n",
              "      <td>11.238167</td>\n",
              "      <td>0.0</td>\n",
              "      <td>23546.791802</td>\n",
              "      <td>5.929017e+09</td>\n",
              "      <td>6.340018e+06</td>\n",
              "      <td>0.0</td>\n",
              "      <td>2.0</td>\n",
              "      <td>0.0</td>\n",
              "      <td>2.0</td>\n",
              "      <td>0.122475</td>\n",
              "    </tr>\n",
              "    <tr>\n",
              "      <th>std</th>\n",
              "      <td>0.431938</td>\n",
              "      <td>0.781120</td>\n",
              "      <td>0.762711</td>\n",
              "      <td>1.001170</td>\n",
              "      <td>1.190077</td>\n",
              "      <td>0.0</td>\n",
              "      <td>0.0</td>\n",
              "      <td>0.0</td>\n",
              "      <td>0.0</td>\n",
              "      <td>1.073692e+07</td>\n",
              "      <td>...</td>\n",
              "      <td>8.390058</td>\n",
              "      <td>0.0</td>\n",
              "      <td>22414.588682</td>\n",
              "      <td>2.014887e+06</td>\n",
              "      <td>1.074911e+07</td>\n",
              "      <td>0.0</td>\n",
              "      <td>0.0</td>\n",
              "      <td>0.0</td>\n",
              "      <td>0.0</td>\n",
              "      <td>0.327850</td>\n",
              "    </tr>\n",
              "    <tr>\n",
              "      <th>min</th>\n",
              "      <td>0.000000</td>\n",
              "      <td>0.000000</td>\n",
              "      <td>0.000000</td>\n",
              "      <td>0.000000</td>\n",
              "      <td>0.000000</td>\n",
              "      <td>0.0</td>\n",
              "      <td>0.0</td>\n",
              "      <td>0.0</td>\n",
              "      <td>0.0</td>\n",
              "      <td>5.889020e+09</td>\n",
              "      <td>...</td>\n",
              "      <td>0.000000</td>\n",
              "      <td>0.0</td>\n",
              "      <td>0.000000</td>\n",
              "      <td>5.922977e+09</td>\n",
              "      <td>-1.537920e+07</td>\n",
              "      <td>0.0</td>\n",
              "      <td>2.0</td>\n",
              "      <td>0.0</td>\n",
              "      <td>2.0</td>\n",
              "      <td>0.000000</td>\n",
              "    </tr>\n",
              "    <tr>\n",
              "      <th>25%</th>\n",
              "      <td>1.000000</td>\n",
              "      <td>2.000000</td>\n",
              "      <td>3.000000</td>\n",
              "      <td>1.000000</td>\n",
              "      <td>1.000000</td>\n",
              "      <td>0.0</td>\n",
              "      <td>0.0</td>\n",
              "      <td>0.0</td>\n",
              "      <td>0.0</td>\n",
              "      <td>5.916027e+09</td>\n",
              "      <td>...</td>\n",
              "      <td>0.000000</td>\n",
              "      <td>0.0</td>\n",
              "      <td>4262.000000</td>\n",
              "      <td>5.927557e+09</td>\n",
              "      <td>-1.302880e+06</td>\n",
              "      <td>0.0</td>\n",
              "      <td>2.0</td>\n",
              "      <td>0.0</td>\n",
              "      <td>2.0</td>\n",
              "      <td>0.000000</td>\n",
              "    </tr>\n",
              "    <tr>\n",
              "      <th>50%</th>\n",
              "      <td>1.000000</td>\n",
              "      <td>2.000000</td>\n",
              "      <td>3.000000</td>\n",
              "      <td>2.000000</td>\n",
              "      <td>2.000000</td>\n",
              "      <td>0.0</td>\n",
              "      <td>0.0</td>\n",
              "      <td>0.0</td>\n",
              "      <td>0.0</td>\n",
              "      <td>5.926261e+09</td>\n",
              "      <td>...</td>\n",
              "      <td>12.998218</td>\n",
              "      <td>0.0</td>\n",
              "      <td>17176.000000</td>\n",
              "      <td>5.929371e+09</td>\n",
              "      <td>2.764800e+06</td>\n",
              "      <td>0.0</td>\n",
              "      <td>2.0</td>\n",
              "      <td>0.0</td>\n",
              "      <td>2.0</td>\n",
              "      <td>0.000000</td>\n",
              "    </tr>\n",
              "    <tr>\n",
              "      <th>75%</th>\n",
              "      <td>1.000000</td>\n",
              "      <td>3.000000</td>\n",
              "      <td>4.000000</td>\n",
              "      <td>3.000000</td>\n",
              "      <td>4.000000</td>\n",
              "      <td>0.0</td>\n",
              "      <td>0.0</td>\n",
              "      <td>0.0</td>\n",
              "      <td>0.0</td>\n",
              "      <td>5.930625e+09</td>\n",
              "      <td>...</td>\n",
              "      <td>19.290638</td>\n",
              "      <td>0.0</td>\n",
              "      <td>36804.000000</td>\n",
              "      <td>5.930667e+09</td>\n",
              "      <td>1.283349e+07</td>\n",
              "      <td>0.0</td>\n",
              "      <td>2.0</td>\n",
              "      <td>0.0</td>\n",
              "      <td>2.0</td>\n",
              "      <td>0.000000</td>\n",
              "    </tr>\n",
              "    <tr>\n",
              "      <th>max</th>\n",
              "      <td>2.000000</td>\n",
              "      <td>4.000000</td>\n",
              "      <td>4.000000</td>\n",
              "      <td>5.000000</td>\n",
              "      <td>4.000000</td>\n",
              "      <td>0.0</td>\n",
              "      <td>0.0</td>\n",
              "      <td>0.0</td>\n",
              "      <td>0.0</td>\n",
              "      <td>5.939992e+09</td>\n",
              "      <td>...</td>\n",
              "      <td>22.967003</td>\n",
              "      <td>0.0</td>\n",
              "      <td>89765.000000</td>\n",
              "      <td>5.932136e+09</td>\n",
              "      <td>3.499200e+07</td>\n",
              "      <td>0.0</td>\n",
              "      <td>2.0</td>\n",
              "      <td>0.0</td>\n",
              "      <td>2.0</td>\n",
              "      <td>1.000000</td>\n",
              "    </tr>\n",
              "  </tbody>\n",
              "</table>\n",
              "<p>8 rows × 30 columns</p>\n",
              "</div>\n",
              "      <button class=\"colab-df-convert\" onclick=\"convertToInteractive('df-616937b5-b1ec-4dce-81c8-a4afecfd74a2')\"\n",
              "              title=\"Convert this dataframe to an interactive table.\"\n",
              "              style=\"display:none;\">\n",
              "        \n",
              "  <svg xmlns=\"http://www.w3.org/2000/svg\" height=\"24px\"viewBox=\"0 0 24 24\"\n",
              "       width=\"24px\">\n",
              "    <path d=\"M0 0h24v24H0V0z\" fill=\"none\"/>\n",
              "    <path d=\"M18.56 5.44l.94 2.06.94-2.06 2.06-.94-2.06-.94-.94-2.06-.94 2.06-2.06.94zm-11 1L8.5 8.5l.94-2.06 2.06-.94-2.06-.94L8.5 2.5l-.94 2.06-2.06.94zm10 10l.94 2.06.94-2.06 2.06-.94-2.06-.94-.94-2.06-.94 2.06-2.06.94z\"/><path d=\"M17.41 7.96l-1.37-1.37c-.4-.4-.92-.59-1.43-.59-.52 0-1.04.2-1.43.59L10.3 9.45l-7.72 7.72c-.78.78-.78 2.05 0 2.83L4 21.41c.39.39.9.59 1.41.59.51 0 1.02-.2 1.41-.59l7.78-7.78 2.81-2.81c.8-.78.8-2.07 0-2.86zM5.41 20L4 18.59l7.72-7.72 1.47 1.35L5.41 20z\"/>\n",
              "  </svg>\n",
              "      </button>\n",
              "      \n",
              "  <style>\n",
              "    .colab-df-container {\n",
              "      display:flex;\n",
              "      flex-wrap:wrap;\n",
              "      gap: 12px;\n",
              "    }\n",
              "\n",
              "    .colab-df-convert {\n",
              "      background-color: #E8F0FE;\n",
              "      border: none;\n",
              "      border-radius: 50%;\n",
              "      cursor: pointer;\n",
              "      display: none;\n",
              "      fill: #1967D2;\n",
              "      height: 32px;\n",
              "      padding: 0 0 0 0;\n",
              "      width: 32px;\n",
              "    }\n",
              "\n",
              "    .colab-df-convert:hover {\n",
              "      background-color: #E2EBFA;\n",
              "      box-shadow: 0px 1px 2px rgba(60, 64, 67, 0.3), 0px 1px 3px 1px rgba(60, 64, 67, 0.15);\n",
              "      fill: #174EA6;\n",
              "    }\n",
              "\n",
              "    [theme=dark] .colab-df-convert {\n",
              "      background-color: #3B4455;\n",
              "      fill: #D2E3FC;\n",
              "    }\n",
              "\n",
              "    [theme=dark] .colab-df-convert:hover {\n",
              "      background-color: #434B5C;\n",
              "      box-shadow: 0px 1px 3px 1px rgba(0, 0, 0, 0.15);\n",
              "      filter: drop-shadow(0px 1px 2px rgba(0, 0, 0, 0.3));\n",
              "      fill: #FFFFFF;\n",
              "    }\n",
              "  </style>\n",
              "\n",
              "      <script>\n",
              "        const buttonEl =\n",
              "          document.querySelector('#df-616937b5-b1ec-4dce-81c8-a4afecfd74a2 button.colab-df-convert');\n",
              "        buttonEl.style.display =\n",
              "          google.colab.kernel.accessAllowed ? 'block' : 'none';\n",
              "\n",
              "        async function convertToInteractive(key) {\n",
              "          const element = document.querySelector('#df-616937b5-b1ec-4dce-81c8-a4afecfd74a2');\n",
              "          const dataTable =\n",
              "            await google.colab.kernel.invokeFunction('convertToInteractive',\n",
              "                                                     [key], {});\n",
              "          if (!dataTable) return;\n",
              "\n",
              "          const docLinkHtml = 'Like what you see? Visit the ' +\n",
              "            '<a target=\"_blank\" href=https://colab.research.google.com/notebooks/data_table.ipynb>data table notebook</a>'\n",
              "            + ' to learn more about interactive tables.';\n",
              "          element.innerHTML = '';\n",
              "          dataTable['output_type'] = 'display_data';\n",
              "          await google.colab.output.renderOutput(dataTable, element);\n",
              "          const docLink = document.createElement('div');\n",
              "          docLink.innerHTML = docLinkHtml;\n",
              "          element.appendChild(docLink);\n",
              "        }\n",
              "      </script>\n",
              "    </div>\n",
              "  </div>\n",
              "  "
            ]
          },
          "metadata": {},
          "execution_count": 320
        }
      ],
      "source": [
        "df.describe()"
      ]
    },
    {
      "cell_type": "markdown",
      "metadata": {
        "id": "YmHVhn5qVI8V"
      },
      "source": [
        "# **Preprocessing Data**"
      ]
    },
    {
      "cell_type": "markdown",
      "metadata": {
        "id": "FrSUO7icVMPU"
      },
      "source": [
        "## **Data Cleaning: Missing Value Check**"
      ]
    },
    {
      "cell_type": "code",
      "execution_count": null,
      "metadata": {
        "colab": {
          "base_uri": "https://localhost:8080/"
        },
        "id": "HtxlcFTT9b2D",
        "outputId": "4e38d511-2438-45b6-a100-0be7d7f8ca29"
      },
      "outputs": [
        {
          "output_type": "execute_result",
          "data": {
            "text/plain": [
              "sex                    0\n",
              "occupation             0\n",
              "education              0\n",
              "marriage               0\n",
              "household              0\n",
              "income                 0\n",
              "outcome                0\n",
              "income_tm              0\n",
              "outcome_tm             0\n",
              "tm_encode_3            0\n",
              "prior_account          0\n",
              "prior_repay            0\n",
              "credit_limit           0\n",
              "account_balance        0\n",
              "minimun_repay          0\n",
              "consume_count          0\n",
              "account                0\n",
              "adjust_account         0\n",
              "circulated_interest    0\n",
              "avaliable_balance      0\n",
              "cash_limit             0\n",
              "repay_state            0\n",
              "browse_data            0\n",
              "loan_time              0\n",
              "time                   0\n",
              "yu_e                   0\n",
              "yu_e_categery          0\n",
              "yu_e_tm                0\n",
              "yu_e_tm_categery       0\n",
              "label                  0\n",
              "dtype: int64"
            ]
          },
          "metadata": {},
          "execution_count": 385
        }
      ],
      "source": [
        "# preprocessing data\n",
        "# cek mising value\n",
        "df.isnull().sum() "
      ]
    },
    {
      "cell_type": "markdown",
      "metadata": {
        "id": "QHMMdZxb8vjd"
      },
      "source": [
        "Tidak ada missing value pada data"
      ]
    },
    {
      "cell_type": "markdown",
      "metadata": {
        "id": "d6Fn-e-JV-F1"
      },
      "source": [
        "## **Cleaning Data: Outliers Check**"
      ]
    },
    {
      "cell_type": "markdown",
      "metadata": {
        "id": "AK7Ken6noI8G"
      },
      "source": [
        "### **income**"
      ]
    },
    {
      "cell_type": "code",
      "execution_count": null,
      "metadata": {
        "colab": {
          "base_uri": "https://localhost:8080/"
        },
        "id": "gpNhTkSunTkn",
        "outputId": "4f044fad-5d31-4e68-d60d-a0e4b652c5ce"
      },
      "outputs": [
        {
          "output_type": "stream",
          "name": "stderr",
          "text": [
            "/usr/local/lib/python3.9/dist-packages/seaborn/_decorators.py:36: FutureWarning: Pass the following variable as a keyword arg: x. From version 0.12, the only valid positional argument will be `data`, and passing other arguments without an explicit keyword will result in an error or misinterpretation.\n",
            "  warnings.warn(\n"
          ]
        },
        {
          "output_type": "display_data",
          "data": {
            "text/plain": [
              "<Figure size 720x360 with 1 Axes>"
            ],
            "image/png": "[encoded data removed]"
          },
          "metadata": {
            "needs_background": "light"
          }
        }
      ],
      "source": [
        "import matplotlib.pyplot as plt\n",
        "import seaborn as sns\n",
        "plt.figure(figsize = (10, 5))\n",
        "sns.boxplot(df['income'])\n",
        "plt.annotate('Outlier', (df['income'].describe()['max'],0.1), xytext = (df['income'].describe()['max'],0.3),\n",
        "             arrowprops = dict(facecolor = 'blue'), fontsize = 13 )\n",
        "IQR = df['income'].describe()['75%'] - df['income'].describe()['25%']"
      ]
    },
    {
      "cell_type": "code",
      "execution_count": null,
      "metadata": {
        "id": "xTzmzcPfnxza"
      },
      "outputs": [],
      "source": [
        "# Q1, Q3, dan IQR\n",
        "Q1 = df['income'].quantile(0.25)\n",
        "Q3 = df['income'].quantile(0.75)\n",
        "IQR = Q3 - Q1"
      ]
    },
    {
      "cell_type": "code",
      "execution_count": null,
      "metadata": {
        "id": "FJGQmCyKn27n"
      },
      "outputs": [],
      "source": [
        "# Removing outliers\n",
        "df = df[~((df['income'] < (Q1-1.5*IQR)) | (df['income'] > (Q3+1.5*IQR)))]"
      ]
    },
    {
      "cell_type": "code",
      "execution_count": null,
      "metadata": {
        "colab": {
          "base_uri": "https://localhost:8080/"
        },
        "id": "Uu-eGpj-n82E",
        "outputId": "f31af0d7-1c81-4551-f56b-7e7ff9327b7d"
      },
      "outputs": [
        {
          "output_type": "stream",
          "name": "stdout",
          "text": [
            "Shape akhir:  (46303, 30)\n"
          ]
        }
      ],
      "source": [
        "# Check ukuran (baris dan kolom) setelah data yang outliers dibuang\n",
        "print('Shape akhir: ', df.shape)"
      ]
    },
    {
      "cell_type": "markdown",
      "metadata": {
        "id": "3gTETUlu4Iy2"
      },
      "source": [
        "### **tm_encode_3**"
      ]
    },
    {
      "cell_type": "code",
      "execution_count": null,
      "metadata": {
        "colab": {
          "base_uri": "https://localhost:8080/"
        },
        "id": "AJtmI3eE4Iy2",
        "outputId": "19eede3b-249d-487f-b6d7-8e5eb09fe6ee"
      },
      "outputs": [
        {
          "output_type": "stream",
          "name": "stderr",
          "text": [
            "/usr/local/lib/python3.9/dist-packages/seaborn/_decorators.py:36: FutureWarning: Pass the following variable as a keyword arg: x. From version 0.12, the only valid positional argument will be `data`, and passing other arguments without an explicit keyword will result in an error or misinterpretation.\n",
            "  warnings.warn(\n"
          ]
        },
        {
          "output_type": "display_data",
          "data": {
            "text/plain": [
              "<Figure size 720x360 with 1 Axes>"
            ],
            "image/png": "[encoded data removed]"
          },
          "metadata": {
            "needs_background": "light"
          }
        }
      ],
      "source": [
        "import matplotlib.pyplot as plt\n",
        "import seaborn as sns\n",
        "plt.figure(figsize = (10, 5))\n",
        "sns.boxplot(df['tm_encode_3'])\n",
        "plt.annotate('Outlier', (df['tm_encode_3'].describe()['max'],0.1), xytext = (df['tm_encode_3'].describe()['max'],0.3),\n",
        "             arrowprops = dict(facecolor = 'blue'), fontsize = 13 )\n",
        "IQR = df['tm_encode_3'].describe()['75%'] - df['tm_encode_3'].describe()['25%']"
      ]
    },
    {
      "cell_type": "code",
      "execution_count": null,
      "metadata": {
        "id": "Fz6YuwsI4Iy4"
      },
      "outputs": [],
      "source": [
        "# Q1, Q3, dan IQR\n",
        "Q1 = df['tm_encode_3'].quantile(0.25)\n",
        "Q3 = df['tm_encode_3'].quantile(0.75)\n",
        "IQR = Q3 - Q1"
      ]
    },
    {
      "cell_type": "code",
      "execution_count": null,
      "metadata": {
        "id": "wYiYaFl_4Iy5"
      },
      "outputs": [],
      "source": [
        "# Removing outliers\n",
        "df = df[~((df['tm_encode_3'] < (Q1-1.5*IQR)) | (df['tm_encode_3'] > (Q3+1.5*IQR)))]"
      ]
    },
    {
      "cell_type": "code",
      "execution_count": null,
      "metadata": {
        "colab": {
          "base_uri": "https://localhost:8080/"
        },
        "id": "hLl8KEM64Iy6",
        "outputId": "41daf48f-d4d2-4c3d-cb2a-e876ce7ee098"
      },
      "outputs": [
        {
          "output_type": "stream",
          "name": "stdout",
          "text": [
            "Shape akhir:  (35663, 30)\n"
          ]
        }
      ],
      "source": [
        "# Check ukuran (baris dan kolom) setelah data yang outliers dibuang\n",
        "print('Shape akhir: ', df.shape)"
      ]
    },
    {
      "cell_type": "markdown",
      "metadata": {
        "id": "WTwEn-mz5QCh"
      },
      "source": [
        "### **prior_account**"
      ]
    },
    {
      "cell_type": "code",
      "execution_count": null,
      "metadata": {
        "id": "aU4a8YIK5QCi",
        "colab": {
          "base_uri": "https://localhost:8080/"
        },
        "outputId": "03b69185-af6a-43e0-ea72-1ca24dd629c5"
      },
      "outputs": [
        {
          "output_type": "stream",
          "name": "stderr",
          "text": [
            "/usr/local/lib/python3.9/dist-packages/seaborn/_decorators.py:36: FutureWarning: Pass the following variable as a keyword arg: x. From version 0.12, the only valid positional argument will be `data`, and passing other arguments without an explicit keyword will result in an error or misinterpretation.\n",
            "  warnings.warn(\n"
          ]
        },
        {
          "output_type": "display_data",
          "data": {
            "text/plain": [
              "<Figure size 720x360 with 1 Axes>"
            ],
            "image/png": "[encoded data removed]"
          },
          "metadata": {
            "needs_background": "light"
          }
        }
      ],
      "source": [
        "import matplotlib.pyplot as plt\n",
        "import seaborn as sns\n",
        "plt.figure(figsize = (10, 5))\n",
        "sns.boxplot(df['prior_account'])\n",
        "plt.annotate('Outlier', (df['prior_account'].describe()['max'],0.1), xytext = (df['prior_account'].describe()['max'],0.3),\n",
        "             arrowprops = dict(facecolor = 'blue'), fontsize = 13 )\n",
        "IQR = df['prior_account'].describe()['75%'] - df['prior_account'].describe()['25%']"
      ]
    },
    {
      "cell_type": "code",
      "execution_count": null,
      "metadata": {
        "id": "2VEfVs7M5QCj"
      },
      "outputs": [],
      "source": [
        "# Q1, Q3, dan IQR\n",
        "Q1 = df['prior_account'].quantile(0.25)\n",
        "Q3 = df['prior_account'].quantile(0.75)\n",
        "IQR = Q3 - Q1"
      ]
    },
    {
      "cell_type": "code",
      "execution_count": null,
      "metadata": {
        "id": "T--Iddr75QCj"
      },
      "outputs": [],
      "source": [
        "# Removing outliers\n",
        "df = df[~((df['prior_account'] < (Q1-1.5*IQR)) | (df['prior_account'] > (Q3+1.5*IQR)))]"
      ]
    },
    {
      "cell_type": "code",
      "execution_count": null,
      "metadata": {
        "colab": {
          "base_uri": "https://localhost:8080/"
        },
        "id": "gRUOxWgz5QCj",
        "outputId": "e27a0727-ac27-4f22-cda3-40e21c7d03c1"
      },
      "outputs": [
        {
          "output_type": "stream",
          "name": "stdout",
          "text": [
            "Shape akhir:  (35480, 30)\n"
          ]
        }
      ],
      "source": [
        "# Check ukuran (baris dan kolom) setelah data yang outliers dibuang\n",
        "print('Shape akhir: ', df.shape)"
      ]
    },
    {
      "cell_type": "markdown",
      "metadata": {
        "id": "k_uzHBHJ5qEQ"
      },
      "source": [
        "### **credit_limit**"
      ]
    },
    {
      "cell_type": "code",
      "execution_count": null,
      "metadata": {
        "id": "kTDUACMM5qES",
        "colab": {
          "base_uri": "https://localhost:8080/"
        },
        "outputId": "531b4715-a1ab-4a99-9512-a4d05679f149"
      },
      "outputs": [
        {
          "output_type": "stream",
          "name": "stderr",
          "text": [
            "/usr/local/lib/python3.9/dist-packages/seaborn/_decorators.py:36: FutureWarning: Pass the following variable as a keyword arg: x. From version 0.12, the only valid positional argument will be `data`, and passing other arguments without an explicit keyword will result in an error or misinterpretation.\n",
            "  warnings.warn(\n"
          ]
        },
        {
          "output_type": "display_data",
          "data": {
            "text/plain": [
              "<Figure size 720x360 with 1 Axes>"
            ],
            "image/png": "[encoded data removed]"
          },
          "metadata": {
            "needs_background": "light"
          }
        }
      ],
      "source": [
        "import matplotlib.pyplot as plt\n",
        "import seaborn as sns\n",
        "plt.figure(figsize = (10, 5))\n",
        "sns.boxplot(df['credit_limit'])\n",
        "plt.annotate('Outlier', (df['credit_limit'].describe()['max'],0.1), xytext = (df['credit_limit'].describe()['max'],0.3),\n",
        "             arrowprops = dict(facecolor = 'blue'), fontsize = 13 )\n",
        "IQR = df['credit_limit'].describe()['75%'] - df['credit_limit'].describe()['25%']"
      ]
    },
    {
      "cell_type": "code",
      "execution_count": null,
      "metadata": {
        "id": "kdyIhq0s5qEV"
      },
      "outputs": [],
      "source": [
        "# Q1, Q3, dan IQR\n",
        "Q1 = df['credit_limit'].quantile(0.25)\n",
        "Q3 = df['credit_limit'].quantile(0.75)\n",
        "IQR = Q3 - Q1"
      ]
    },
    {
      "cell_type": "code",
      "execution_count": null,
      "metadata": {
        "id": "rtbxEm025qEX"
      },
      "outputs": [],
      "source": [
        "# Removing outliers\n",
        "df = df[~((df['credit_limit'] < (Q1-1.5*IQR)) | (df['credit_limit'] > (Q3+1.5*IQR)))]"
      ]
    },
    {
      "cell_type": "code",
      "execution_count": null,
      "metadata": {
        "colab": {
          "base_uri": "https://localhost:8080/"
        },
        "id": "nk5ZNuFU-fZ3",
        "outputId": "5f4559d5-9c81-457f-efec-18f3fccef908"
      },
      "outputs": [
        {
          "output_type": "stream",
          "name": "stdout",
          "text": [
            "Shape akhir:  (32283, 30)\n"
          ]
        }
      ],
      "source": [
        "# Check ukuran (baris dan kolom) setelah data yang outliers dibuang\n",
        "print('Shape akhir: ', df.shape)"
      ]
    },
    {
      "cell_type": "markdown",
      "metadata": {
        "id": "UVgdctWi5-LD"
      },
      "source": [
        "### **account_balance**"
      ]
    },
    {
      "cell_type": "code",
      "execution_count": null,
      "metadata": {
        "id": "AXq39CI85-LE",
        "colab": {
          "base_uri": "https://localhost:8080/"
        },
        "outputId": "cf880b8b-b81d-42fc-de54-c91f18e70e02"
      },
      "outputs": [
        {
          "output_type": "stream",
          "name": "stderr",
          "text": [
            "/usr/local/lib/python3.9/dist-packages/seaborn/_decorators.py:36: FutureWarning: Pass the following variable as a keyword arg: x. From version 0.12, the only valid positional argument will be `data`, and passing other arguments without an explicit keyword will result in an error or misinterpretation.\n",
            "  warnings.warn(\n"
          ]
        },
        {
          "output_type": "display_data",
          "data": {
            "text/plain": [
              "<Figure size 720x360 with 1 Axes>"
            ],
            "image/png": "[encoded data removed]"
          },
          "metadata": {
            "needs_background": "light"
          }
        }
      ],
      "source": [
        "import matplotlib.pyplot as plt\n",
        "import seaborn as sns\n",
        "plt.figure(figsize = (10, 5))\n",
        "sns.boxplot(df['account_balance'])\n",
        "plt.annotate('Outlier', (df['account_balance'].describe()['max'],0.1), xytext = (df['account_balance'].describe()['max'],0.3),\n",
        "             arrowprops = dict(facecolor = 'blue'), fontsize = 13 )\n",
        "IQR = df['account_balance'].describe()['75%'] - df['account_balance'].describe()['25%']"
      ]
    },
    {
      "cell_type": "code",
      "execution_count": null,
      "metadata": {
        "id": "lkq1zWgZ5-LF"
      },
      "outputs": [],
      "source": [
        "# Q1, Q3, dan IQR\n",
        "Q1 = df['account_balance'].quantile(0.25)\n",
        "Q3 = df['account_balance'].quantile(0.75)\n",
        "IQR = Q3 - Q1"
      ]
    },
    {
      "cell_type": "code",
      "execution_count": null,
      "metadata": {
        "id": "ohG-biBQ5-LF"
      },
      "outputs": [],
      "source": [
        "# Removing outliers\n",
        "df = df[~((df['account_balance'] < (Q1-1.5*IQR)) | (df['account_balance'] > (Q3+1.5*IQR)))]"
      ]
    },
    {
      "cell_type": "code",
      "execution_count": null,
      "metadata": {
        "colab": {
          "base_uri": "https://localhost:8080/"
        },
        "id": "KhxsxiWz5-LF",
        "outputId": "e8a42ad4-15fc-47d8-c535-6c502164b2cb"
      },
      "outputs": [
        {
          "output_type": "stream",
          "name": "stdout",
          "text": [
            "Shape akhir:  (29159, 30)\n"
          ]
        }
      ],
      "source": [
        "# Check ukuran (baris dan kolom) setelah data yang outliers dibuang\n",
        "print('Shape akhir: ', df.shape)"
      ]
    },
    {
      "cell_type": "markdown",
      "metadata": {
        "id": "XDdxotlJ6Rrm"
      },
      "source": [
        "### **minimun_repay**"
      ]
    },
    {
      "cell_type": "code",
      "execution_count": null,
      "metadata": {
        "id": "Bjca3j-56Rrm",
        "colab": {
          "base_uri": "https://localhost:8080/"
        },
        "outputId": "c94ad7ec-1713-47a4-8002-8331af5d9e40"
      },
      "outputs": [
        {
          "output_type": "stream",
          "name": "stderr",
          "text": [
            "/usr/local/lib/python3.9/dist-packages/seaborn/_decorators.py:36: FutureWarning: Pass the following variable as a keyword arg: x. From version 0.12, the only valid positional argument will be `data`, and passing other arguments without an explicit keyword will result in an error or misinterpretation.\n",
            "  warnings.warn(\n"
          ]
        },
        {
          "output_type": "display_data",
          "data": {
            "text/plain": [
              "<Figure size 720x360 with 1 Axes>"
            ],
            "image/png": "[encoded data removed]"
          },
          "metadata": {
            "needs_background": "light"
          }
        }
      ],
      "source": [
        "import matplotlib.pyplot as plt\n",
        "import seaborn as sns\n",
        "plt.figure(figsize = (10, 5))\n",
        "sns.boxplot(df['minimun_repay'])\n",
        "plt.annotate('Outlier', (df['minimun_repay'].describe()['max'],0.1), xytext = (df['minimun_repay'].describe()['max'],0.3),\n",
        "             arrowprops = dict(facecolor = 'blue'), fontsize = 13 )\n",
        "IQR = df['minimun_repay'].describe()['75%'] - df['minimun_repay'].describe()['25%']"
      ]
    },
    {
      "cell_type": "code",
      "execution_count": null,
      "metadata": {
        "id": "ZEG9pb_86Rrm"
      },
      "outputs": [],
      "source": [
        "# Q1, Q3, dan IQR\n",
        "Q1 = df['minimun_repay'].quantile(0.25)\n",
        "Q3 = df['minimun_repay'].quantile(0.75)\n",
        "IQR = Q3 - Q1"
      ]
    },
    {
      "cell_type": "code",
      "execution_count": null,
      "metadata": {
        "id": "ZKUXPjIj6Rrn"
      },
      "outputs": [],
      "source": [
        "# Removing outliers\n",
        "df = df[~((df['minimun_repay'] < (Q1-1.5*IQR)) | (df['minimun_repay'] > (Q3+1.5*IQR)))]"
      ]
    },
    {
      "cell_type": "code",
      "execution_count": null,
      "metadata": {
        "colab": {
          "base_uri": "https://localhost:8080/"
        },
        "id": "Yh0uuRK56Rrn",
        "outputId": "ceb3b7c2-b75c-4df3-84b6-01214eff4121"
      },
      "outputs": [
        {
          "output_type": "stream",
          "name": "stdout",
          "text": [
            "Shape akhir:  (28157, 30)\n"
          ]
        }
      ],
      "source": [
        "# Check ukuran (baris dan kolom) setelah data yang outliers dibuang\n",
        "print('Shape akhir: ', df.shape)"
      ]
    },
    {
      "cell_type": "markdown",
      "metadata": {
        "id": "JIAXfXFG60T-"
      },
      "source": [
        "### **consume_count**"
      ]
    },
    {
      "cell_type": "code",
      "execution_count": null,
      "metadata": {
        "id": "VEhd1xfS60UA",
        "colab": {
          "base_uri": "https://localhost:8080/"
        },
        "outputId": "db0e5a88-84ba-48fb-d0d2-23b88d37b828"
      },
      "outputs": [
        {
          "output_type": "stream",
          "name": "stderr",
          "text": [
            "/usr/local/lib/python3.9/dist-packages/seaborn/_decorators.py:36: FutureWarning: Pass the following variable as a keyword arg: x. From version 0.12, the only valid positional argument will be `data`, and passing other arguments without an explicit keyword will result in an error or misinterpretation.\n",
            "  warnings.warn(\n"
          ]
        },
        {
          "output_type": "display_data",
          "data": {
            "text/plain": [
              "<Figure size 720x360 with 1 Axes>"
            ],
            "image/png": "[encoded data removed]"
          },
          "metadata": {
            "needs_background": "light"
          }
        }
      ],
      "source": [
        "import matplotlib.pyplot as plt\n",
        "import seaborn as sns\n",
        "plt.figure(figsize = (10, 5))\n",
        "sns.boxplot(df['consume_count'])\n",
        "plt.annotate('Outlier', (df['consume_count'].describe()['max'],0.1), xytext = (df['consume_count'].describe()['max'],0.3),\n",
        "             arrowprops = dict(facecolor = 'blue'), fontsize = 13 )\n",
        "IQR = df['consume_count'].describe()['75%'] - df['consume_count'].describe()['25%']"
      ]
    },
    {
      "cell_type": "code",
      "execution_count": null,
      "metadata": {
        "id": "bmgH0MPA60UA"
      },
      "outputs": [],
      "source": [
        "# Q1, Q3, dan IQR\n",
        "Q1 = df['consume_count'].quantile(0.25)\n",
        "Q3 = df['consume_count'].quantile(0.75)\n",
        "IQR = Q3 - Q1"
      ]
    },
    {
      "cell_type": "code",
      "execution_count": null,
      "metadata": {
        "id": "aWpTXfO760UB"
      },
      "outputs": [],
      "source": [
        "# Removing outliers\n",
        "df = df[~((df['consume_count'] < (Q1-1.5*IQR)) | (df['consume_count'] > (Q3+1.5*IQR)))]"
      ]
    },
    {
      "cell_type": "code",
      "execution_count": null,
      "metadata": {
        "colab": {
          "base_uri": "https://localhost:8080/"
        },
        "id": "yCt0y6OH60UB",
        "outputId": "2ae2b5ea-ba65-4517-8e4f-bc71c5bb44c3"
      },
      "outputs": [
        {
          "output_type": "stream",
          "name": "stdout",
          "text": [
            "Shape akhir:  (26570, 30)\n"
          ]
        }
      ],
      "source": [
        "# Check ukuran (baris dan kolom) setelah data yang outliers dibuang\n",
        "print('Shape akhir: ', df.shape)"
      ]
    },
    {
      "cell_type": "markdown",
      "metadata": {
        "id": "tYBpi1Qo7Z_N"
      },
      "source": [
        "### **adjust_account**"
      ]
    },
    {
      "cell_type": "code",
      "execution_count": null,
      "metadata": {
        "id": "f_f8ig7d7Z_O",
        "colab": {
          "base_uri": "https://localhost:8080/"
        },
        "outputId": "d10cbc06-4859-4805-a508-5f9deac483fc"
      },
      "outputs": [
        {
          "output_type": "stream",
          "name": "stderr",
          "text": [
            "/usr/local/lib/python3.9/dist-packages/seaborn/_decorators.py:36: FutureWarning: Pass the following variable as a keyword arg: x. From version 0.12, the only valid positional argument will be `data`, and passing other arguments without an explicit keyword will result in an error or misinterpretation.\n",
            "  warnings.warn(\n"
          ]
        },
        {
          "output_type": "display_data",
          "data": {
            "text/plain": [
              "<Figure size 720x360 with 1 Axes>"
            ],
            "image/png": "[encoded data removed]"
          },
          "metadata": {
            "needs_background": "light"
          }
        }
      ],
      "source": [
        "import matplotlib.pyplot as plt\n",
        "import seaborn as sns\n",
        "plt.figure(figsize = (10, 5))\n",
        "sns.boxplot(df['adjust_account'])\n",
        "plt.annotate('Outlier', (df['adjust_account'].describe()['max'],0.1), xytext = (df['adjust_account'].describe()['max'],0.3),\n",
        "             arrowprops = dict(facecolor = 'blue'), fontsize = 13 )\n",
        "IQR = df['adjust_account'].describe()['75%'] - df['adjust_account'].describe()['25%']"
      ]
    },
    {
      "cell_type": "code",
      "execution_count": null,
      "metadata": {
        "id": "00bHP3MZ7Z_P"
      },
      "outputs": [],
      "source": [
        "# Q1, Q3, dan IQR\n",
        "Q1 = df['adjust_account'].quantile(0.25)\n",
        "Q3 = df['adjust_account'].quantile(0.75)\n",
        "IQR = Q3 - Q1"
      ]
    },
    {
      "cell_type": "code",
      "execution_count": null,
      "metadata": {
        "id": "CpHSito57Z_P"
      },
      "outputs": [],
      "source": [
        "# Removing outliers\n",
        "df = df[~((df['adjust_account'] < (Q1-1.5*IQR)) | (df['adjust_account'] > (Q3+1.5*IQR)))]"
      ]
    },
    {
      "cell_type": "code",
      "execution_count": null,
      "metadata": {
        "colab": {
          "base_uri": "https://localhost:8080/"
        },
        "id": "xeh9Ial47Z_P",
        "outputId": "24553132-9f2d-4fdd-b384-f7526b700438"
      },
      "outputs": [
        {
          "output_type": "stream",
          "name": "stdout",
          "text": [
            "Shape akhir:  (22564, 30)\n"
          ]
        }
      ],
      "source": [
        "# Check ukuran (baris dan kolom) setelah data yang outliers dibuang\n",
        "print('Shape akhir: ', df.shape)"
      ]
    },
    {
      "cell_type": "markdown",
      "metadata": {
        "id": "-nZhfHleAlE9"
      },
      "source": [
        "### **circulated_interest**"
      ]
    },
    {
      "cell_type": "code",
      "execution_count": null,
      "metadata": {
        "id": "a4-TdXs4AlE9",
        "colab": {
          "base_uri": "https://localhost:8080/"
        },
        "outputId": "16fb5823-c5fa-42e8-be08-0be6976cfcba"
      },
      "outputs": [
        {
          "output_type": "stream",
          "name": "stderr",
          "text": [
            "/usr/local/lib/python3.9/dist-packages/seaborn/_decorators.py:36: FutureWarning: Pass the following variable as a keyword arg: x. From version 0.12, the only valid positional argument will be `data`, and passing other arguments without an explicit keyword will result in an error or misinterpretation.\n",
            "  warnings.warn(\n"
          ]
        },
        {
          "output_type": "display_data",
          "data": {
            "text/plain": [
              "<Figure size 720x360 with 1 Axes>"
            ],
            "image/png": "[encoded data removed]"
          },
          "metadata": {
            "needs_background": "light"
          }
        }
      ],
      "source": [
        "import matplotlib.pyplot as plt\n",
        "import seaborn as sns\n",
        "plt.figure(figsize = (10, 5))\n",
        "sns.boxplot(df['circulated_interest'])\n",
        "plt.annotate('Outlier', (df['circulated_interest'].describe()['max'],0.1), xytext = (df['circulated_interest'].describe()['max'],0.3),\n",
        "             arrowprops = dict(facecolor = 'blue'), fontsize = 13 )\n",
        "IQR = df['circulated_interest'].describe()['75%'] - df['circulated_interest'].describe()['25%']"
      ]
    },
    {
      "cell_type": "code",
      "execution_count": null,
      "metadata": {
        "id": "t4rl0mv_AlE-"
      },
      "outputs": [],
      "source": [
        "# Q1, Q3, dan IQR\n",
        "Q1 = df['circulated_interest'].quantile(0.25)\n",
        "Q3 = df['circulated_interest'].quantile(0.75)\n",
        "IQR = Q3 - Q1"
      ]
    },
    {
      "cell_type": "code",
      "execution_count": null,
      "metadata": {
        "id": "VlF1bnrVAlE_"
      },
      "outputs": [],
      "source": [
        "# Removing outliers\n",
        "df = df[~((df['circulated_interest'] < (Q1-1.5*IQR)) | (df['circulated_interest'] > (Q3+1.5*IQR)))]"
      ]
    },
    {
      "cell_type": "code",
      "execution_count": null,
      "metadata": {
        "id": "ZLuVqVfkAlE_",
        "colab": {
          "base_uri": "https://localhost:8080/"
        },
        "outputId": "4de6811c-15af-4f15-c321-298cbd91289d"
      },
      "outputs": [
        {
          "output_type": "stream",
          "name": "stdout",
          "text": [
            "Shape akhir:  (18227, 30)\n"
          ]
        }
      ],
      "source": [
        "# Check ukuran (baris dan kolom) setelah data yang outliers dibuang\n",
        "print('Shape akhir: ', df.shape)"
      ]
    },
    {
      "cell_type": "markdown",
      "metadata": {
        "id": "ZH-J7VLdA11E"
      },
      "source": [
        "### **avaliable_balance**"
      ]
    },
    {
      "cell_type": "code",
      "execution_count": null,
      "metadata": {
        "id": "2oqwzkq0A11F",
        "colab": {
          "base_uri": "https://localhost:8080/"
        },
        "outputId": "862b7341-45be-4cc4-c02f-5066366af9ea"
      },
      "outputs": [
        {
          "output_type": "stream",
          "name": "stderr",
          "text": [
            "/usr/local/lib/python3.9/dist-packages/seaborn/_decorators.py:36: FutureWarning: Pass the following variable as a keyword arg: x. From version 0.12, the only valid positional argument will be `data`, and passing other arguments without an explicit keyword will result in an error or misinterpretation.\n",
            "  warnings.warn(\n"
          ]
        },
        {
          "output_type": "display_data",
          "data": {
            "text/plain": [
              "<Figure size 720x360 with 1 Axes>"
            ],
            "image/png": "[encoded data removed]"
          },
          "metadata": {
            "needs_background": "light"
          }
        }
      ],
      "source": [
        "import matplotlib.pyplot as plt\n",
        "import seaborn as sns\n",
        "plt.figure(figsize = (10, 5))\n",
        "sns.boxplot(df['avaliable_balance'])\n",
        "plt.annotate('Outlier', (df['avaliable_balance'].describe()['max'],0.1), xytext = (df['avaliable_balance'].describe()['max'],0.3),\n",
        "             arrowprops = dict(facecolor = 'blue'), fontsize = 13 )\n",
        "IQR = df['avaliable_balance'].describe()['75%'] - df['avaliable_balance'].describe()['25%']"
      ]
    },
    {
      "cell_type": "code",
      "execution_count": null,
      "metadata": {
        "id": "-XWRkLNiA11F"
      },
      "outputs": [],
      "source": [
        "# Q1, Q3, dan IQR\n",
        "Q1 = df['avaliable_balance'].quantile(0.25)\n",
        "Q3 = df['avaliable_balance'].quantile(0.75)\n",
        "IQR = Q3 - Q1"
      ]
    },
    {
      "cell_type": "code",
      "execution_count": null,
      "metadata": {
        "id": "2oR8yGDnA11F"
      },
      "outputs": [],
      "source": [
        "# Removing outliers\n",
        "df = df[~((df['avaliable_balance'] < (Q1-1.5*IQR)) | (df['avaliable_balance'] > (Q3+1.5*IQR)))]"
      ]
    },
    {
      "cell_type": "code",
      "execution_count": null,
      "metadata": {
        "id": "hpO3vYEpA11G",
        "colab": {
          "base_uri": "https://localhost:8080/"
        },
        "outputId": "37bcfcbd-2a6d-4e3f-fda3-50644ec007b4"
      },
      "outputs": [
        {
          "output_type": "stream",
          "name": "stdout",
          "text": [
            "Shape akhir:  (16630, 30)\n"
          ]
        }
      ],
      "source": [
        "# Check ukuran (baris dan kolom) setelah data yang outliers dibuang\n",
        "print('Shape akhir: ', df.shape)"
      ]
    },
    {
      "cell_type": "markdown",
      "metadata": {
        "id": "mQE3Obh1BKfL"
      },
      "source": [
        "### **repay_state**"
      ]
    },
    {
      "cell_type": "code",
      "execution_count": null,
      "metadata": {
        "id": "e7x3blrcBKfL",
        "colab": {
          "base_uri": "https://localhost:8080/"
        },
        "outputId": "3d1dd9d5-3936-4aa2-c345-031b4d5e58f7"
      },
      "outputs": [
        {
          "output_type": "stream",
          "name": "stderr",
          "text": [
            "/usr/local/lib/python3.9/dist-packages/seaborn/_decorators.py:36: FutureWarning: Pass the following variable as a keyword arg: x. From version 0.12, the only valid positional argument will be `data`, and passing other arguments without an explicit keyword will result in an error or misinterpretation.\n",
            "  warnings.warn(\n"
          ]
        },
        {
          "output_type": "display_data",
          "data": {
            "text/plain": [
              "<Figure size 720x360 with 1 Axes>"
            ],
            "image/png": "[encoded data removed]"
          },
          "metadata": {
            "needs_background": "light"
          }
        }
      ],
      "source": [
        "import matplotlib.pyplot as plt\n",
        "import seaborn as sns\n",
        "plt.figure(figsize = (10, 5))\n",
        "sns.boxplot(df['repay_state'])\n",
        "plt.annotate('Outlier', (df['repay_state'].describe()['max'],0.1), xytext = (df['repay_state'].describe()['max'],0.3),\n",
        "             arrowprops = dict(facecolor = 'blue'), fontsize = 13 )\n",
        "IQR = df['repay_state'].describe()['75%'] - df['repay_state'].describe()['25%']"
      ]
    },
    {
      "cell_type": "code",
      "execution_count": null,
      "metadata": {
        "id": "Sq6L5uhqBKfM"
      },
      "outputs": [],
      "source": [
        "# Q1, Q3, dan IQR\n",
        "Q1 = df['repay_state'].quantile(0.25)\n",
        "Q3 = df['repay_state'].quantile(0.75)\n",
        "IQR = Q3 - Q1"
      ]
    },
    {
      "cell_type": "code",
      "execution_count": null,
      "metadata": {
        "id": "WyEgJT0iBKfM"
      },
      "outputs": [],
      "source": [
        "# Removing outliers\n",
        "df = df[~((df['repay_state'] < (Q1-1.5*IQR)) | (df['repay_state'] > (Q3+1.5*IQR)))]"
      ]
    },
    {
      "cell_type": "code",
      "execution_count": null,
      "metadata": {
        "id": "ES8naJ5ZBKfM",
        "colab": {
          "base_uri": "https://localhost:8080/"
        },
        "outputId": "afc7868c-7437-441a-b0c5-40aca3241196"
      },
      "outputs": [
        {
          "output_type": "stream",
          "name": "stdout",
          "text": [
            "Shape akhir:  (16618, 30)\n"
          ]
        }
      ],
      "source": [
        "# Check ukuran (baris dan kolom) setelah data yang outliers dibuang\n",
        "print('Shape akhir: ', df.shape)"
      ]
    },
    {
      "cell_type": "markdown",
      "metadata": {
        "id": "uQEiW_LKBsI8"
      },
      "source": [
        "### **browse_data**"
      ]
    },
    {
      "cell_type": "code",
      "execution_count": null,
      "metadata": {
        "id": "pgWdP7YzBsI8",
        "colab": {
          "base_uri": "https://localhost:8080/"
        },
        "outputId": "22e7c530-4234-4952-9d6c-ee908755dd19"
      },
      "outputs": [
        {
          "output_type": "stream",
          "name": "stderr",
          "text": [
            "/usr/local/lib/python3.9/dist-packages/seaborn/_decorators.py:36: FutureWarning: Pass the following variable as a keyword arg: x. From version 0.12, the only valid positional argument will be `data`, and passing other arguments without an explicit keyword will result in an error or misinterpretation.\n",
            "  warnings.warn(\n"
          ]
        },
        {
          "output_type": "display_data",
          "data": {
            "text/plain": [
              "<Figure size 720x360 with 1 Axes>"
            ],
            "image/png": "[encoded data removed]"
          },
          "metadata": {
            "needs_background": "light"
          }
        }
      ],
      "source": [
        "import matplotlib.pyplot as plt\n",
        "import seaborn as sns\n",
        "plt.figure(figsize = (10, 5))\n",
        "sns.boxplot(df['browse_data'])\n",
        "plt.annotate('Outlier', (df['browse_data'].describe()['max'],0.1), xytext = (df['browse_data'].describe()['max'],0.3),\n",
        "             arrowprops = dict(facecolor = 'blue'), fontsize = 13 )\n",
        "IQR = df['browse_data'].describe()['75%'] - df['browse_data'].describe()['25%']"
      ]
    },
    {
      "cell_type": "code",
      "execution_count": null,
      "metadata": {
        "id": "vS7RXXI3BsI9"
      },
      "outputs": [],
      "source": [
        "# Q1, Q3, dan IQR\n",
        "Q1 = df['browse_data'].quantile(0.25)\n",
        "Q3 = df['browse_data'].quantile(0.75)\n",
        "IQR = Q3 - Q1"
      ]
    },
    {
      "cell_type": "code",
      "execution_count": null,
      "metadata": {
        "id": "iFGdZsHuBsI-"
      },
      "outputs": [],
      "source": [
        "# Removing outliers\n",
        "df = df[~((df['browse_data'] < (Q1-1.5*IQR)) | (df['browse_data'] > (Q3+1.5*IQR)))]"
      ]
    },
    {
      "cell_type": "code",
      "execution_count": null,
      "metadata": {
        "id": "h8kT_xw-BsI-",
        "colab": {
          "base_uri": "https://localhost:8080/"
        },
        "outputId": "f16e31e7-d190-463b-a80d-434b4614f526"
      },
      "outputs": [
        {
          "output_type": "stream",
          "name": "stdout",
          "text": [
            "Shape akhir:  (15425, 30)\n"
          ]
        }
      ],
      "source": [
        "# Check ukuran (baris dan kolom) setelah data yang outliers dibuang\n",
        "print('Shape akhir: ', df.shape)"
      ]
    },
    {
      "cell_type": "markdown",
      "metadata": {
        "id": "NLy7avlNCD5c"
      },
      "source": [
        "### **loan_time**"
      ]
    },
    {
      "cell_type": "code",
      "execution_count": null,
      "metadata": {
        "id": "vZlUe3vKCD5d",
        "colab": {
          "base_uri": "https://localhost:8080/"
        },
        "outputId": "45814acf-480d-4a60-aea5-b84b4f13e8e3"
      },
      "outputs": [
        {
          "output_type": "stream",
          "name": "stderr",
          "text": [
            "/usr/local/lib/python3.9/dist-packages/seaborn/_decorators.py:36: FutureWarning: Pass the following variable as a keyword arg: x. From version 0.12, the only valid positional argument will be `data`, and passing other arguments without an explicit keyword will result in an error or misinterpretation.\n",
            "  warnings.warn(\n"
          ]
        },
        {
          "output_type": "display_data",
          "data": {
            "text/plain": [
              "<Figure size 720x360 with 1 Axes>"
            ],
            "image/png": "[encoded data removed]"
          },
          "metadata": {
            "needs_background": "light"
          }
        }
      ],
      "source": [
        "import matplotlib.pyplot as plt\n",
        "import seaborn as sns\n",
        "plt.figure(figsize = (10, 5))\n",
        "sns.boxplot(df['loan_time'])\n",
        "plt.annotate('Outlier', (df['loan_time'].describe()['max'],0.1), xytext = (df['loan_time'].describe()['max'],0.3),\n",
        "             arrowprops = dict(facecolor = 'blue'), fontsize = 13 )\n",
        "IQR = df['loan_time'].describe()['75%'] - df['loan_time'].describe()['25%']"
      ]
    },
    {
      "cell_type": "code",
      "execution_count": null,
      "metadata": {
        "id": "M8Ljle_7CD5d"
      },
      "outputs": [],
      "source": [
        "# Q1, Q3, dan IQR\n",
        "Q1 = df['loan_time'].quantile(0.25)\n",
        "Q3 = df['loan_time'].quantile(0.75)\n",
        "IQR = Q3 - Q1"
      ]
    },
    {
      "cell_type": "code",
      "execution_count": null,
      "metadata": {
        "id": "bRzqDH2YCD5e"
      },
      "outputs": [],
      "source": [
        "# Removing outliers\n",
        "df = df[~((df['loan_time'] < (Q1-1.5*IQR)) | (df['loan_time'] > (Q3+1.5*IQR)))]"
      ]
    },
    {
      "cell_type": "code",
      "execution_count": null,
      "metadata": {
        "id": "m3U5fyCMCD5e",
        "colab": {
          "base_uri": "https://localhost:8080/"
        },
        "outputId": "21fa7cd5-b627-48e9-bd92-5c35aa9f4cf4"
      },
      "outputs": [
        {
          "output_type": "stream",
          "name": "stdout",
          "text": [
            "Shape akhir:  (15024, 30)\n"
          ]
        }
      ],
      "source": [
        "# Check ukuran (baris dan kolom) setelah data yang outliers dibuang\n",
        "print('Shape akhir: ', df.shape)"
      ]
    },
    {
      "cell_type": "markdown",
      "metadata": {
        "id": "IeaP-MhLCfwz"
      },
      "source": [
        "### **time**"
      ]
    },
    {
      "cell_type": "code",
      "execution_count": null,
      "metadata": {
        "id": "-J1Nwv-rCfw0",
        "colab": {
          "base_uri": "https://localhost:8080/"
        },
        "outputId": "a0a8b69f-287f-4689-be65-b6e5b71c04cd"
      },
      "outputs": [
        {
          "output_type": "stream",
          "name": "stderr",
          "text": [
            "/usr/local/lib/python3.9/dist-packages/seaborn/_decorators.py:36: FutureWarning: Pass the following variable as a keyword arg: x. From version 0.12, the only valid positional argument will be `data`, and passing other arguments without an explicit keyword will result in an error or misinterpretation.\n",
            "  warnings.warn(\n"
          ]
        },
        {
          "output_type": "display_data",
          "data": {
            "text/plain": [
              "<Figure size 720x360 with 1 Axes>"
            ],
            "image/png": "[encoded data removed]"
          },
          "metadata": {
            "needs_background": "light"
          }
        }
      ],
      "source": [
        "import matplotlib.pyplot as plt\n",
        "import seaborn as sns\n",
        "plt.figure(figsize = (10, 5))\n",
        "sns.boxplot(df['time'])\n",
        "plt.annotate('Outlier', (df['time'].describe()['max'],0.1), xytext = (df['time'].describe()['max'],0.3),\n",
        "             arrowprops = dict(facecolor = 'blue'), fontsize = 13 )\n",
        "IQR = df['time'].describe()['75%'] - df['time'].describe()['25%']"
      ]
    },
    {
      "cell_type": "code",
      "execution_count": null,
      "metadata": {
        "id": "DOfw7X06Cfw0"
      },
      "outputs": [],
      "source": [
        "# Q1, Q3, dan IQR\n",
        "Q1 = df['time'].quantile(0.25)\n",
        "Q3 = df['time'].quantile(0.75)\n",
        "IQR = Q3 - Q1"
      ]
    },
    {
      "cell_type": "code",
      "execution_count": null,
      "metadata": {
        "id": "g3P96GSjCfw0"
      },
      "outputs": [],
      "source": [
        "# Removing outliers\n",
        "df = df[~((df['time'] < (Q1-1.5*IQR)) | (df['time'] > (Q3+1.5*IQR)))]"
      ]
    },
    {
      "cell_type": "code",
      "execution_count": null,
      "metadata": {
        "id": "5sDv_PfgCfw1",
        "colab": {
          "base_uri": "https://localhost:8080/"
        },
        "outputId": "f147e6bc-d7dc-4d1b-e934-59901f62cdda"
      },
      "outputs": [
        {
          "output_type": "stream",
          "name": "stdout",
          "text": [
            "Shape akhir:  (14563, 30)\n"
          ]
        }
      ],
      "source": [
        "# Check ukuran (baris dan kolom) setelah data yang outliers dibuang\n",
        "print('Shape akhir: ', df.shape)"
      ]
    },
    {
      "cell_type": "markdown",
      "metadata": {
        "id": "UiVGU4DhoN3Y"
      },
      "source": [
        "# **SMOTE**"
      ]
    },
    {
      "cell_type": "code",
      "execution_count": null,
      "metadata": {
        "id": "NLzKQd0B-9_X"
      },
      "outputs": [],
      "source": [
        "#over sampling data SMOTE\n",
        "loan_data = df\n",
        "X = loan_data.drop(['label'], axis=1)\n",
        "y = loan_data['label']\n",
        "\n",
        "from imblearn.over_sampling import SMOTE\n",
        "sm = SMOTE(random_state=42)\n",
        "X_sm, y_sm = sm.fit_resample(X,y)\n",
        "\n",
        "loan_datas = X_sm\n",
        "loan_datas['label'] = y_sm"
      ]
    },
    {
      "cell_type": "code",
      "execution_count": null,
      "metadata": {
        "colab": {
          "base_uri": "https://localhost:8080/"
        },
        "id": "SOpPTDUr_Hvm",
        "outputId": "f0d1f280-5cfb-44a4-c01e-eed654b43643"
      },
      "outputs": [
        {
          "output_type": "display_data",
          "data": {
            "text/plain": [
              "<Figure size 560x320 with 1 Axes>"
            ],
            "image/png": "[encoded data removed]"
          },
          "metadata": {
            "needs_background": "light"
          }
        },
        {
          "output_type": "stream",
          "name": "stdout",
          "text": [
            "Data before over-sampling\n",
            "0    12814\n",
            "1     1749\n",
            "Name: label, dtype: int64 \n",
            "\n",
            "Data after over-sampling\n",
            "0    12814\n",
            "1    12814\n",
            "Name: label, dtype: int64\n"
          ]
        }
      ],
      "source": [
        "#melihat hasil dari Over Sampling SMOTE\n",
        "import numpy as np\n",
        "import matplotlib.pyplot as plt\n",
        "height = y_sm.value_counts()\n",
        "labels = ( '0', '1')\n",
        "y_pos = np.arange(len(labels))\n",
        "\n",
        "plt.figure(figsize=(7,4), dpi=80)\n",
        "plt.ylim(0,600)\n",
        "plt.title('loan_status distribution', fontweight='bold')\n",
        "plt.xlabel('loan_status', fontweight='bold')\n",
        "plt.ylabel('count', fontweight='bold')\n",
        "plt.bar(y_pos, height, color=['deepskyblue', 'royalblue'])\n",
        "plt.xticks(y_pos, labels)\n",
        "plt.show()\n",
        "\n",
        "print(\"Data before over-sampling\")\n",
        "print(df['label'].value_counts(), \"\\n\")\n",
        "\n",
        "print(\"Data after over-sampling\")\n",
        "print(loan_datas['label'].value_counts())"
      ]
    },
    {
      "cell_type": "code",
      "execution_count": null,
      "metadata": {
        "colab": {
          "base_uri": "https://localhost:8080/"
        },
        "id": "kh22dm0eIXl-",
        "outputId": "0dd73184-562f-4df6-d9b8-d32278b312c3"
      },
      "outputs": [
        {
          "output_type": "execute_result",
          "data": {
            "text/plain": [
              "       sex  occupation  education  marriage  household  income  outcome  \\\n",
              "0        1           2          3         1          1     0.0      0.0   \n",
              "1        1           2          3         1          1     0.0      0.0   \n",
              "2        1           2          4         1          4     0.0      0.0   \n",
              "3        1           2          4         2          4     0.0      0.0   \n",
              "4        2           2          3         1          4     0.0      0.0   \n",
              "...    ...         ...        ...       ...        ...     ...      ...   \n",
              "25623    1           2          4         2          2     0.0      0.0   \n",
              "25624    1           2          3         1          4     0.0      0.0   \n",
              "25625    1           2          2         1          4     0.0      0.0   \n",
              "25626    1           3          4         2          1     0.0      0.0   \n",
              "25627    0           2          3         2          1     0.0      0.0   \n",
              "\n",
              "       income_tm  outcome_tm   tm_encode_3  ...  cash_limit  repay_state  \\\n",
              "0            0.0         0.0  5.933110e+09  ...    0.000000          0.0   \n",
              "1            0.0         0.0  5.930134e+09  ...    8.661830          0.0   \n",
              "2            0.0         0.0  5.923676e+09  ...    0.000000          0.0   \n",
              "3            0.0         0.0  5.933503e+09  ...    0.000000          0.0   \n",
              "4            0.0         0.0  5.904154e+09  ...    8.846101          0.0   \n",
              "...          ...         ...           ...  ...         ...          ...   \n",
              "25623        0.0         0.0  5.931488e+09  ...    0.000000          0.0   \n",
              "25624        0.0         0.0  5.922477e+09  ...   13.661284          0.0   \n",
              "25625        0.0         0.0  5.900985e+09  ...   18.217829          0.0   \n",
              "25626        0.0         0.0  5.931424e+09  ...   15.242790          0.0   \n",
              "25627        0.0         0.0  5.885186e+09  ...    9.993487          0.0   \n",
              "\n",
              "        browse_data   loan_time          time  yu_e  yu_e_categery  yu_e_tm  \\\n",
              "0      55648.000000  5922631887 -1.047790e+07   0.0            2.0      0.0   \n",
              "1      31093.000000  5922631887 -7.502342e+06   0.0            2.0      0.0   \n",
              "2      26271.000000  5922631887 -1.043940e+06   0.0            2.0      0.0   \n",
              "3      56656.000000  5922631887 -1.087067e+07   0.0            2.0      0.0   \n",
              "4      38736.000000  5922631887  1.847743e+07   0.0            2.0      0.0   \n",
              "...             ...         ...           ...   ...            ...      ...   \n",
              "25623  56325.885570  5929444308 -2.043581e+06   0.0            2.0      0.0   \n",
              "25624  17053.858971  5928724123  6.246838e+06   0.0            2.0      0.0   \n",
              "25625  18504.254536  5925858156  2.487337e+07   0.0            2.0      0.0   \n",
              "25626  17319.432685  5930971781 -4.523889e+05   0.0            2.0      0.0   \n",
              "25627  17552.205284  5926846506  4.166009e+07   0.0            2.0      0.0   \n",
              "\n",
              "       yu_e_tm_categery  label  \n",
              "0                   2.0      0  \n",
              "1                   2.0      0  \n",
              "2                   2.0      0  \n",
              "3                   2.0      0  \n",
              "4                   2.0      0  \n",
              "...                 ...    ...  \n",
              "25623               2.0      1  \n",
              "25624               2.0      1  \n",
              "25625               2.0      1  \n",
              "25626               2.0      1  \n",
              "25627               2.0      1  \n",
              "\n",
              "[25628 rows x 30 columns]"
            ],
            "text/html": [
              "\n",
              "  <div id=\"df-7d4fd020-d9e9-48f3-ad4c-ec360f2fe28b\">\n",
              "    <div class=\"colab-df-container\">\n",
              "      <div>\n",
              "<style scoped>\n",
              "    .dataframe tbody tr th:only-of-type {\n",
              "        vertical-align: middle;\n",
              "    }\n",
              "\n",
              "    .dataframe tbody tr th {\n",
              "        vertical-align: top;\n",
              "    }\n",
              "\n",
              "    .dataframe thead th {\n",
              "        text-align: right;\n",
              "    }\n",
              "</style>\n",
              "<table border=\"1\" class=\"dataframe\">\n",
              "  <thead>\n",
              "    <tr style=\"text-align: right;\">\n",
              "      <th></th>\n",
              "      <th>sex</th>\n",
              "      <th>occupation</th>\n",
              "      <th>education</th>\n",
              "      <th>marriage</th>\n",
              "      <th>household</th>\n",
              "      <th>income</th>\n",
              "      <th>outcome</th>\n",
              "      <th>income_tm</th>\n",
              "      <th>outcome_tm</th>\n",
              "      <th>tm_encode_3</th>\n",
              "      <th>...</th>\n",
              "      <th>cash_limit</th>\n",
              "      <th>repay_state</th>\n",
              "      <th>browse_data</th>\n",
              "      <th>loan_time</th>\n",
              "      <th>time</th>\n",
              "      <th>yu_e</th>\n",
              "      <th>yu_e_categery</th>\n",
              "      <th>yu_e_tm</th>\n",
              "      <th>yu_e_tm_categery</th>\n",
              "      <th>label</th>\n",
              "    </tr>\n",
              "  </thead>\n",
              "  <tbody>\n",
              "    <tr>\n",
              "      <th>0</th>\n",
              "      <td>1</td>\n",
              "      <td>2</td>\n",
              "      <td>3</td>\n",
              "      <td>1</td>\n",
              "      <td>1</td>\n",
              "      <td>0.0</td>\n",
              "      <td>0.0</td>\n",
              "      <td>0.0</td>\n",
              "      <td>0.0</td>\n",
              "      <td>5.933110e+09</td>\n",
              "      <td>...</td>\n",
              "      <td>0.000000</td>\n",
              "      <td>0.0</td>\n",
              "      <td>55648.000000</td>\n",
              "      <td>5922631887</td>\n",
              "      <td>-1.047790e+07</td>\n",
              "      <td>0.0</td>\n",
              "      <td>2.0</td>\n",
              "      <td>0.0</td>\n",
              "      <td>2.0</td>\n",
              "      <td>0</td>\n",
              "    </tr>\n",
              "    <tr>\n",
              "      <th>1</th>\n",
              "      <td>1</td>\n",
              "      <td>2</td>\n",
              "      <td>3</td>\n",
              "      <td>1</td>\n",
              "      <td>1</td>\n",
              "      <td>0.0</td>\n",
              "      <td>0.0</td>\n",
              "      <td>0.0</td>\n",
              "      <td>0.0</td>\n",
              "      <td>5.930134e+09</td>\n",
              "      <td>...</td>\n",
              "      <td>8.661830</td>\n",
              "      <td>0.0</td>\n",
              "      <td>31093.000000</td>\n",
              "      <td>5922631887</td>\n",
              "      <td>-7.502342e+06</td>\n",
              "      <td>0.0</td>\n",
              "      <td>2.0</td>\n",
              "      <td>0.0</td>\n",
              "      <td>2.0</td>\n",
              "      <td>0</td>\n",
              "    </tr>\n",
              "    <tr>\n",
              "      <th>2</th>\n",
              "      <td>1</td>\n",
              "      <td>2</td>\n",
              "      <td>4</td>\n",
              "      <td>1</td>\n",
              "      <td>4</td>\n",
              "      <td>0.0</td>\n",
              "      <td>0.0</td>\n",
              "      <td>0.0</td>\n",
              "      <td>0.0</td>\n",
              "      <td>5.923676e+09</td>\n",
              "      <td>...</td>\n",
              "      <td>0.000000</td>\n",
              "      <td>0.0</td>\n",
              "      <td>26271.000000</td>\n",
              "      <td>5922631887</td>\n",
              "      <td>-1.043940e+06</td>\n",
              "      <td>0.0</td>\n",
              "      <td>2.0</td>\n",
              "      <td>0.0</td>\n",
              "      <td>2.0</td>\n",
              "      <td>0</td>\n",
              "    </tr>\n",
              "    <tr>\n",
              "      <th>3</th>\n",
              "      <td>1</td>\n",
              "      <td>2</td>\n",
              "      <td>4</td>\n",
              "      <td>2</td>\n",
              "      <td>4</td>\n",
              "      <td>0.0</td>\n",
              "      <td>0.0</td>\n",
              "      <td>0.0</td>\n",
              "      <td>0.0</td>\n",
              "      <td>5.933503e+09</td>\n",
              "      <td>...</td>\n",
              "      <td>0.000000</td>\n",
              "      <td>0.0</td>\n",
              "      <td>56656.000000</td>\n",
              "      <td>5922631887</td>\n",
              "      <td>-1.087067e+07</td>\n",
              "      <td>0.0</td>\n",
              "      <td>2.0</td>\n",
              "      <td>0.0</td>\n",
              "      <td>2.0</td>\n",
              "      <td>0</td>\n",
              "    </tr>\n",
              "    <tr>\n",
              "      <th>4</th>\n",
              "      <td>2</td>\n",
              "      <td>2</td>\n",
              "      <td>3</td>\n",
              "      <td>1</td>\n",
              "      <td>4</td>\n",
              "      <td>0.0</td>\n",
              "      <td>0.0</td>\n",
              "      <td>0.0</td>\n",
              "      <td>0.0</td>\n",
              "      <td>5.904154e+09</td>\n",
              "      <td>...</td>\n",
              "      <td>8.846101</td>\n",
              "      <td>0.0</td>\n",
              "      <td>38736.000000</td>\n",
              "      <td>5922631887</td>\n",
              "      <td>1.847743e+07</td>\n",
              "      <td>0.0</td>\n",
              "      <td>2.0</td>\n",
              "      <td>0.0</td>\n",
              "      <td>2.0</td>\n",
              "      <td>0</td>\n",
              "    </tr>\n",
              "    <tr>\n",
              "      <th>...</th>\n",
              "      <td>...</td>\n",
              "      <td>...</td>\n",
              "      <td>...</td>\n",
              "      <td>...</td>\n",
              "      <td>...</td>\n",
              "      <td>...</td>\n",
              "      <td>...</td>\n",
              "      <td>...</td>\n",
              "      <td>...</td>\n",
              "      <td>...</td>\n",
              "      <td>...</td>\n",
              "      <td>...</td>\n",
              "      <td>...</td>\n",
              "      <td>...</td>\n",
              "      <td>...</td>\n",
              "      <td>...</td>\n",
              "      <td>...</td>\n",
              "      <td>...</td>\n",
              "      <td>...</td>\n",
              "      <td>...</td>\n",
              "      <td>...</td>\n",
              "    </tr>\n",
              "    <tr>\n",
              "      <th>25623</th>\n",
              "      <td>1</td>\n",
              "      <td>2</td>\n",
              "      <td>4</td>\n",
              "      <td>2</td>\n",
              "      <td>2</td>\n",
              "      <td>0.0</td>\n",
              "      <td>0.0</td>\n",
              "      <td>0.0</td>\n",
              "      <td>0.0</td>\n",
              "      <td>5.931488e+09</td>\n",
              "      <td>...</td>\n",
              "      <td>0.000000</td>\n",
              "      <td>0.0</td>\n",
              "      <td>56325.885570</td>\n",
              "      <td>5929444308</td>\n",
              "      <td>-2.043581e+06</td>\n",
              "      <td>0.0</td>\n",
              "      <td>2.0</td>\n",
              "      <td>0.0</td>\n",
              "      <td>2.0</td>\n",
              "      <td>1</td>\n",
              "    </tr>\n",
              "    <tr>\n",
              "      <th>25624</th>\n",
              "      <td>1</td>\n",
              "      <td>2</td>\n",
              "      <td>3</td>\n",
              "      <td>1</td>\n",
              "      <td>4</td>\n",
              "      <td>0.0</td>\n",
              "      <td>0.0</td>\n",
              "      <td>0.0</td>\n",
              "      <td>0.0</td>\n",
              "      <td>5.922477e+09</td>\n",
              "      <td>...</td>\n",
              "      <td>13.661284</td>\n",
              "      <td>0.0</td>\n",
              "      <td>17053.858971</td>\n",
              "      <td>5928724123</td>\n",
              "      <td>6.246838e+06</td>\n",
              "      <td>0.0</td>\n",
              "      <td>2.0</td>\n",
              "      <td>0.0</td>\n",
              "      <td>2.0</td>\n",
              "      <td>1</td>\n",
              "    </tr>\n",
              "    <tr>\n",
              "      <th>25625</th>\n",
              "      <td>1</td>\n",
              "      <td>2</td>\n",
              "      <td>2</td>\n",
              "      <td>1</td>\n",
              "      <td>4</td>\n",
              "      <td>0.0</td>\n",
              "      <td>0.0</td>\n",
              "      <td>0.0</td>\n",
              "      <td>0.0</td>\n",
              "      <td>5.900985e+09</td>\n",
              "      <td>...</td>\n",
              "      <td>18.217829</td>\n",
              "      <td>0.0</td>\n",
              "      <td>18504.254536</td>\n",
              "      <td>5925858156</td>\n",
              "      <td>2.487337e+07</td>\n",
              "      <td>0.0</td>\n",
              "      <td>2.0</td>\n",
              "      <td>0.0</td>\n",
              "      <td>2.0</td>\n",
              "      <td>1</td>\n",
              "    </tr>\n",
              "    <tr>\n",
              "      <th>25626</th>\n",
              "      <td>1</td>\n",
              "      <td>3</td>\n",
              "      <td>4</td>\n",
              "      <td>2</td>\n",
              "      <td>1</td>\n",
              "      <td>0.0</td>\n",
              "      <td>0.0</td>\n",
              "      <td>0.0</td>\n",
              "      <td>0.0</td>\n",
              "      <td>5.931424e+09</td>\n",
              "      <td>...</td>\n",
              "      <td>15.242790</td>\n",
              "      <td>0.0</td>\n",
              "      <td>17319.432685</td>\n",
              "      <td>5930971781</td>\n",
              "      <td>-4.523889e+05</td>\n",
              "      <td>0.0</td>\n",
              "      <td>2.0</td>\n",
              "      <td>0.0</td>\n",
              "      <td>2.0</td>\n",
              "      <td>1</td>\n",
              "    </tr>\n",
              "    <tr>\n",
              "      <th>25627</th>\n",
              "      <td>0</td>\n",
              "      <td>2</td>\n",
              "      <td>3</td>\n",
              "      <td>2</td>\n",
              "      <td>1</td>\n",
              "      <td>0.0</td>\n",
              "      <td>0.0</td>\n",
              "      <td>0.0</td>\n",
              "      <td>0.0</td>\n",
              "      <td>5.885186e+09</td>\n",
              "      <td>...</td>\n",
              "      <td>9.993487</td>\n",
              "      <td>0.0</td>\n",
              "      <td>17552.205284</td>\n",
              "      <td>5926846506</td>\n",
              "      <td>4.166009e+07</td>\n",
              "      <td>0.0</td>\n",
              "      <td>2.0</td>\n",
              "      <td>0.0</td>\n",
              "      <td>2.0</td>\n",
              "      <td>1</td>\n",
              "    </tr>\n",
              "  </tbody>\n",
              "</table>\n",
              "<p>25628 rows × 30 columns</p>\n",
              "</div>\n",
              "      <button class=\"colab-df-convert\" onclick=\"convertToInteractive('df-7d4fd020-d9e9-48f3-ad4c-ec360f2fe28b')\"\n",
              "              title=\"Convert this dataframe to an interactive table.\"\n",
              "              style=\"display:none;\">\n",
              "        \n",
              "  <svg xmlns=\"http://www.w3.org/2000/svg\" height=\"24px\"viewBox=\"0 0 24 24\"\n",
              "       width=\"24px\">\n",
              "    <path d=\"M0 0h24v24H0V0z\" fill=\"none\"/>\n",
              "    <path d=\"M18.56 5.44l.94 2.06.94-2.06 2.06-.94-2.06-.94-.94-2.06-.94 2.06-2.06.94zm-11 1L8.5 8.5l.94-2.06 2.06-.94-2.06-.94L8.5 2.5l-.94 2.06-2.06.94zm10 10l.94 2.06.94-2.06 2.06-.94-2.06-.94-.94-2.06-.94 2.06-2.06.94z\"/><path d=\"M17.41 7.96l-1.37-1.37c-.4-.4-.92-.59-1.43-.59-.52 0-1.04.2-1.43.59L10.3 9.45l-7.72 7.72c-.78.78-.78 2.05 0 2.83L4 21.41c.39.39.9.59 1.41.59.51 0 1.02-.2 1.41-.59l7.78-7.78 2.81-2.81c.8-.78.8-2.07 0-2.86zM5.41 20L4 18.59l7.72-7.72 1.47 1.35L5.41 20z\"/>\n",
              "  </svg>\n",
              "      </button>\n",
              "      \n",
              "  <style>\n",
              "    .colab-df-container {\n",
              "      display:flex;\n",
              "      flex-wrap:wrap;\n",
              "      gap: 12px;\n",
              "    }\n",
              "\n",
              "    .colab-df-convert {\n",
              "      background-color: #E8F0FE;\n",
              "      border: none;\n",
              "      border-radius: 50%;\n",
              "      cursor: pointer;\n",
              "      display: none;\n",
              "      fill: #1967D2;\n",
              "      height: 32px;\n",
              "      padding: 0 0 0 0;\n",
              "      width: 32px;\n",
              "    }\n",
              "\n",
              "    .colab-df-convert:hover {\n",
              "      background-color: #E2EBFA;\n",
              "      box-shadow: 0px 1px 2px rgba(60, 64, 67, 0.3), 0px 1px 3px 1px rgba(60, 64, 67, 0.15);\n",
              "      fill: #174EA6;\n",
              "    }\n",
              "\n",
              "    [theme=dark] .colab-df-convert {\n",
              "      background-color: #3B4455;\n",
              "      fill: #D2E3FC;\n",
              "    }\n",
              "\n",
              "    [theme=dark] .colab-df-convert:hover {\n",
              "      background-color: #434B5C;\n",
              "      box-shadow: 0px 1px 3px 1px rgba(0, 0, 0, 0.15);\n",
              "      filter: drop-shadow(0px 1px 2px rgba(0, 0, 0, 0.3));\n",
              "      fill: #FFFFFF;\n",
              "    }\n",
              "  </style>\n",
              "\n",
              "      <script>\n",
              "        const buttonEl =\n",
              "          document.querySelector('#df-7d4fd020-d9e9-48f3-ad4c-ec360f2fe28b button.colab-df-convert');\n",
              "        buttonEl.style.display =\n",
              "          google.colab.kernel.accessAllowed ? 'block' : 'none';\n",
              "\n",
              "        async function convertToInteractive(key) {\n",
              "          const element = document.querySelector('#df-7d4fd020-d9e9-48f3-ad4c-ec360f2fe28b');\n",
              "          const dataTable =\n",
              "            await google.colab.kernel.invokeFunction('convertToInteractive',\n",
              "                                                     [key], {});\n",
              "          if (!dataTable) return;\n",
              "\n",
              "          const docLinkHtml = 'Like what you see? Visit the ' +\n",
              "            '<a target=\"_blank\" href=https://colab.research.google.com/notebooks/data_table.ipynb>data table notebook</a>'\n",
              "            + ' to learn more about interactive tables.';\n",
              "          element.innerHTML = '';\n",
              "          dataTable['output_type'] = 'display_data';\n",
              "          await google.colab.output.renderOutput(dataTable, element);\n",
              "          const docLink = document.createElement('div');\n",
              "          docLink.innerHTML = docLinkHtml;\n",
              "          element.appendChild(docLink);\n",
              "        }\n",
              "      </script>\n",
              "    </div>\n",
              "  </div>\n",
              "  "
            ]
          },
          "metadata": {},
          "execution_count": 185
        }
      ],
      "source": [
        "loan_datas"
      ]
    },
    {
      "cell_type": "markdown",
      "metadata": {
        "id": "nFBb-S7C_9hv"
      },
      "source": [
        "# **Modelling**"
      ]
    },
    {
      "cell_type": "code",
      "execution_count": null,
      "metadata": {
        "id": "TMJ2Mp7RAAec"
      },
      "outputs": [],
      "source": [
        "#import sklearn metric\n",
        "from sklearn.metrics import (\n",
        "    accuracy_score, confusion_matrix, classification_report, \n",
        "    roc_auc_score, roc_curve, auc)"
      ]
    },
    {
      "cell_type": "code",
      "execution_count": null,
      "metadata": {
        "id": "UGellcJ3ALa9"
      },
      "outputs": [],
      "source": [
        "#confusion Metric\n",
        "def print_score(true, pred, train=True):\n",
        "    if train:\n",
        "        clf_report = pd.DataFrame(classification_report(true, pred, output_dict=True))\n",
        "        print(\"Train Result:\\n================================================\")\n",
        "        print(f\"Accuracy Score: {accuracy_score(true, pred) * 100:.2f}%\")\n",
        "        print(\"_________________\")\n",
        "        print(f\"CLASSIFICATION REPORT:\\n{clf_report}\")\n",
        "        print(\"_________________\")\n",
        "        print(f\"Confusion Matrix: \\n {confusion_matrix(true, pred)}\\n\")\n",
        "        \n",
        "    elif train==False:\n",
        "        clf_report = pd.DataFrame(classification_report(true, pred, output_dict=True))\n",
        "        print(\"Test Result:\\n================================================\")        \n",
        "        print(f\"Accuracy Score: {accuracy_score(true, pred) * 100:.2f}%\")\n",
        "        print(\"_________________\")\n",
        "        print(f\"CLASSIFICATION REPORT:\\n{clf_report}\")\n",
        "        print(\"_________________\")\n",
        "        print(f\"Confusion Matrix: \\n {confusion_matrix(true, pred)}\\n\")"
      ]
    },
    {
      "cell_type": "markdown",
      "metadata": {
        "id": "kHRU8G_dwOWW"
      },
      "source": [
        "## **split**"
      ]
    },
    {
      "cell_type": "code",
      "execution_count": null,
      "metadata": {
        "id": "ORsrUtlPh3yn"
      },
      "outputs": [],
      "source": [
        "#split data\n",
        "X=df.drop(\"label\",axis=1)\n",
        "y=df[\"label\"]"
      ]
    },
    {
      "cell_type": "code",
      "execution_count": null,
      "metadata": {
        "colab": {
          "base_uri": "https://localhost:8080/",
          "height": 488
        },
        "id": "G87Sfyt1vyVv",
        "outputId": "99eb4122-caa5-45fe-ca47-648b01180af7"
      },
      "outputs": [
        {
          "output_type": "execute_result",
          "data": {
            "text/plain": [
              "       sex  occupation  education  marriage  household  income  outcome  \\\n",
              "5336     1           2          3         1          1     0.0      0.0   \n",
              "5338     1           2          3         1          1     0.0      0.0   \n",
              "5339     1           2          4         1          4     0.0      0.0   \n",
              "5351     1           2          4         2          4     0.0      0.0   \n",
              "5359     2           2          3         1          4     0.0      0.0   \n",
              "...    ...         ...        ...       ...        ...     ...      ...   \n",
              "55581    1           3          4         2          2     0.0      0.0   \n",
              "55584    1           0          0         0          0     0.0      0.0   \n",
              "55587    1           2          3         1          3     0.0      0.0   \n",
              "55592    1           4          2         1          4     0.0      0.0   \n",
              "55595    2           2          3         1          2     0.0      0.0   \n",
              "\n",
              "       income_tm  outcome_tm   tm_encode_3  ...  avaliable_balance  \\\n",
              "5336         0.0         0.0  5.933110e+09  ...                0.0   \n",
              "5338         0.0         0.0  5.930134e+09  ...                0.0   \n",
              "5339         0.0         0.0  5.923676e+09  ...                0.0   \n",
              "5351         0.0         0.0  5.933503e+09  ...                0.0   \n",
              "5359         0.0         0.0  5.904154e+09  ...                0.0   \n",
              "...          ...         ...           ...  ...                ...   \n",
              "55581        0.0         0.0  5.934929e+09  ...                0.0   \n",
              "55584        0.0         0.0  5.905179e+09  ...                0.0   \n",
              "55587        0.0         0.0  5.902382e+09  ...                0.0   \n",
              "55592        0.0         0.0  5.907957e+09  ...                0.0   \n",
              "55595        0.0         0.0  5.930926e+09  ...                0.0   \n",
              "\n",
              "       cash_limit  repay_state  browse_data   loan_time          time  yu_e  \\\n",
              "5336     0.000000          0.0      55648.0  5922631887 -1.047790e+07   0.0   \n",
              "5338     8.661830          0.0      31093.0  5922631887 -7.502342e+06   0.0   \n",
              "5339     0.000000          0.0      26271.0  5922631887 -1.043940e+06   0.0   \n",
              "5351     0.000000          0.0      56656.0  5922631887 -1.087067e+07   0.0   \n",
              "5359     8.846101          0.0      38736.0  5922631887  1.847743e+07   0.0   \n",
              "...           ...          ...          ...         ...           ...   ...   \n",
              "55581   21.069883          0.0      45765.0  5932135887 -2.793600e+06   0.0   \n",
              "55584   21.625197          0.0      16545.0  5932135887  2.695680e+07   0.0   \n",
              "55587    0.000000          0.0      68376.0  5932135887  2.975399e+07   0.0   \n",
              "55592    7.284420          0.0      19600.0  5932135887  2.417882e+07   0.0   \n",
              "55595   21.069883          0.0      13300.0  5932135887  1.209600e+06   0.0   \n",
              "\n",
              "       yu_e_categery  yu_e_tm  yu_e_tm_categery  \n",
              "5336             2.0      0.0               2.0  \n",
              "5338             2.0      0.0               2.0  \n",
              "5339             2.0      0.0               2.0  \n",
              "5351             2.0      0.0               2.0  \n",
              "5359             2.0      0.0               2.0  \n",
              "...              ...      ...               ...  \n",
              "55581            2.0      0.0               2.0  \n",
              "55584            2.0      0.0               2.0  \n",
              "55587            2.0      0.0               2.0  \n",
              "55592            2.0      0.0               2.0  \n",
              "55595            2.0      0.0               2.0  \n",
              "\n",
              "[14563 rows x 29 columns]"
            ],
            "text/html": [
              "\n",
              "  <div id=\"df-7ca893c3-920d-425c-aaa0-c8eaa4ca0320\">\n",
              "    <div class=\"colab-df-container\">\n",
              "      <div>\n",
              "<style scoped>\n",
              "    .dataframe tbody tr th:only-of-type {\n",
              "        vertical-align: middle;\n",
              "    }\n",
              "\n",
              "    .dataframe tbody tr th {\n",
              "        vertical-align: top;\n",
              "    }\n",
              "\n",
              "    .dataframe thead th {\n",
              "        text-align: right;\n",
              "    }\n",
              "</style>\n",
              "<table border=\"1\" class=\"dataframe\">\n",
              "  <thead>\n",
              "    <tr style=\"text-align: right;\">\n",
              "      <th></th>\n",
              "      <th>sex</th>\n",
              "      <th>occupation</th>\n",
              "      <th>education</th>\n",
              "      <th>marriage</th>\n",
              "      <th>household</th>\n",
              "      <th>income</th>\n",
              "      <th>outcome</th>\n",
              "      <th>income_tm</th>\n",
              "      <th>outcome_tm</th>\n",
              "      <th>tm_encode_3</th>\n",
              "      <th>...</th>\n",
              "      <th>avaliable_balance</th>\n",
              "      <th>cash_limit</th>\n",
              "      <th>repay_state</th>\n",
              "      <th>browse_data</th>\n",
              "      <th>loan_time</th>\n",
              "      <th>time</th>\n",
              "      <th>yu_e</th>\n",
              "      <th>yu_e_categery</th>\n",
              "      <th>yu_e_tm</th>\n",
              "      <th>yu_e_tm_categery</th>\n",
              "    </tr>\n",
              "  </thead>\n",
              "  <tbody>\n",
              "    <tr>\n",
              "      <th>5336</th>\n",
              "      <td>1</td>\n",
              "      <td>2</td>\n",
              "      <td>3</td>\n",
              "      <td>1</td>\n",
              "      <td>1</td>\n",
              "      <td>0.0</td>\n",
              "      <td>0.0</td>\n",
              "      <td>0.0</td>\n",
              "      <td>0.0</td>\n",
              "      <td>5.933110e+09</td>\n",
              "      <td>...</td>\n",
              "      <td>0.0</td>\n",
              "      <td>0.000000</td>\n",
              "      <td>0.0</td>\n",
              "      <td>55648.0</td>\n",
              "      <td>5922631887</td>\n",
              "      <td>-1.047790e+07</td>\n",
              "      <td>0.0</td>\n",
              "      <td>2.0</td>\n",
              "      <td>0.0</td>\n",
              "      <td>2.0</td>\n",
              "    </tr>\n",
              "    <tr>\n",
              "      <th>5338</th>\n",
              "      <td>1</td>\n",
              "      <td>2</td>\n",
              "      <td>3</td>\n",
              "      <td>1</td>\n",
              "      <td>1</td>\n",
              "      <td>0.0</td>\n",
              "      <td>0.0</td>\n",
              "      <td>0.0</td>\n",
              "      <td>0.0</td>\n",
              "      <td>5.930134e+09</td>\n",
              "      <td>...</td>\n",
              "      <td>0.0</td>\n",
              "      <td>8.661830</td>\n",
              "      <td>0.0</td>\n",
              "      <td>31093.0</td>\n",
              "      <td>5922631887</td>\n",
              "      <td>-7.502342e+06</td>\n",
              "      <td>0.0</td>\n",
              "      <td>2.0</td>\n",
              "      <td>0.0</td>\n",
              "      <td>2.0</td>\n",
              "    </tr>\n",
              "    <tr>\n",
              "      <th>5339</th>\n",
              "      <td>1</td>\n",
              "      <td>2</td>\n",
              "      <td>4</td>\n",
              "      <td>1</td>\n",
              "      <td>4</td>\n",
              "      <td>0.0</td>\n",
              "      <td>0.0</td>\n",
              "      <td>0.0</td>\n",
              "      <td>0.0</td>\n",
              "      <td>5.923676e+09</td>\n",
              "      <td>...</td>\n",
              "      <td>0.0</td>\n",
              "      <td>0.000000</td>\n",
              "      <td>0.0</td>\n",
              "      <td>26271.0</td>\n",
              "      <td>5922631887</td>\n",
              "      <td>-1.043940e+06</td>\n",
              "      <td>0.0</td>\n",
              "      <td>2.0</td>\n",
              "      <td>0.0</td>\n",
              "      <td>2.0</td>\n",
              "    </tr>\n",
              "    <tr>\n",
              "      <th>5351</th>\n",
              "      <td>1</td>\n",
              "      <td>2</td>\n",
              "      <td>4</td>\n",
              "      <td>2</td>\n",
              "      <td>4</td>\n",
              "      <td>0.0</td>\n",
              "      <td>0.0</td>\n",
              "      <td>0.0</td>\n",
              "      <td>0.0</td>\n",
              "      <td>5.933503e+09</td>\n",
              "      <td>...</td>\n",
              "      <td>0.0</td>\n",
              "      <td>0.000000</td>\n",
              "      <td>0.0</td>\n",
              "      <td>56656.0</td>\n",
              "      <td>5922631887</td>\n",
              "      <td>-1.087067e+07</td>\n",
              "      <td>0.0</td>\n",
              "      <td>2.0</td>\n",
              "      <td>0.0</td>\n",
              "      <td>2.0</td>\n",
              "    </tr>\n",
              "    <tr>\n",
              "      <th>5359</th>\n",
              "      <td>2</td>\n",
              "      <td>2</td>\n",
              "      <td>3</td>\n",
              "      <td>1</td>\n",
              "      <td>4</td>\n",
              "      <td>0.0</td>\n",
              "      <td>0.0</td>\n",
              "      <td>0.0</td>\n",
              "      <td>0.0</td>\n",
              "      <td>5.904154e+09</td>\n",
              "      <td>...</td>\n",
              "      <td>0.0</td>\n",
              "      <td>8.846101</td>\n",
              "      <td>0.0</td>\n",
              "      <td>38736.0</td>\n",
              "      <td>5922631887</td>\n",
              "      <td>1.847743e+07</td>\n",
              "      <td>0.0</td>\n",
              "      <td>2.0</td>\n",
              "      <td>0.0</td>\n",
              "      <td>2.0</td>\n",
              "    </tr>\n",
              "    <tr>\n",
              "      <th>...</th>\n",
              "      <td>...</td>\n",
              "      <td>...</td>\n",
              "      <td>...</td>\n",
              "      <td>...</td>\n",
              "      <td>...</td>\n",
              "      <td>...</td>\n",
              "      <td>...</td>\n",
              "      <td>...</td>\n",
              "      <td>...</td>\n",
              "      <td>...</td>\n",
              "      <td>...</td>\n",
              "      <td>...</td>\n",
              "      <td>...</td>\n",
              "      <td>...</td>\n",
              "      <td>...</td>\n",
              "      <td>...</td>\n",
              "      <td>...</td>\n",
              "      <td>...</td>\n",
              "      <td>...</td>\n",
              "      <td>...</td>\n",
              "      <td>...</td>\n",
              "    </tr>\n",
              "    <tr>\n",
              "      <th>55581</th>\n",
              "      <td>1</td>\n",
              "      <td>3</td>\n",
              "      <td>4</td>\n",
              "      <td>2</td>\n",
              "      <td>2</td>\n",
              "      <td>0.0</td>\n",
              "      <td>0.0</td>\n",
              "      <td>0.0</td>\n",
              "      <td>0.0</td>\n",
              "      <td>5.934929e+09</td>\n",
              "      <td>...</td>\n",
              "      <td>0.0</td>\n",
              "      <td>21.069883</td>\n",
              "      <td>0.0</td>\n",
              "      <td>45765.0</td>\n",
              "      <td>5932135887</td>\n",
              "      <td>-2.793600e+06</td>\n",
              "      <td>0.0</td>\n",
              "      <td>2.0</td>\n",
              "      <td>0.0</td>\n",
              "      <td>2.0</td>\n",
              "    </tr>\n",
              "    <tr>\n",
              "      <th>55584</th>\n",
              "      <td>1</td>\n",
              "      <td>0</td>\n",
              "      <td>0</td>\n",
              "      <td>0</td>\n",
              "      <td>0</td>\n",
              "      <td>0.0</td>\n",
              "      <td>0.0</td>\n",
              "      <td>0.0</td>\n",
              "      <td>0.0</td>\n",
              "      <td>5.905179e+09</td>\n",
              "      <td>...</td>\n",
              "      <td>0.0</td>\n",
              "      <td>21.625197</td>\n",
              "      <td>0.0</td>\n",
              "      <td>16545.0</td>\n",
              "      <td>5932135887</td>\n",
              "      <td>2.695680e+07</td>\n",
              "      <td>0.0</td>\n",
              "      <td>2.0</td>\n",
              "      <td>0.0</td>\n",
              "      <td>2.0</td>\n",
              "    </tr>\n",
              "    <tr>\n",
              "      <th>55587</th>\n",
              "      <td>1</td>\n",
              "      <td>2</td>\n",
              "      <td>3</td>\n",
              "      <td>1</td>\n",
              "      <td>3</td>\n",
              "      <td>0.0</td>\n",
              "      <td>0.0</td>\n",
              "      <td>0.0</td>\n",
              "      <td>0.0</td>\n",
              "      <td>5.902382e+09</td>\n",
              "      <td>...</td>\n",
              "      <td>0.0</td>\n",
              "      <td>0.000000</td>\n",
              "      <td>0.0</td>\n",
              "      <td>68376.0</td>\n",
              "      <td>5932135887</td>\n",
              "      <td>2.975399e+07</td>\n",
              "      <td>0.0</td>\n",
              "      <td>2.0</td>\n",
              "      <td>0.0</td>\n",
              "      <td>2.0</td>\n",
              "    </tr>\n",
              "    <tr>\n",
              "      <th>55592</th>\n",
              "      <td>1</td>\n",
              "      <td>4</td>\n",
              "      <td>2</td>\n",
              "      <td>1</td>\n",
              "      <td>4</td>\n",
              "      <td>0.0</td>\n",
              "      <td>0.0</td>\n",
              "      <td>0.0</td>\n",
              "      <td>0.0</td>\n",
              "      <td>5.907957e+09</td>\n",
              "      <td>...</td>\n",
              "      <td>0.0</td>\n",
              "      <td>7.284420</td>\n",
              "      <td>0.0</td>\n",
              "      <td>19600.0</td>\n",
              "      <td>5932135887</td>\n",
              "      <td>2.417882e+07</td>\n",
              "      <td>0.0</td>\n",
              "      <td>2.0</td>\n",
              "      <td>0.0</td>\n",
              "      <td>2.0</td>\n",
              "    </tr>\n",
              "    <tr>\n",
              "      <th>55595</th>\n",
              "      <td>2</td>\n",
              "      <td>2</td>\n",
              "      <td>3</td>\n",
              "      <td>1</td>\n",
              "      <td>2</td>\n",
              "      <td>0.0</td>\n",
              "      <td>0.0</td>\n",
              "      <td>0.0</td>\n",
              "      <td>0.0</td>\n",
              "      <td>5.930926e+09</td>\n",
              "      <td>...</td>\n",
              "      <td>0.0</td>\n",
              "      <td>21.069883</td>\n",
              "      <td>0.0</td>\n",
              "      <td>13300.0</td>\n",
              "      <td>5932135887</td>\n",
              "      <td>1.209600e+06</td>\n",
              "      <td>0.0</td>\n",
              "      <td>2.0</td>\n",
              "      <td>0.0</td>\n",
              "      <td>2.0</td>\n",
              "    </tr>\n",
              "  </tbody>\n",
              "</table>\n",
              "<p>14563 rows × 29 columns</p>\n",
              "</div>\n",
              "      <button class=\"colab-df-convert\" onclick=\"convertToInteractive('df-7ca893c3-920d-425c-aaa0-c8eaa4ca0320')\"\n",
              "              title=\"Convert this dataframe to an interactive table.\"\n",
              "              style=\"display:none;\">\n",
              "        \n",
              "  <svg xmlns=\"http://www.w3.org/2000/svg\" height=\"24px\"viewBox=\"0 0 24 24\"\n",
              "       width=\"24px\">\n",
              "    <path d=\"M0 0h24v24H0V0z\" fill=\"none\"/>\n",
              "    <path d=\"M18.56 5.44l.94 2.06.94-2.06 2.06-.94-2.06-.94-.94-2.06-.94 2.06-2.06.94zm-11 1L8.5 8.5l.94-2.06 2.06-.94-2.06-.94L8.5 2.5l-.94 2.06-2.06.94zm10 10l.94 2.06.94-2.06 2.06-.94-2.06-.94-.94-2.06-.94 2.06-2.06.94z\"/><path d=\"M17.41 7.96l-1.37-1.37c-.4-.4-.92-.59-1.43-.59-.52 0-1.04.2-1.43.59L10.3 9.45l-7.72 7.72c-.78.78-.78 2.05 0 2.83L4 21.41c.39.39.9.59 1.41.59.51 0 1.02-.2 1.41-.59l7.78-7.78 2.81-2.81c.8-.78.8-2.07 0-2.86zM5.41 20L4 18.59l7.72-7.72 1.47 1.35L5.41 20z\"/>\n",
              "  </svg>\n",
              "      </button>\n",
              "      \n",
              "  <style>\n",
              "    .colab-df-container {\n",
              "      display:flex;\n",
              "      flex-wrap:wrap;\n",
              "      gap: 12px;\n",
              "    }\n",
              "\n",
              "    .colab-df-convert {\n",
              "      background-color: #E8F0FE;\n",
              "      border: none;\n",
              "      border-radius: 50%;\n",
              "      cursor: pointer;\n",
              "      display: none;\n",
              "      fill: #1967D2;\n",
              "      height: 32px;\n",
              "      padding: 0 0 0 0;\n",
              "      width: 32px;\n",
              "    }\n",
              "\n",
              "    .colab-df-convert:hover {\n",
              "      background-color: #E2EBFA;\n",
              "      box-shadow: 0px 1px 2px rgba(60, 64, 67, 0.3), 0px 1px 3px 1px rgba(60, 64, 67, 0.15);\n",
              "      fill: #174EA6;\n",
              "    }\n",
              "\n",
              "    [theme=dark] .colab-df-convert {\n",
              "      background-color: #3B4455;\n",
              "      fill: #D2E3FC;\n",
              "    }\n",
              "\n",
              "    [theme=dark] .colab-df-convert:hover {\n",
              "      background-color: #434B5C;\n",
              "      box-shadow: 0px 1px 3px 1px rgba(0, 0, 0, 0.15);\n",
              "      filter: drop-shadow(0px 1px 2px rgba(0, 0, 0, 0.3));\n",
              "      fill: #FFFFFF;\n",
              "    }\n",
              "  </style>\n",
              "\n",
              "      <script>\n",
              "        const buttonEl =\n",
              "          document.querySelector('#df-7ca893c3-920d-425c-aaa0-c8eaa4ca0320 button.colab-df-convert');\n",
              "        buttonEl.style.display =\n",
              "          google.colab.kernel.accessAllowed ? 'block' : 'none';\n",
              "\n",
              "        async function convertToInteractive(key) {\n",
              "          const element = document.querySelector('#df-7ca893c3-920d-425c-aaa0-c8eaa4ca0320');\n",
              "          const dataTable =\n",
              "            await google.colab.kernel.invokeFunction('convertToInteractive',\n",
              "                                                     [key], {});\n",
              "          if (!dataTable) return;\n",
              "\n",
              "          const docLinkHtml = 'Like what you see? Visit the ' +\n",
              "            '<a target=\"_blank\" href=https://colab.research.google.com/notebooks/data_table.ipynb>data table notebook</a>'\n",
              "            + ' to learn more about interactive tables.';\n",
              "          element.innerHTML = '';\n",
              "          dataTable['output_type'] = 'display_data';\n",
              "          await google.colab.output.renderOutput(dataTable, element);\n",
              "          const docLink = document.createElement('div');\n",
              "          docLink.innerHTML = docLinkHtml;\n",
              "          element.appendChild(docLink);\n",
              "        }\n",
              "      </script>\n",
              "    </div>\n",
              "  </div>\n",
              "  "
            ]
          },
          "metadata": {},
          "execution_count": 443
        }
      ],
      "source": [
        "X"
      ]
    },
    {
      "cell_type": "markdown",
      "metadata": {
        "id": "49xRKBJprraA"
      },
      "source": [
        "## **Single Classifier**"
      ]
    },
    {
      "cell_type": "code",
      "source": [
        "from sklearn.model_selection import cross_val_score\n",
        "from sklearn.model_selection import cross_val_predict\n",
        "\n",
        "clf1 = XGBClassifier()\n",
        "xgb = cross_val_score(clf1, X, y, cv=10, scoring = \"accuracy\")\n",
        "for i in range(10):\n",
        "  print(\"Akurasi dari XGBoost : {0:2%}\". format(xgb[i,]))\n",
        "print(\"Rata-rata Akurasi dari XGBoost :\", xgb.mean())\n",
        "print(\"Akurasi Terbaik: \", xgb.max())\n",
        "y_pred = cross_val_predict(clf1, X, y, cv=10)\n",
        "cfm = confusion_matrix(y, y_pred)\n",
        "print(\"Confusion Matrix: \", cfm)"
      ],
      "metadata": {
        "colab": {
          "base_uri": "https://localhost:8080/"
        },
        "id": "S7UJeuU2QOjU",
        "outputId": "f17ca449-3532-41d8-bcd2-73319afe7a01"
      },
      "execution_count": null,
      "outputs": [
        {
          "output_type": "stream",
          "name": "stdout",
          "text": [
            "Akurasi dari XGBoost : 17.401483%\n",
            "Akurasi dari XGBoost : 40.187281%\n",
            "Akurasi dari XGBoost : 62.504877%\n",
            "Akurasi dari XGBoost : 57.042528%\n",
            "Akurasi dari XGBoost : 53.804136%\n",
            "Akurasi dari XGBoost : 54.311354%\n",
            "Akurasi dari XGBoost : 58.759266%\n",
            "Akurasi dari XGBoost : 57.081545%\n",
            "Akurasi dari XGBoost : 52.498048%\n",
            "Akurasi dari XGBoost : 51.639344%\n",
            "Rata-rata Akurasi dari XGBoost : 0.5052298624239805\n",
            "Akurasi Terbaik:  0.6250487709715178\n",
            "Confusion Matrix:  [[ 1755 11059]\n",
            " [ 1621 11193]]\n"
          ]
        }
      ]
    },
    {
      "cell_type": "code",
      "source": [
        "from sklearn.model_selection import cross_val_score\n",
        "from sklearn.model_selection import cross_val_predict\n",
        "\n",
        "clf2 = RandomForestClassifier()\n",
        "rf = cross_val_score(clf2, X, y, cv=10, scoring = \"accuracy\")\n",
        "for i in range(10):\n",
        "  print(\"Akurasi dari Random Forest : {0:2%}\". format(rf[i,]))\n",
        "print(\"Rata-rata Akurasi dari Random Forest :\", rf.mean())\n",
        "print(\"Akurasi Terbaik: \", rf.max())\n",
        "y_pred = cross_val_predict(clf2, X, y, cv=10)\n",
        "cfm = confusion_matrix(y, y_pred)\n",
        "print(\"Confusion Matrix: \", cfm)"
      ],
      "metadata": {
        "colab": {
          "base_uri": "https://localhost:8080/"
        },
        "id": "Lr3b-8YXug0J",
        "outputId": "64c2815a-3074-4896-d681-d4cd36d9f836"
      },
      "execution_count": null,
      "outputs": [
        {
          "output_type": "stream",
          "name": "stdout",
          "text": [
            "Akurasi dari Random Forest : 87.068345%\n",
            "Akurasi dari Random Forest : 85.773381%\n",
            "Akurasi dari Random Forest : 69.604317%\n",
            "Akurasi dari Random Forest : 59.748201%\n",
            "Akurasi dari Random Forest : 82.841727%\n",
            "Akurasi dari Random Forest : 84.154676%\n",
            "Akurasi dari Random Forest : 81.273610%\n",
            "Akurasi dari Random Forest : 87.245908%\n",
            "Akurasi dari Random Forest : 86.976075%\n",
            "Akurasi dari Random Forest : 87.119986%\n",
            "Rata-rata Akurasi dari Random Forest : 0.8118062258234426\n",
            "Akurasi Terbaik:  0.8724590753732686\n",
            "Confusion Matrix:  [[44757  3656]\n",
            " [ 6817   366]]\n"
          ]
        }
      ]
    },
    {
      "cell_type": "code",
      "source": [
        "##fiixx\n",
        "from sklearn.model_selection import cross_val_score\n",
        "from sklearn.model_selection import cross_val_predict\n",
        "\n",
        "clf3 = LGBMClassifier()\n",
        "lgb = cross_val_score(clf3, X, y, cv=10, scoring = \"accuracy\")\n",
        "for i in range(10):\n",
        "  print(\"Akurasi dari LightGBM : {0:2%}\". format(lgb[i,]))\n",
        "print(\"Rata-rata Akurasi dari LightGBM :\", lgb.mean())\n",
        "print(\"Akurasi Terbaik: \", lgb.max())\n",
        "y_pred = cross_val_predict(clf3, X, y, cv=10)\n",
        "cfm = confusion_matrix(y, y_pred)\n",
        "print(\"Confusion Matrix: \", cfm)"
      ],
      "metadata": {
        "colab": {
          "base_uri": "https://localhost:8080/"
        },
        "id": "Cl18HT9tu8HZ",
        "outputId": "9a0b8e6b-7d7f-4a43-860c-48946e25db4a"
      },
      "execution_count": null,
      "outputs": [
        {
          "output_type": "stream",
          "name": "stdout",
          "text": [
            "Akurasi dari LightGBM : 87.086331%\n",
            "Akurasi dari LightGBM : 52.823741%\n",
            "Akurasi dari LightGBM : 34.514388%\n",
            "Akurasi dari LightGBM : 33.291367%\n",
            "Akurasi dari LightGBM : 32.014388%\n",
            "Akurasi dari LightGBM : 33.956835%\n",
            "Akurasi dari LightGBM : 29.159921%\n",
            "Akurasi dari LightGBM : 52.635366%\n",
            "Akurasi dari LightGBM : 72.584997%\n",
            "Akurasi dari LightGBM : 87.101997%\n",
            "Rata-rata Akurasi dari LightGBM : 0.5151693313455011\n",
            "Akurasi Terbaik:  0.8710199676200756\n",
            "Confusion Matrix:  [[26824 21589]\n",
            " [ 5366  1817]]\n"
          ]
        }
      ]
    },
    {
      "cell_type": "code",
      "source": [
        "##fixxx\n",
        "from sklearn.model_selection import cross_val_score\n",
        "from sklearn.model_selection import cross_val_predict\n",
        "\n",
        "clf4 = DecisionTreeClassifier()\n",
        "dt = cross_val_score(clf4, X, y, cv=10, scoring = \"accuracy\")\n",
        "for i in range(10):\n",
        "  print(\"Akurasi dari Decision Tree : {0:2%}\". format(dt[i,]))\n",
        "print(\"Rata-rata Akurasi dari Decision Tree :\", dt.mean())\n",
        "print(\"Akurasi Terbaik: \", dt.max())\n",
        "y_pred = cross_val_predict(clf4, X, y, cv=10)\n",
        "cfm = confusion_matrix(y, y_pred)\n",
        "print(\"Confusion Matrix: \", cfm)"
      ],
      "metadata": {
        "colab": {
          "base_uri": "https://localhost:8080/"
        },
        "id": "5K7ohAXcTAVB",
        "outputId": "7a39f280-049b-430a-d653-9579da6b9bdd"
      },
      "execution_count": null,
      "outputs": [
        {
          "output_type": "stream",
          "name": "stdout",
          "text": [
            "Akurasi dari Decision Tree : 86.133094%\n",
            "Akurasi dari Decision Tree : 56.169065%\n",
            "Akurasi dari Decision Tree : 40.557554%\n",
            "Akurasi dari Decision Tree : 35.503597%\n",
            "Akurasi dari Decision Tree : 46.996403%\n",
            "Akurasi dari Decision Tree : 69.622302%\n",
            "Akurasi dari Decision Tree : 71.307789%\n",
            "Akurasi dari Decision Tree : 73.160640%\n",
            "Akurasi dari Decision Tree : 76.542544%\n",
            "Akurasi dari Decision Tree : 73.034718%\n",
            "Rata-rata Akurasi dari Decision Tree : 0.6290277060596531\n",
            "Akurasi Terbaik:  0.8613309352517986\n",
            "Confusion Matrix:  [[33265 15148]\n",
            " [ 5630  1553]]\n"
          ]
        }
      ]
    },
    {
      "cell_type": "markdown",
      "metadata": {
        "id": "2NRfhJCNrxNM"
      },
      "source": [
        "## **Stacking**"
      ]
    },
    {
      "cell_type": "code",
      "execution_count": null,
      "metadata": {
        "colab": {
          "base_uri": "https://localhost:8080/"
        },
        "id": "Bi4nTagIWToH",
        "outputId": "bf025989-1170-448a-8504-f1389a9e7205"
      },
      "outputs": [
        {
          "name": "stdout",
          "output_type": "stream",
          "text": [
            "Akurasi dari STACKING : 82.364417%\n",
            "Akurasi dari STACKING : 90.479906%\n",
            "Akurasi dari STACKING : 80.998829%\n",
            "Akurasi dari STACKING : 87.943816%\n",
            "Akurasi dari STACKING : 89.621537%\n",
            "Akurasi dari STACKING : 89.699571%\n",
            "Akurasi dari STACKING : 87.553648%\n",
            "Akurasi dari STACKING : 87.748732%\n",
            "Akurasi dari STACKING : 92.388759%\n",
            "Akurasi dari STACKING : 85.909446%\n",
            "Rata-rata Akurasi dari STACKING:  0.874708661024006\n",
            "Akurasi Terbaik:  0.9238875878220141\n",
            "Confusion Matrix:  [[10676  2138]\n",
            " [ 1095 11719]]\n"
          ]
        }
      ],
      "source": [
        "from sklearn.ensemble import StackingClassifier\n",
        "from sklearn.tree import DecisionTreeClassifier\n",
        "from xgboost import XGBClassifier\n",
        "from lightgbm import LGBMClassifier\n",
        "from sklearn.ensemble import RandomForestClassifier\n",
        "from sklearn.linear_model import LogisticRegression\n",
        "from sklearn.model_selection import cross_val_score\n",
        "from sklearn.model_selection import cross_val_predict\n",
        "\n",
        "estimators = [  \n",
        "    ('xgb', XGBClassifier()),\n",
        "    ('rf', RandomForestClassifier()),\n",
        "    ('dt', DecisionTreeClassifier()),\n",
        "    ('lg', LGBMClassifier()),\n",
        "]\n",
        "\n",
        "clf6 = StackingClassifier(estimators=estimators, final_estimator = XGBClassifier())\n",
        "stc = cross_val_score(clf6, X, y, cv=10, scoring = \"accuracy\")\n",
        "for i in range(10):\n",
        "  print(\"Akurasi dari STACKING : {0:2%}\". format(stc[i,]))\n",
        "print(\"Rata-rata Akurasi dari STACKING: \", stc.mean())\n",
        "print(\"Akurasi Terbaik: \", stc.max())\n",
        "y_pred = cross_val_predict(clf6, X, y, cv=10)\n",
        "cfm = confusion_matrix(y, y_pred)\n",
        "print(\"Confusion Matrix: \", cfm)"
      ]
    },
    {
      "cell_type": "code",
      "execution_count": null,
      "metadata": {
        "colab": {
          "base_uri": "https://localhost:8080/"
        },
        "id": "9tmkYwtFy-jG",
        "outputId": "bb436790-f037-4de5-cfa1-490e4020a641"
      },
      "outputs": [
        {
          "name": "stdout",
          "output_type": "stream",
          "text": [
            "Akurasi dari STACKING : 78.813890%\n",
            "Akurasi dari STACKING : 88.841202%\n",
            "Akurasi dari STACKING : 77.136169%\n",
            "Akurasi dari STACKING : 86.500195%\n",
            "Akurasi dari STACKING : 90.401873%\n",
            "Akurasi dari STACKING : 90.674990%\n",
            "Akurasi dari STACKING : 86.383145%\n",
            "Akurasi dari STACKING : 86.734296%\n",
            "Akurasi dari STACKING : 91.334895%\n",
            "Akurasi dari STACKING : 87.587822%\n",
            "Rata-rata Akurasi dari STACKING:  0.8644084755039515\n",
            "Akurasi Terbaik:  0.9133489461358314\n"
          ]
        }
      ],
      "source": [
        "from sklearn.ensemble import StackingClassifier\n",
        "from sklearn.tree import DecisionTreeClassifier\n",
        "from xgboost import XGBClassifier\n",
        "from lightgbm import LGBMClassifier\n",
        "from sklearn.ensemble import RandomForestClassifier\n",
        "from sklearn.linear_model import LogisticRegression\n",
        "from sklearn.model_selection import cross_val_score\n",
        "from sklearn.model_selection import cross_val_predict\n",
        "\n",
        "estimators = [  \n",
        "    ('xgb', XGBClassifier()),\n",
        "    ('rf', RandomForestClassifier()),\n",
        "    ('dt', DecisionTreeClassifier()),\n",
        "    ('lg', LGBMClassifier()),\n",
        "]\n",
        "\n",
        "clf4 = StackingClassifier(estimators=estimators, final_estimator = LogisticRegression())\n",
        "stc = cross_val_score(clf4, X, y, cv=10, scoring = \"accuracy\")\n",
        "for i in range(10):\n",
        "  print(\"Akurasi dari STACKING : {0:2%}\". format(stc[i,]))\n",
        "print(\"Rata-rata Akurasi dari STACKING: \", stc.mean())\n",
        "print(\"Akurasi Terbaik: \", stc.max())\n",
        "y_pred = cross_val_predict(clf4, X, y, cv=10)\n",
        "cfm = confusion_matrix(y, y_pred)\n",
        "print(\"Confusion Matrix: \", cfm)"
      ]
    }
  ],
  "metadata": {
    "colab": {
      "collapsed_sections": [
        "3HyBnYI1VC2-",
        "_ubMZxp4ySCX",
        "FrSUO7icVMPU",
        "d6Fn-e-JV-F1",
        "AK7Ken6noI8G",
        "3gTETUlu4Iy2",
        "WTwEn-mz5QCh",
        "k_uzHBHJ5qEQ",
        "UVgdctWi5-LD",
        "XDdxotlJ6Rrm",
        "JIAXfXFG60T-",
        "tYBpi1Qo7Z_N",
        "-nZhfHleAlE9",
        "ZH-J7VLdA11E",
        "mQE3Obh1BKfL",
        "uQEiW_LKBsI8",
        "NLy7avlNCD5c",
        "IeaP-MhLCfwz",
        "UiVGU4DhoN3Y",
        "Xx8r64bGwF5R",
        "kcGNjqHVwH5y",
        "Y79z3WwjwLA-",
        "w-0-SIzXsGXN",
        "CZ0B3prUsJzd",
        "3ptXGZzTtFr1",
        "49xRKBJprraA",
        "eEwyjniHr2ZR",
        "ubjLrlY2r43z",
        "Or9zXe5lueKD"
      ],
      "provenance": [],
      "include_colab_link": true
    },
    "kernelspec": {
      "display_name": "Python 3",
      "name": "python3"
    },
    "language_info": {
      "name": "python"
    }
  },
  "nbformat": 4,
  "nbformat_minor": 0
}