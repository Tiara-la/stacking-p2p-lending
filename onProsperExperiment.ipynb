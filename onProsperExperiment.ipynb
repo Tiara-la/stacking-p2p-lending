{
  "cells": [
    {
      "cell_type": "markdown",
      "metadata": {
        "id": "view-in-github",
        "colab_type": "text"
      },
      "source": [
        "<a href=\"https://colab.research.google.com/github/Tiara-la/stacking-p2p-lending/blob/main/onProsperExperiment.ipynb\" target=\"_parent\"><img src=\"https://colab.research.google.com/assets/colab-badge.svg\" alt=\"Open In Colab\"/></a>"
      ]
    },
    {
      "cell_type": "code",
      "source": [
        "import matplotlib.pyplot as plt\n",
        "import seaborn as sns\n",
        "import zipfile,os\n",
        "import pandas as pd\n",
        "import numpy as np\n",
        "\n",
        "from sklearn.ensemble import StackingClassifier\n",
        "from sklearn.ensemble import RandomForestClassifier\n",
        "from sklearn.tree import DecisionTreeClassifier\n",
        "from xgboost import XGBClassifier\n",
        "from lightgbm import LGBMClassifier\n",
        "from sklearn.model_selection import cross_val_score\n",
        "from sklearn.model_selection import cross_val_predict\n",
        "from sklearn.linear_model import LogisticRegression"
      ],
      "metadata": {
        "id": "3C4kq3MfoKz1"
      },
      "execution_count": 10,
      "outputs": []
    },
    {
      "cell_type": "markdown",
      "metadata": {
        "id": "FWZgm4Aexbyl"
      },
      "source": [
        "# **Data Collection**"
      ]
    },
    {
      "cell_type": "markdown",
      "metadata": {
        "id": "bnsEg5JO8SuD"
      },
      "source": [
        "## **Kaggle**"
      ]
    },
    {
      "cell_type": "code",
      "execution_count": 11,
      "metadata": {
        "id": "g2-fdXpcuK-4"
      },
      "outputs": [],
      "source": [
        "# install the Kaggle API client\n",
        "! pip install -q kaggle"
      ]
    },
    {
      "cell_type": "code",
      "execution_count": 12,
      "metadata": {
        "colab": {
          "base_uri": "https://localhost:8080/",
          "height": 0
        },
        "id": "mVQ25no_uUZ0",
        "outputId": "db945b67-c20a-4586-9ffd-2e0cc8d7799e"
      },
      "outputs": [
        {
          "output_type": "display_data",
          "data": {
            "text/plain": [
              "<IPython.core.display.HTML object>"
            ],
            "text/html": [
              "\n",
              "     <input type=\"file\" id=\"files-290f7348-609d-453c-baaa-efe9de5ebab6\" name=\"files[]\" multiple disabled\n",
              "        style=\"border:none\" />\n",
              "     <output id=\"result-290f7348-609d-453c-baaa-efe9de5ebab6\">\n",
              "      Upload widget is only available when the cell has been executed in the\n",
              "      current browser session. Please rerun this cell to enable.\n",
              "      </output>\n",
              "      <script>// Copyright 2017 Google LLC\n",
              "//\n",
              "// Licensed under the Apache License, Version 2.0 (the \"License\");\n",
              "// you may not use this file except in compliance with the License.\n",
              "// You may obtain a copy of the License at\n",
              "//\n",
              "//      http://www.apache.org/licenses/LICENSE-2.0\n",
              "//\n",
              "// Unless required by applicable law or agreed to in writing, software\n",
              "// distributed under the License is distributed on an \"AS IS\" BASIS,\n",
              "// WITHOUT WARRANTIES OR CONDITIONS OF ANY KIND, either express or implied.\n",
              "// See the License for the specific language governing permissions and\n",
              "// limitations under the License.\n",
              "\n",
              "/**\n",
              " * @fileoverview Helpers for google.colab Python module.\n",
              " */\n",
              "(function(scope) {\n",
              "function span(text, styleAttributes = {}) {\n",
              "  const element = document.createElement('span');\n",
              "  element.textContent = text;\n",
              "  for (const key of Object.keys(styleAttributes)) {\n",
              "    element.style[key] = styleAttributes[key];\n",
              "  }\n",
              "  return element;\n",
              "}\n",
              "\n",
              "// Max number of bytes which will be uploaded at a time.\n",
              "const MAX_PAYLOAD_SIZE = 100 * 1024;\n",
              "\n",
              "function _uploadFiles(inputId, outputId) {\n",
              "  const steps = uploadFilesStep(inputId, outputId);\n",
              "  const outputElement = document.getElementById(outputId);\n",
              "  // Cache steps on the outputElement to make it available for the next call\n",
              "  // to uploadFilesContinue from Python.\n",
              "  outputElement.steps = steps;\n",
              "\n",
              "  return _uploadFilesContinue(outputId);\n",
              "}\n",
              "\n",
              "// This is roughly an async generator (not supported in the browser yet),\n",
              "// where there are multiple asynchronous steps and the Python side is going\n",
              "// to poll for completion of each step.\n",
              "// This uses a Promise to block the python side on completion of each step,\n",
              "// then passes the result of the previous step as the input to the next step.\n",
              "function _uploadFilesContinue(outputId) {\n",
              "  const outputElement = document.getElementById(outputId);\n",
              "  const steps = outputElement.steps;\n",
              "\n",
              "  const next = steps.next(outputElement.lastPromiseValue);\n",
              "  return Promise.resolve(next.value.promise).then((value) => {\n",
              "    // Cache the last promise value to make it available to the next\n",
              "    // step of the generator.\n",
              "    outputElement.lastPromiseValue = value;\n",
              "    return next.value.response;\n",
              "  });\n",
              "}\n",
              "\n",
              "/**\n",
              " * Generator function which is called between each async step of the upload\n",
              " * process.\n",
              " * @param {string} inputId Element ID of the input file picker element.\n",
              " * @param {string} outputId Element ID of the output display.\n",
              " * @return {!Iterable<!Object>} Iterable of next steps.\n",
              " */\n",
              "function* uploadFilesStep(inputId, outputId) {\n",
              "  const inputElement = document.getElementById(inputId);\n",
              "  inputElement.disabled = false;\n",
              "\n",
              "  const outputElement = document.getElementById(outputId);\n",
              "  outputElement.innerHTML = '';\n",
              "\n",
              "  const pickedPromise = new Promise((resolve) => {\n",
              "    inputElement.addEventListener('change', (e) => {\n",
              "      resolve(e.target.files);\n",
              "    });\n",
              "  });\n",
              "\n",
              "  const cancel = document.createElement('button');\n",
              "  inputElement.parentElement.appendChild(cancel);\n",
              "  cancel.textContent = 'Cancel upload';\n",
              "  const cancelPromise = new Promise((resolve) => {\n",
              "    cancel.onclick = () => {\n",
              "      resolve(null);\n",
              "    };\n",
              "  });\n",
              "\n",
              "  // Wait for the user to pick the files.\n",
              "  const files = yield {\n",
              "    promise: Promise.race([pickedPromise, cancelPromise]),\n",
              "    response: {\n",
              "      action: 'starting',\n",
              "    }\n",
              "  };\n",
              "\n",
              "  cancel.remove();\n",
              "\n",
              "  // Disable the input element since further picks are not allowed.\n",
              "  inputElement.disabled = true;\n",
              "\n",
              "  if (!files) {\n",
              "    return {\n",
              "      response: {\n",
              "        action: 'complete',\n",
              "      }\n",
              "    };\n",
              "  }\n",
              "\n",
              "  for (const file of files) {\n",
              "    const li = document.createElement('li');\n",
              "    li.append(span(file.name, {fontWeight: 'bold'}));\n",
              "    li.append(span(\n",
              "        `(${file.type || 'n/a'}) - ${file.size} bytes, ` +\n",
              "        `last modified: ${\n",
              "            file.lastModifiedDate ? file.lastModifiedDate.toLocaleDateString() :\n",
              "                                    'n/a'} - `));\n",
              "    const percent = span('0% done');\n",
              "    li.appendChild(percent);\n",
              "\n",
              "    outputElement.appendChild(li);\n",
              "\n",
              "    const fileDataPromise = new Promise((resolve) => {\n",
              "      const reader = new FileReader();\n",
              "      reader.onload = (e) => {\n",
              "        resolve(e.target.result);\n",
              "      };\n",
              "      reader.readAsArrayBuffer(file);\n",
              "    });\n",
              "    // Wait for the data to be ready.\n",
              "    let fileData = yield {\n",
              "      promise: fileDataPromise,\n",
              "      response: {\n",
              "        action: 'continue',\n",
              "      }\n",
              "    };\n",
              "\n",
              "    // Use a chunked sending to avoid message size limits. See b/62115660.\n",
              "    let position = 0;\n",
              "    do {\n",
              "      const length = Math.min(fileData.byteLength - position, MAX_PAYLOAD_SIZE);\n",
              "      const chunk = new Uint8Array(fileData, position, length);\n",
              "      position += length;\n",
              "\n",
              "      const base64 = btoa(String.fromCharCode.apply(null, chunk));\n",
              "      yield {\n",
              "        response: {\n",
              "          action: 'append',\n",
              "          file: file.name,\n",
              "          data: base64,\n",
              "        },\n",
              "      };\n",
              "\n",
              "      let percentDone = fileData.byteLength === 0 ?\n",
              "          100 :\n",
              "          Math.round((position / fileData.byteLength) * 100);\n",
              "      percent.textContent = `${percentDone}% done`;\n",
              "\n",
              "    } while (position < fileData.byteLength);\n",
              "  }\n",
              "\n",
              "  // All done.\n",
              "  yield {\n",
              "    response: {\n",
              "      action: 'complete',\n",
              "    }\n",
              "  };\n",
              "}\n",
              "\n",
              "scope.google = scope.google || {};\n",
              "scope.google.colab = scope.google.colab || {};\n",
              "scope.google.colab._files = {\n",
              "  _uploadFiles,\n",
              "  _uploadFilesContinue,\n",
              "};\n",
              "})(self);\n",
              "</script> "
            ]
          },
          "metadata": {}
        },
        {
          "output_type": "stream",
          "name": "stdout",
          "text": [
            "Saving kaggle.json to kaggle (1).json\n"
          ]
        },
        {
          "output_type": "execute_result",
          "data": {
            "text/plain": [
              "{'kaggle.json': b'{\"username\":\"tiaralailatulnikmah\",\"key\":\"1a294e2d607cef4fb50b5cd7366998e0\"}'}"
            ]
          },
          "metadata": {},
          "execution_count": 12
        }
      ],
      "source": [
        "# Unggah file kaggle.json\n",
        "from google.colab import files\n",
        "files.upload()"
      ]
    },
    {
      "cell_type": "code",
      "execution_count": 13,
      "metadata": {
        "id": "w8vtfnfsuWch"
      },
      "outputs": [],
      "source": [
        "!mkdir -p ~/.kaggle \n",
        "!cp kaggle.json ~/.kaggle/\n",
        "!chmod 600 ~/.kaggle/kaggle.json"
      ]
    },
    {
      "cell_type": "code",
      "execution_count": 14,
      "metadata": {
        "colab": {
          "base_uri": "https://localhost:8080/"
        },
        "id": "397leEUU0WIB",
        "outputId": "2c979f69-5fdb-4586-c696-d2117855bcd8"
      },
      "outputs": [
        {
          "output_type": "stream",
          "name": "stdout",
          "text": [
            "online-p2p-lending.zip: Skipping, found more recently modified local copy (use --force to force download)\n"
          ]
        }
      ],
      "source": [
        "!kaggle datasets download -d skihikingkevin/online-p2p-lending"
      ]
    },
    {
      "cell_type": "code",
      "execution_count": 15,
      "metadata": {
        "id": "BJIfaITD0fC4"
      },
      "outputs": [],
      "source": [
        "# melakukan unzip pada dataset yang telah di download\n",
        "\n",
        "import zipfile,os\n",
        "local_zip = '/content/online-p2p-lending.zip'\n",
        "zip_ref = zipfile.ZipFile(local_zip, 'r')\n",
        "zip_ref.extractall('/tmp')\n",
        "zip_ref.close()"
      ]
    },
    {
      "cell_type": "markdown",
      "source": [
        "## **Data Import**"
      ],
      "metadata": {
        "id": "ICY9Aoumw0jG"
      }
    },
    {
      "cell_type": "code",
      "execution_count": 16,
      "metadata": {
        "colab": {
          "base_uri": "https://localhost:8080/",
          "height": 0
        },
        "id": "ghNxTCnDnISj",
        "outputId": "4ff91c84-f460-4ea2-def5-0b55cc12f4e5"
      },
      "outputs": [
        {
          "output_type": "stream",
          "name": "stderr",
          "text": [
            "/usr/local/lib/python3.9/dist-packages/IPython/core/interactiveshell.py:3326: DtypeWarning: Columns (7) have mixed types.Specify dtype option on import or set low_memory=False.\n",
            "  exec(code_obj, self.user_global_ns, self.user_ns)\n"
          ]
        },
        {
          "output_type": "execute_result",
          "data": {
            "text/plain": [
              "         loan_number  amount_borrowed  term  borrower_rate  installment grade  \\\n",
              "0           10149342          27050.0    36         0.1099   885.460000     B   \n",
              "1           10149488           4800.0    36         0.1099   157.130000     B   \n",
              "2           10148122          12000.0    36         0.0762   373.940000     A   \n",
              "3           10119623          12000.0    36         0.1199   398.520000     B   \n",
              "4           10159498          12000.0    36         0.0662   368.450000     A   \n",
              "...              ...              ...   ...            ...          ...   ...   \n",
              "2875141      1081905          10000.0    36         0.0934   319.582092     B   \n",
              "2875142      1081908          10000.0    36         0.1214   332.812163     C   \n",
              "2875143      1081947           4000.0    60         0.2455   116.352367     E   \n",
              "2875144      1081797          30000.0    60         0.1878   774.589469     D   \n",
              "2875145      1081953           3500.0    36         0.1024   113.329941     B   \n",
              "\n",
              "         origination_date       listing_title  principal_balance  \\\n",
              "0        2013-12-01T00:00  debt_consolidation               0.00   \n",
              "1        2013-12-01T00:00    home_improvement               0.00   \n",
              "2        2013-12-01T00:00  debt_consolidation               0.00   \n",
              "3        2013-12-01T00:00  debt_consolidation               0.00   \n",
              "4        2013-12-01T00:00  debt_consolidation               0.00   \n",
              "...                   ...                 ...                ...   \n",
              "2875141        2018-06-29                 NaN            9667.17   \n",
              "2875142        2018-06-29                 NaN            9766.97   \n",
              "2875143        2018-06-29                 NaN            3964.36   \n",
              "2875144        2018-06-29                 NaN           29688.48   \n",
              "2875145        2018-06-29                 NaN            3416.13   \n",
              "\n",
              "         principal_paid  interest_paid  late_fees_paid  \\\n",
              "0              27050.00        4702.53             0.0   \n",
              "1               4800.00         357.52             0.0   \n",
              "2              12000.00        1397.54             0.0   \n",
              "3              12000.00        2346.48             0.0   \n",
              "4              12000.00        1263.95             0.0   \n",
              "...                 ...            ...             ...   \n",
              "2875141          332.83          86.75             0.0   \n",
              "2875142          233.03          99.78             0.0   \n",
              "2875143           35.64          80.71             0.0   \n",
              "2875144          311.52         463.07             0.0   \n",
              "2875145           83.87          29.46             0.0   \n",
              "\n",
              "         debt_sale_proceeds_received last_payment_date next_payment_due_date  \\\n",
              "0                                0.0  2016-07-01T00:00      2016-08-01T00:00   \n",
              "1                                0.0  2014-09-01T00:00      2014-10-01T00:00   \n",
              "2                                0.0  2016-06-01T00:00      2016-07-01T00:00   \n",
              "3                                0.0  2017-01-01T00:00      2017-02-01T00:00   \n",
              "4                                0.0  2017-01-01T00:00      2017-02-01T00:00   \n",
              "...                              ...               ...                   ...   \n",
              "2875141                          0.0        2018-09-29            2018-08-29   \n",
              "2875142                          0.0        2018-08-29            2018-08-29   \n",
              "2875143                          0.0        2018-08-29            2018-08-29   \n",
              "2875144                          0.0        2018-08-29            2018-08-29   \n",
              "2875145                          0.0        2018-08-29            2018-08-29   \n",
              "\n",
              "         days_past_due loan_status_description   data_source  \n",
              "0                    0               COMPLETED  Lending Club  \n",
              "1                    0               COMPLETED  Lending Club  \n",
              "2                    0               COMPLETED  Lending Club  \n",
              "3                    0               COMPLETED  Lending Club  \n",
              "4                    0               COMPLETED  Lending Club  \n",
              "...                ...                     ...           ...  \n",
              "2875141              0                 CURRENT       Prosper  \n",
              "2875142              0                 CURRENT       Prosper  \n",
              "2875143              0                 CURRENT       Prosper  \n",
              "2875144              0                 CURRENT       Prosper  \n",
              "2875145              0                 CURRENT       Prosper  \n",
              "\n",
              "[2875146 rows x 18 columns]"
            ],
            "text/html": [
              "\n",
              "  <div id=\"df-936b9876-0668-411a-84d7-2d26a59f69ff\">\n",
              "    <div class=\"colab-df-container\">\n",
              "      <div>\n",
              "<style scoped>\n",
              "    .dataframe tbody tr th:only-of-type {\n",
              "        vertical-align: middle;\n",
              "    }\n",
              "\n",
              "    .dataframe tbody tr th {\n",
              "        vertical-align: top;\n",
              "    }\n",
              "\n",
              "    .dataframe thead th {\n",
              "        text-align: right;\n",
              "    }\n",
              "</style>\n",
              "<table border=\"1\" class=\"dataframe\">\n",
              "  <thead>\n",
              "    <tr style=\"text-align: right;\">\n",
              "      <th></th>\n",
              "      <th>loan_number</th>\n",
              "      <th>amount_borrowed</th>\n",
              "      <th>term</th>\n",
              "      <th>borrower_rate</th>\n",
              "      <th>installment</th>\n",
              "      <th>grade</th>\n",
              "      <th>origination_date</th>\n",
              "      <th>listing_title</th>\n",
              "      <th>principal_balance</th>\n",
              "      <th>principal_paid</th>\n",
              "      <th>interest_paid</th>\n",
              "      <th>late_fees_paid</th>\n",
              "      <th>debt_sale_proceeds_received</th>\n",
              "      <th>last_payment_date</th>\n",
              "      <th>next_payment_due_date</th>\n",
              "      <th>days_past_due</th>\n",
              "      <th>loan_status_description</th>\n",
              "      <th>data_source</th>\n",
              "    </tr>\n",
              "  </thead>\n",
              "  <tbody>\n",
              "    <tr>\n",
              "      <th>0</th>\n",
              "      <td>10149342</td>\n",
              "      <td>27050.0</td>\n",
              "      <td>36</td>\n",
              "      <td>0.1099</td>\n",
              "      <td>885.460000</td>\n",
              "      <td>B</td>\n",
              "      <td>2013-12-01T00:00</td>\n",
              "      <td>debt_consolidation</td>\n",
              "      <td>0.00</td>\n",
              "      <td>27050.00</td>\n",
              "      <td>4702.53</td>\n",
              "      <td>0.0</td>\n",
              "      <td>0.0</td>\n",
              "      <td>2016-07-01T00:00</td>\n",
              "      <td>2016-08-01T00:00</td>\n",
              "      <td>0</td>\n",
              "      <td>COMPLETED</td>\n",
              "      <td>Lending Club</td>\n",
              "    </tr>\n",
              "    <tr>\n",
              "      <th>1</th>\n",
              "      <td>10149488</td>\n",
              "      <td>4800.0</td>\n",
              "      <td>36</td>\n",
              "      <td>0.1099</td>\n",
              "      <td>157.130000</td>\n",
              "      <td>B</td>\n",
              "      <td>2013-12-01T00:00</td>\n",
              "      <td>home_improvement</td>\n",
              "      <td>0.00</td>\n",
              "      <td>4800.00</td>\n",
              "      <td>357.52</td>\n",
              "      <td>0.0</td>\n",
              "      <td>0.0</td>\n",
              "      <td>2014-09-01T00:00</td>\n",
              "      <td>2014-10-01T00:00</td>\n",
              "      <td>0</td>\n",
              "      <td>COMPLETED</td>\n",
              "      <td>Lending Club</td>\n",
              "    </tr>\n",
              "    <tr>\n",
              "      <th>2</th>\n",
              "      <td>10148122</td>\n",
              "      <td>12000.0</td>\n",
              "      <td>36</td>\n",
              "      <td>0.0762</td>\n",
              "      <td>373.940000</td>\n",
              "      <td>A</td>\n",
              "      <td>2013-12-01T00:00</td>\n",
              "      <td>debt_consolidation</td>\n",
              "      <td>0.00</td>\n",
              "      <td>12000.00</td>\n",
              "      <td>1397.54</td>\n",
              "      <td>0.0</td>\n",
              "      <td>0.0</td>\n",
              "      <td>2016-06-01T00:00</td>\n",
              "      <td>2016-07-01T00:00</td>\n",
              "      <td>0</td>\n",
              "      <td>COMPLETED</td>\n",
              "      <td>Lending Club</td>\n",
              "    </tr>\n",
              "    <tr>\n",
              "      <th>3</th>\n",
              "      <td>10119623</td>\n",
              "      <td>12000.0</td>\n",
              "      <td>36</td>\n",
              "      <td>0.1199</td>\n",
              "      <td>398.520000</td>\n",
              "      <td>B</td>\n",
              "      <td>2013-12-01T00:00</td>\n",
              "      <td>debt_consolidation</td>\n",
              "      <td>0.00</td>\n",
              "      <td>12000.00</td>\n",
              "      <td>2346.48</td>\n",
              "      <td>0.0</td>\n",
              "      <td>0.0</td>\n",
              "      <td>2017-01-01T00:00</td>\n",
              "      <td>2017-02-01T00:00</td>\n",
              "      <td>0</td>\n",
              "      <td>COMPLETED</td>\n",
              "      <td>Lending Club</td>\n",
              "    </tr>\n",
              "    <tr>\n",
              "      <th>4</th>\n",
              "      <td>10159498</td>\n",
              "      <td>12000.0</td>\n",
              "      <td>36</td>\n",
              "      <td>0.0662</td>\n",
              "      <td>368.450000</td>\n",
              "      <td>A</td>\n",
              "      <td>2013-12-01T00:00</td>\n",
              "      <td>debt_consolidation</td>\n",
              "      <td>0.00</td>\n",
              "      <td>12000.00</td>\n",
              "      <td>1263.95</td>\n",
              "      <td>0.0</td>\n",
              "      <td>0.0</td>\n",
              "      <td>2017-01-01T00:00</td>\n",
              "      <td>2017-02-01T00:00</td>\n",
              "      <td>0</td>\n",
              "      <td>COMPLETED</td>\n",
              "      <td>Lending Club</td>\n",
              "    </tr>\n",
              "    <tr>\n",
              "      <th>...</th>\n",
              "      <td>...</td>\n",
              "      <td>...</td>\n",
              "      <td>...</td>\n",
              "      <td>...</td>\n",
              "      <td>...</td>\n",
              "      <td>...</td>\n",
              "      <td>...</td>\n",
              "      <td>...</td>\n",
              "      <td>...</td>\n",
              "      <td>...</td>\n",
              "      <td>...</td>\n",
              "      <td>...</td>\n",
              "      <td>...</td>\n",
              "      <td>...</td>\n",
              "      <td>...</td>\n",
              "      <td>...</td>\n",
              "      <td>...</td>\n",
              "      <td>...</td>\n",
              "    </tr>\n",
              "    <tr>\n",
              "      <th>2875141</th>\n",
              "      <td>1081905</td>\n",
              "      <td>10000.0</td>\n",
              "      <td>36</td>\n",
              "      <td>0.0934</td>\n",
              "      <td>319.582092</td>\n",
              "      <td>B</td>\n",
              "      <td>2018-06-29</td>\n",
              "      <td>NaN</td>\n",
              "      <td>9667.17</td>\n",
              "      <td>332.83</td>\n",
              "      <td>86.75</td>\n",
              "      <td>0.0</td>\n",
              "      <td>0.0</td>\n",
              "      <td>2018-09-29</td>\n",
              "      <td>2018-08-29</td>\n",
              "      <td>0</td>\n",
              "      <td>CURRENT</td>\n",
              "      <td>Prosper</td>\n",
              "    </tr>\n",
              "    <tr>\n",
              "      <th>2875142</th>\n",
              "      <td>1081908</td>\n",
              "      <td>10000.0</td>\n",
              "      <td>36</td>\n",
              "      <td>0.1214</td>\n",
              "      <td>332.812163</td>\n",
              "      <td>C</td>\n",
              "      <td>2018-06-29</td>\n",
              "      <td>NaN</td>\n",
              "      <td>9766.97</td>\n",
              "      <td>233.03</td>\n",
              "      <td>99.78</td>\n",
              "      <td>0.0</td>\n",
              "      <td>0.0</td>\n",
              "      <td>2018-08-29</td>\n",
              "      <td>2018-08-29</td>\n",
              "      <td>0</td>\n",
              "      <td>CURRENT</td>\n",
              "      <td>Prosper</td>\n",
              "    </tr>\n",
              "    <tr>\n",
              "      <th>2875143</th>\n",
              "      <td>1081947</td>\n",
              "      <td>4000.0</td>\n",
              "      <td>60</td>\n",
              "      <td>0.2455</td>\n",
              "      <td>116.352367</td>\n",
              "      <td>E</td>\n",
              "      <td>2018-06-29</td>\n",
              "      <td>NaN</td>\n",
              "      <td>3964.36</td>\n",
              "      <td>35.64</td>\n",
              "      <td>80.71</td>\n",
              "      <td>0.0</td>\n",
              "      <td>0.0</td>\n",
              "      <td>2018-08-29</td>\n",
              "      <td>2018-08-29</td>\n",
              "      <td>0</td>\n",
              "      <td>CURRENT</td>\n",
              "      <td>Prosper</td>\n",
              "    </tr>\n",
              "    <tr>\n",
              "      <th>2875144</th>\n",
              "      <td>1081797</td>\n",
              "      <td>30000.0</td>\n",
              "      <td>60</td>\n",
              "      <td>0.1878</td>\n",
              "      <td>774.589469</td>\n",
              "      <td>D</td>\n",
              "      <td>2018-06-29</td>\n",
              "      <td>NaN</td>\n",
              "      <td>29688.48</td>\n",
              "      <td>311.52</td>\n",
              "      <td>463.07</td>\n",
              "      <td>0.0</td>\n",
              "      <td>0.0</td>\n",
              "      <td>2018-08-29</td>\n",
              "      <td>2018-08-29</td>\n",
              "      <td>0</td>\n",
              "      <td>CURRENT</td>\n",
              "      <td>Prosper</td>\n",
              "    </tr>\n",
              "    <tr>\n",
              "      <th>2875145</th>\n",
              "      <td>1081953</td>\n",
              "      <td>3500.0</td>\n",
              "      <td>36</td>\n",
              "      <td>0.1024</td>\n",
              "      <td>113.329941</td>\n",
              "      <td>B</td>\n",
              "      <td>2018-06-29</td>\n",
              "      <td>NaN</td>\n",
              "      <td>3416.13</td>\n",
              "      <td>83.87</td>\n",
              "      <td>29.46</td>\n",
              "      <td>0.0</td>\n",
              "      <td>0.0</td>\n",
              "      <td>2018-08-29</td>\n",
              "      <td>2018-08-29</td>\n",
              "      <td>0</td>\n",
              "      <td>CURRENT</td>\n",
              "      <td>Prosper</td>\n",
              "    </tr>\n",
              "  </tbody>\n",
              "</table>\n",
              "<p>2875146 rows × 18 columns</p>\n",
              "</div>\n",
              "      <button class=\"colab-df-convert\" onclick=\"convertToInteractive('df-936b9876-0668-411a-84d7-2d26a59f69ff')\"\n",
              "              title=\"Convert this dataframe to an interactive table.\"\n",
              "              style=\"display:none;\">\n",
              "        \n",
              "  <svg xmlns=\"http://www.w3.org/2000/svg\" height=\"24px\"viewBox=\"0 0 24 24\"\n",
              "       width=\"24px\">\n",
              "    <path d=\"M0 0h24v24H0V0z\" fill=\"none\"/>\n",
              "    <path d=\"M18.56 5.44l.94 2.06.94-2.06 2.06-.94-2.06-.94-.94-2.06-.94 2.06-2.06.94zm-11 1L8.5 8.5l.94-2.06 2.06-.94-2.06-.94L8.5 2.5l-.94 2.06-2.06.94zm10 10l.94 2.06.94-2.06 2.06-.94-2.06-.94-.94-2.06-.94 2.06-2.06.94z\"/><path d=\"M17.41 7.96l-1.37-1.37c-.4-.4-.92-.59-1.43-.59-.52 0-1.04.2-1.43.59L10.3 9.45l-7.72 7.72c-.78.78-.78 2.05 0 2.83L4 21.41c.39.39.9.59 1.41.59.51 0 1.02-.2 1.41-.59l7.78-7.78 2.81-2.81c.8-.78.8-2.07 0-2.86zM5.41 20L4 18.59l7.72-7.72 1.47 1.35L5.41 20z\"/>\n",
              "  </svg>\n",
              "      </button>\n",
              "      \n",
              "  <style>\n",
              "    .colab-df-container {\n",
              "      display:flex;\n",
              "      flex-wrap:wrap;\n",
              "      gap: 12px;\n",
              "    }\n",
              "\n",
              "    .colab-df-convert {\n",
              "      background-color: #E8F0FE;\n",
              "      border: none;\n",
              "      border-radius: 50%;\n",
              "      cursor: pointer;\n",
              "      display: none;\n",
              "      fill: #1967D2;\n",
              "      height: 32px;\n",
              "      padding: 0 0 0 0;\n",
              "      width: 32px;\n",
              "    }\n",
              "\n",
              "    .colab-df-convert:hover {\n",
              "      background-color: #E2EBFA;\n",
              "      box-shadow: 0px 1px 2px rgba(60, 64, 67, 0.3), 0px 1px 3px 1px rgba(60, 64, 67, 0.15);\n",
              "      fill: #174EA6;\n",
              "    }\n",
              "\n",
              "    [theme=dark] .colab-df-convert {\n",
              "      background-color: #3B4455;\n",
              "      fill: #D2E3FC;\n",
              "    }\n",
              "\n",
              "    [theme=dark] .colab-df-convert:hover {\n",
              "      background-color: #434B5C;\n",
              "      box-shadow: 0px 1px 3px 1px rgba(0, 0, 0, 0.15);\n",
              "      filter: drop-shadow(0px 1px 2px rgba(0, 0, 0, 0.3));\n",
              "      fill: #FFFFFF;\n",
              "    }\n",
              "  </style>\n",
              "\n",
              "      <script>\n",
              "        const buttonEl =\n",
              "          document.querySelector('#df-936b9876-0668-411a-84d7-2d26a59f69ff button.colab-df-convert');\n",
              "        buttonEl.style.display =\n",
              "          google.colab.kernel.accessAllowed ? 'block' : 'none';\n",
              "\n",
              "        async function convertToInteractive(key) {\n",
              "          const element = document.querySelector('#df-936b9876-0668-411a-84d7-2d26a59f69ff');\n",
              "          const dataTable =\n",
              "            await google.colab.kernel.invokeFunction('convertToInteractive',\n",
              "                                                     [key], {});\n",
              "          if (!dataTable) return;\n",
              "\n",
              "          const docLinkHtml = 'Like what you see? Visit the ' +\n",
              "            '<a target=\"_blank\" href=https://colab.research.google.com/notebooks/data_table.ipynb>data table notebook</a>'\n",
              "            + ' to learn more about interactive tables.';\n",
              "          element.innerHTML = '';\n",
              "          dataTable['output_type'] = 'display_data';\n",
              "          await google.colab.output.renderOutput(dataTable, element);\n",
              "          const docLink = document.createElement('div');\n",
              "          docLink.innerHTML = docLinkHtml;\n",
              "          element.appendChild(docLink);\n",
              "        }\n",
              "      </script>\n",
              "    </div>\n",
              "  </div>\n",
              "  "
            ]
          },
          "metadata": {},
          "execution_count": 16
        }
      ],
      "source": [
        "# membaca dataset\n",
        "df = pd.read_csv('/tmp/Master_Loan_Summary.csv',  delimiter=',')\n",
        "df"
      ]
    },
    {
      "cell_type": "code",
      "execution_count": 17,
      "metadata": {
        "colab": {
          "base_uri": "https://localhost:8080/",
          "height": 0
        },
        "id": "rLoV_R_Uu2CK",
        "outputId": "6cde62f5-63ac-44f9-e58b-cb7aed25bbca"
      },
      "outputs": [
        {
          "output_type": "execute_result",
          "data": {
            "text/plain": [
              "         loan_number  amount_borrowed  term  borrower_rate  installment grade  \\\n",
              "1961527        80355           5000.0    36         0.2566   200.548615     E   \n",
              "1961528        80708          15500.0    36         0.1679   550.998674     C   \n",
              "1961529        80800          10000.0    60         0.2557   296.864320     E   \n",
              "1961530        81062          15000.0    60         0.1752   376.995481     C   \n",
              "1961531        80676           2500.0    36         0.0789    78.214113     A   \n",
              "...              ...              ...   ...            ...          ...   ...   \n",
              "2875141      1081905          10000.0    36         0.0934   319.582092     B   \n",
              "2875142      1081908          10000.0    36         0.1214   332.812163     C   \n",
              "2875143      1081947           4000.0    60         0.2455   116.352367     E   \n",
              "2875144      1081797          30000.0    60         0.1878   774.589469     D   \n",
              "2875145      1081953           3500.0    36         0.1024   113.329941     B   \n",
              "\n",
              "        origination_date listing_title  principal_balance  principal_paid  \\\n",
              "1961527       2013-01-04           NaN               0.00         5000.00   \n",
              "1961528       2013-01-04           NaN               0.00        15500.00   \n",
              "1961529       2013-01-07           NaN               0.00        10000.00   \n",
              "1961530       2013-01-07           NaN               0.00        15000.00   \n",
              "1961531       2013-01-07           NaN               0.00         2499.99   \n",
              "...                  ...           ...                ...             ...   \n",
              "2875141       2018-06-29           NaN            9667.17          332.83   \n",
              "2875142       2018-06-29           NaN            9766.97          233.03   \n",
              "2875143       2018-06-29           NaN            3964.36           35.64   \n",
              "2875144       2018-06-29           NaN           29688.48          311.52   \n",
              "2875145       2018-06-29           NaN            3416.13           83.87   \n",
              "\n",
              "         interest_paid  late_fees_paid  debt_sale_proceeds_received  \\\n",
              "1961527        1793.31             0.0                          0.0   \n",
              "1961528        3452.00             0.0                          0.0   \n",
              "1961529        4084.82             0.0                          0.0   \n",
              "1961530        4133.78             0.0                          0.0   \n",
              "1961531         228.74             0.0                          0.0   \n",
              "...                ...             ...                          ...   \n",
              "2875141          86.75             0.0                          0.0   \n",
              "2875142          99.78             0.0                          0.0   \n",
              "2875143          80.71             0.0                          0.0   \n",
              "2875144         463.07             0.0                          0.0   \n",
              "2875145          29.46             0.0                          0.0   \n",
              "\n",
              "        last_payment_date next_payment_due_date  days_past_due  \\\n",
              "1961527        2015-07-04            2016-01-04              0   \n",
              "1961528        2015-06-04            2016-01-04              0   \n",
              "1961529        2015-09-07            2018-01-07              0   \n",
              "1961530        2015-10-07            2018-01-07              0   \n",
              "1961531        2015-04-07            2016-01-07              0   \n",
              "...                   ...                   ...            ...   \n",
              "2875141        2018-09-29            2018-08-29              0   \n",
              "2875142        2018-08-29            2018-08-29              0   \n",
              "2875143        2018-08-29            2018-08-29              0   \n",
              "2875144        2018-08-29            2018-08-29              0   \n",
              "2875145        2018-08-29            2018-08-29              0   \n",
              "\n",
              "        loan_status_description data_source  \n",
              "1961527               COMPLETED     Prosper  \n",
              "1961528               COMPLETED     Prosper  \n",
              "1961529               COMPLETED     Prosper  \n",
              "1961530               COMPLETED     Prosper  \n",
              "1961531               COMPLETED     Prosper  \n",
              "...                         ...         ...  \n",
              "2875141                 CURRENT     Prosper  \n",
              "2875142                 CURRENT     Prosper  \n",
              "2875143                 CURRENT     Prosper  \n",
              "2875144                 CURRENT     Prosper  \n",
              "2875145                 CURRENT     Prosper  \n",
              "\n",
              "[913619 rows x 18 columns]"
            ],
            "text/html": [
              "\n",
              "  <div id=\"df-1766392a-99bc-4bf3-9a3e-a382192dccb3\">\n",
              "    <div class=\"colab-df-container\">\n",
              "      <div>\n",
              "<style scoped>\n",
              "    .dataframe tbody tr th:only-of-type {\n",
              "        vertical-align: middle;\n",
              "    }\n",
              "\n",
              "    .dataframe tbody tr th {\n",
              "        vertical-align: top;\n",
              "    }\n",
              "\n",
              "    .dataframe thead th {\n",
              "        text-align: right;\n",
              "    }\n",
              "</style>\n",
              "<table border=\"1\" class=\"dataframe\">\n",
              "  <thead>\n",
              "    <tr style=\"text-align: right;\">\n",
              "      <th></th>\n",
              "      <th>loan_number</th>\n",
              "      <th>amount_borrowed</th>\n",
              "      <th>term</th>\n",
              "      <th>borrower_rate</th>\n",
              "      <th>installment</th>\n",
              "      <th>grade</th>\n",
              "      <th>origination_date</th>\n",
              "      <th>listing_title</th>\n",
              "      <th>principal_balance</th>\n",
              "      <th>principal_paid</th>\n",
              "      <th>interest_paid</th>\n",
              "      <th>late_fees_paid</th>\n",
              "      <th>debt_sale_proceeds_received</th>\n",
              "      <th>last_payment_date</th>\n",
              "      <th>next_payment_due_date</th>\n",
              "      <th>days_past_due</th>\n",
              "      <th>loan_status_description</th>\n",
              "      <th>data_source</th>\n",
              "    </tr>\n",
              "  </thead>\n",
              "  <tbody>\n",
              "    <tr>\n",
              "      <th>1961527</th>\n",
              "      <td>80355</td>\n",
              "      <td>5000.0</td>\n",
              "      <td>36</td>\n",
              "      <td>0.2566</td>\n",
              "      <td>200.548615</td>\n",
              "      <td>E</td>\n",
              "      <td>2013-01-04</td>\n",
              "      <td>NaN</td>\n",
              "      <td>0.00</td>\n",
              "      <td>5000.00</td>\n",
              "      <td>1793.31</td>\n",
              "      <td>0.0</td>\n",
              "      <td>0.0</td>\n",
              "      <td>2015-07-04</td>\n",
              "      <td>2016-01-04</td>\n",
              "      <td>0</td>\n",
              "      <td>COMPLETED</td>\n",
              "      <td>Prosper</td>\n",
              "    </tr>\n",
              "    <tr>\n",
              "      <th>1961528</th>\n",
              "      <td>80708</td>\n",
              "      <td>15500.0</td>\n",
              "      <td>36</td>\n",
              "      <td>0.1679</td>\n",
              "      <td>550.998674</td>\n",
              "      <td>C</td>\n",
              "      <td>2013-01-04</td>\n",
              "      <td>NaN</td>\n",
              "      <td>0.00</td>\n",
              "      <td>15500.00</td>\n",
              "      <td>3452.00</td>\n",
              "      <td>0.0</td>\n",
              "      <td>0.0</td>\n",
              "      <td>2015-06-04</td>\n",
              "      <td>2016-01-04</td>\n",
              "      <td>0</td>\n",
              "      <td>COMPLETED</td>\n",
              "      <td>Prosper</td>\n",
              "    </tr>\n",
              "    <tr>\n",
              "      <th>1961529</th>\n",
              "      <td>80800</td>\n",
              "      <td>10000.0</td>\n",
              "      <td>60</td>\n",
              "      <td>0.2557</td>\n",
              "      <td>296.864320</td>\n",
              "      <td>E</td>\n",
              "      <td>2013-01-07</td>\n",
              "      <td>NaN</td>\n",
              "      <td>0.00</td>\n",
              "      <td>10000.00</td>\n",
              "      <td>4084.82</td>\n",
              "      <td>0.0</td>\n",
              "      <td>0.0</td>\n",
              "      <td>2015-09-07</td>\n",
              "      <td>2018-01-07</td>\n",
              "      <td>0</td>\n",
              "      <td>COMPLETED</td>\n",
              "      <td>Prosper</td>\n",
              "    </tr>\n",
              "    <tr>\n",
              "      <th>1961530</th>\n",
              "      <td>81062</td>\n",
              "      <td>15000.0</td>\n",
              "      <td>60</td>\n",
              "      <td>0.1752</td>\n",
              "      <td>376.995481</td>\n",
              "      <td>C</td>\n",
              "      <td>2013-01-07</td>\n",
              "      <td>NaN</td>\n",
              "      <td>0.00</td>\n",
              "      <td>15000.00</td>\n",
              "      <td>4133.78</td>\n",
              "      <td>0.0</td>\n",
              "      <td>0.0</td>\n",
              "      <td>2015-10-07</td>\n",
              "      <td>2018-01-07</td>\n",
              "      <td>0</td>\n",
              "      <td>COMPLETED</td>\n",
              "      <td>Prosper</td>\n",
              "    </tr>\n",
              "    <tr>\n",
              "      <th>1961531</th>\n",
              "      <td>80676</td>\n",
              "      <td>2500.0</td>\n",
              "      <td>36</td>\n",
              "      <td>0.0789</td>\n",
              "      <td>78.214113</td>\n",
              "      <td>A</td>\n",
              "      <td>2013-01-07</td>\n",
              "      <td>NaN</td>\n",
              "      <td>0.00</td>\n",
              "      <td>2499.99</td>\n",
              "      <td>228.74</td>\n",
              "      <td>0.0</td>\n",
              "      <td>0.0</td>\n",
              "      <td>2015-04-07</td>\n",
              "      <td>2016-01-07</td>\n",
              "      <td>0</td>\n",
              "      <td>COMPLETED</td>\n",
              "      <td>Prosper</td>\n",
              "    </tr>\n",
              "    <tr>\n",
              "      <th>...</th>\n",
              "      <td>...</td>\n",
              "      <td>...</td>\n",
              "      <td>...</td>\n",
              "      <td>...</td>\n",
              "      <td>...</td>\n",
              "      <td>...</td>\n",
              "      <td>...</td>\n",
              "      <td>...</td>\n",
              "      <td>...</td>\n",
              "      <td>...</td>\n",
              "      <td>...</td>\n",
              "      <td>...</td>\n",
              "      <td>...</td>\n",
              "      <td>...</td>\n",
              "      <td>...</td>\n",
              "      <td>...</td>\n",
              "      <td>...</td>\n",
              "      <td>...</td>\n",
              "    </tr>\n",
              "    <tr>\n",
              "      <th>2875141</th>\n",
              "      <td>1081905</td>\n",
              "      <td>10000.0</td>\n",
              "      <td>36</td>\n",
              "      <td>0.0934</td>\n",
              "      <td>319.582092</td>\n",
              "      <td>B</td>\n",
              "      <td>2018-06-29</td>\n",
              "      <td>NaN</td>\n",
              "      <td>9667.17</td>\n",
              "      <td>332.83</td>\n",
              "      <td>86.75</td>\n",
              "      <td>0.0</td>\n",
              "      <td>0.0</td>\n",
              "      <td>2018-09-29</td>\n",
              "      <td>2018-08-29</td>\n",
              "      <td>0</td>\n",
              "      <td>CURRENT</td>\n",
              "      <td>Prosper</td>\n",
              "    </tr>\n",
              "    <tr>\n",
              "      <th>2875142</th>\n",
              "      <td>1081908</td>\n",
              "      <td>10000.0</td>\n",
              "      <td>36</td>\n",
              "      <td>0.1214</td>\n",
              "      <td>332.812163</td>\n",
              "      <td>C</td>\n",
              "      <td>2018-06-29</td>\n",
              "      <td>NaN</td>\n",
              "      <td>9766.97</td>\n",
              "      <td>233.03</td>\n",
              "      <td>99.78</td>\n",
              "      <td>0.0</td>\n",
              "      <td>0.0</td>\n",
              "      <td>2018-08-29</td>\n",
              "      <td>2018-08-29</td>\n",
              "      <td>0</td>\n",
              "      <td>CURRENT</td>\n",
              "      <td>Prosper</td>\n",
              "    </tr>\n",
              "    <tr>\n",
              "      <th>2875143</th>\n",
              "      <td>1081947</td>\n",
              "      <td>4000.0</td>\n",
              "      <td>60</td>\n",
              "      <td>0.2455</td>\n",
              "      <td>116.352367</td>\n",
              "      <td>E</td>\n",
              "      <td>2018-06-29</td>\n",
              "      <td>NaN</td>\n",
              "      <td>3964.36</td>\n",
              "      <td>35.64</td>\n",
              "      <td>80.71</td>\n",
              "      <td>0.0</td>\n",
              "      <td>0.0</td>\n",
              "      <td>2018-08-29</td>\n",
              "      <td>2018-08-29</td>\n",
              "      <td>0</td>\n",
              "      <td>CURRENT</td>\n",
              "      <td>Prosper</td>\n",
              "    </tr>\n",
              "    <tr>\n",
              "      <th>2875144</th>\n",
              "      <td>1081797</td>\n",
              "      <td>30000.0</td>\n",
              "      <td>60</td>\n",
              "      <td>0.1878</td>\n",
              "      <td>774.589469</td>\n",
              "      <td>D</td>\n",
              "      <td>2018-06-29</td>\n",
              "      <td>NaN</td>\n",
              "      <td>29688.48</td>\n",
              "      <td>311.52</td>\n",
              "      <td>463.07</td>\n",
              "      <td>0.0</td>\n",
              "      <td>0.0</td>\n",
              "      <td>2018-08-29</td>\n",
              "      <td>2018-08-29</td>\n",
              "      <td>0</td>\n",
              "      <td>CURRENT</td>\n",
              "      <td>Prosper</td>\n",
              "    </tr>\n",
              "    <tr>\n",
              "      <th>2875145</th>\n",
              "      <td>1081953</td>\n",
              "      <td>3500.0</td>\n",
              "      <td>36</td>\n",
              "      <td>0.1024</td>\n",
              "      <td>113.329941</td>\n",
              "      <td>B</td>\n",
              "      <td>2018-06-29</td>\n",
              "      <td>NaN</td>\n",
              "      <td>3416.13</td>\n",
              "      <td>83.87</td>\n",
              "      <td>29.46</td>\n",
              "      <td>0.0</td>\n",
              "      <td>0.0</td>\n",
              "      <td>2018-08-29</td>\n",
              "      <td>2018-08-29</td>\n",
              "      <td>0</td>\n",
              "      <td>CURRENT</td>\n",
              "      <td>Prosper</td>\n",
              "    </tr>\n",
              "  </tbody>\n",
              "</table>\n",
              "<p>913619 rows × 18 columns</p>\n",
              "</div>\n",
              "      <button class=\"colab-df-convert\" onclick=\"convertToInteractive('df-1766392a-99bc-4bf3-9a3e-a382192dccb3')\"\n",
              "              title=\"Convert this dataframe to an interactive table.\"\n",
              "              style=\"display:none;\">\n",
              "        \n",
              "  <svg xmlns=\"http://www.w3.org/2000/svg\" height=\"24px\"viewBox=\"0 0 24 24\"\n",
              "       width=\"24px\">\n",
              "    <path d=\"M0 0h24v24H0V0z\" fill=\"none\"/>\n",
              "    <path d=\"M18.56 5.44l.94 2.06.94-2.06 2.06-.94-2.06-.94-.94-2.06-.94 2.06-2.06.94zm-11 1L8.5 8.5l.94-2.06 2.06-.94-2.06-.94L8.5 2.5l-.94 2.06-2.06.94zm10 10l.94 2.06.94-2.06 2.06-.94-2.06-.94-.94-2.06-.94 2.06-2.06.94z\"/><path d=\"M17.41 7.96l-1.37-1.37c-.4-.4-.92-.59-1.43-.59-.52 0-1.04.2-1.43.59L10.3 9.45l-7.72 7.72c-.78.78-.78 2.05 0 2.83L4 21.41c.39.39.9.59 1.41.59.51 0 1.02-.2 1.41-.59l7.78-7.78 2.81-2.81c.8-.78.8-2.07 0-2.86zM5.41 20L4 18.59l7.72-7.72 1.47 1.35L5.41 20z\"/>\n",
              "  </svg>\n",
              "      </button>\n",
              "      \n",
              "  <style>\n",
              "    .colab-df-container {\n",
              "      display:flex;\n",
              "      flex-wrap:wrap;\n",
              "      gap: 12px;\n",
              "    }\n",
              "\n",
              "    .colab-df-convert {\n",
              "      background-color: #E8F0FE;\n",
              "      border: none;\n",
              "      border-radius: 50%;\n",
              "      cursor: pointer;\n",
              "      display: none;\n",
              "      fill: #1967D2;\n",
              "      height: 32px;\n",
              "      padding: 0 0 0 0;\n",
              "      width: 32px;\n",
              "    }\n",
              "\n",
              "    .colab-df-convert:hover {\n",
              "      background-color: #E2EBFA;\n",
              "      box-shadow: 0px 1px 2px rgba(60, 64, 67, 0.3), 0px 1px 3px 1px rgba(60, 64, 67, 0.15);\n",
              "      fill: #174EA6;\n",
              "    }\n",
              "\n",
              "    [theme=dark] .colab-df-convert {\n",
              "      background-color: #3B4455;\n",
              "      fill: #D2E3FC;\n",
              "    }\n",
              "\n",
              "    [theme=dark] .colab-df-convert:hover {\n",
              "      background-color: #434B5C;\n",
              "      box-shadow: 0px 1px 3px 1px rgba(0, 0, 0, 0.15);\n",
              "      filter: drop-shadow(0px 1px 2px rgba(0, 0, 0, 0.3));\n",
              "      fill: #FFFFFF;\n",
              "    }\n",
              "  </style>\n",
              "\n",
              "      <script>\n",
              "        const buttonEl =\n",
              "          document.querySelector('#df-1766392a-99bc-4bf3-9a3e-a382192dccb3 button.colab-df-convert');\n",
              "        buttonEl.style.display =\n",
              "          google.colab.kernel.accessAllowed ? 'block' : 'none';\n",
              "\n",
              "        async function convertToInteractive(key) {\n",
              "          const element = document.querySelector('#df-1766392a-99bc-4bf3-9a3e-a382192dccb3');\n",
              "          const dataTable =\n",
              "            await google.colab.kernel.invokeFunction('convertToInteractive',\n",
              "                                                     [key], {});\n",
              "          if (!dataTable) return;\n",
              "\n",
              "          const docLinkHtml = 'Like what you see? Visit the ' +\n",
              "            '<a target=\"_blank\" href=https://colab.research.google.com/notebooks/data_table.ipynb>data table notebook</a>'\n",
              "            + ' to learn more about interactive tables.';\n",
              "          element.innerHTML = '';\n",
              "          dataTable['output_type'] = 'display_data';\n",
              "          await google.colab.output.renderOutput(dataTable, element);\n",
              "          const docLink = document.createElement('div');\n",
              "          docLink.innerHTML = docLinkHtml;\n",
              "          element.appendChild(docLink);\n",
              "        }\n",
              "      </script>\n",
              "    </div>\n",
              "  </div>\n",
              "  "
            ]
          },
          "metadata": {},
          "execution_count": 17
        }
      ],
      "source": [
        "# ambil data source dari Prosper\n",
        "df = df[df['data_source'] == 'Prosper']\n",
        "df"
      ]
    },
    {
      "cell_type": "code",
      "execution_count": 18,
      "metadata": {
        "colab": {
          "base_uri": "https://localhost:8080/",
          "height": 0
        },
        "id": "1lqozM237NYv",
        "outputId": "0d63ba29-5dcb-4a07-db12-ae1704a04f63"
      },
      "outputs": [
        {
          "output_type": "execute_result",
          "data": {
            "text/plain": [
              "         loan_number  amount_borrowed  term  borrower_rate  installment grade  \\\n",
              "1961527        80355           5000.0    36         0.2566   200.548615     E   \n",
              "1961528        80708          15500.0    36         0.1679   550.998674     C   \n",
              "1961529        80800          10000.0    60         0.2557   296.864320     E   \n",
              "1961530        81062          15000.0    60         0.1752   376.995481     C   \n",
              "1961531        80676           2500.0    36         0.0789    78.214113     A   \n",
              "...              ...              ...   ...            ...          ...   ...   \n",
              "2875141      1081905          10000.0    36         0.0934   319.582092     B   \n",
              "2875142      1081908          10000.0    36         0.1214   332.812163     C   \n",
              "2875143      1081947           4000.0    60         0.2455   116.352367     E   \n",
              "2875144      1081797          30000.0    60         0.1878   774.589469     D   \n",
              "2875145      1081953           3500.0    36         0.1024   113.329941     B   \n",
              "\n",
              "        origination_date listing_title  principal_balance  principal_paid  \\\n",
              "1961527       2013-01-04           NaN               0.00         5000.00   \n",
              "1961528       2013-01-04           NaN               0.00        15500.00   \n",
              "1961529       2013-01-07           NaN               0.00        10000.00   \n",
              "1961530       2013-01-07           NaN               0.00        15000.00   \n",
              "1961531       2013-01-07           NaN               0.00         2499.99   \n",
              "...                  ...           ...                ...             ...   \n",
              "2875141       2018-06-29           NaN            9667.17          332.83   \n",
              "2875142       2018-06-29           NaN            9766.97          233.03   \n",
              "2875143       2018-06-29           NaN            3964.36           35.64   \n",
              "2875144       2018-06-29           NaN           29688.48          311.52   \n",
              "2875145       2018-06-29           NaN            3416.13           83.87   \n",
              "\n",
              "         interest_paid  late_fees_paid  debt_sale_proceeds_received  \\\n",
              "1961527        1793.31             0.0                          0.0   \n",
              "1961528        3452.00             0.0                          0.0   \n",
              "1961529        4084.82             0.0                          0.0   \n",
              "1961530        4133.78             0.0                          0.0   \n",
              "1961531         228.74             0.0                          0.0   \n",
              "...                ...             ...                          ...   \n",
              "2875141          86.75             0.0                          0.0   \n",
              "2875142          99.78             0.0                          0.0   \n",
              "2875143          80.71             0.0                          0.0   \n",
              "2875144         463.07             0.0                          0.0   \n",
              "2875145          29.46             0.0                          0.0   \n",
              "\n",
              "        last_payment_date next_payment_due_date  days_past_due  \\\n",
              "1961527        2015-07-04            2016-01-04              0   \n",
              "1961528        2015-06-04            2016-01-04              0   \n",
              "1961529        2015-09-07            2018-01-07              0   \n",
              "1961530        2015-10-07            2018-01-07              0   \n",
              "1961531        2015-04-07            2016-01-07              0   \n",
              "...                   ...                   ...            ...   \n",
              "2875141        2018-09-29            2018-08-29              0   \n",
              "2875142        2018-08-29            2018-08-29              0   \n",
              "2875143        2018-08-29            2018-08-29              0   \n",
              "2875144        2018-08-29            2018-08-29              0   \n",
              "2875145        2018-08-29            2018-08-29              0   \n",
              "\n",
              "        loan_status_description  \n",
              "1961527               COMPLETED  \n",
              "1961528               COMPLETED  \n",
              "1961529               COMPLETED  \n",
              "1961530               COMPLETED  \n",
              "1961531               COMPLETED  \n",
              "...                         ...  \n",
              "2875141                 CURRENT  \n",
              "2875142                 CURRENT  \n",
              "2875143                 CURRENT  \n",
              "2875144                 CURRENT  \n",
              "2875145                 CURRENT  \n",
              "\n",
              "[913619 rows x 17 columns]"
            ],
            "text/html": [
              "\n",
              "  <div id=\"df-3b161e8d-024d-430b-8460-8525f2de6acc\">\n",
              "    <div class=\"colab-df-container\">\n",
              "      <div>\n",
              "<style scoped>\n",
              "    .dataframe tbody tr th:only-of-type {\n",
              "        vertical-align: middle;\n",
              "    }\n",
              "\n",
              "    .dataframe tbody tr th {\n",
              "        vertical-align: top;\n",
              "    }\n",
              "\n",
              "    .dataframe thead th {\n",
              "        text-align: right;\n",
              "    }\n",
              "</style>\n",
              "<table border=\"1\" class=\"dataframe\">\n",
              "  <thead>\n",
              "    <tr style=\"text-align: right;\">\n",
              "      <th></th>\n",
              "      <th>loan_number</th>\n",
              "      <th>amount_borrowed</th>\n",
              "      <th>term</th>\n",
              "      <th>borrower_rate</th>\n",
              "      <th>installment</th>\n",
              "      <th>grade</th>\n",
              "      <th>origination_date</th>\n",
              "      <th>listing_title</th>\n",
              "      <th>principal_balance</th>\n",
              "      <th>principal_paid</th>\n",
              "      <th>interest_paid</th>\n",
              "      <th>late_fees_paid</th>\n",
              "      <th>debt_sale_proceeds_received</th>\n",
              "      <th>last_payment_date</th>\n",
              "      <th>next_payment_due_date</th>\n",
              "      <th>days_past_due</th>\n",
              "      <th>loan_status_description</th>\n",
              "    </tr>\n",
              "  </thead>\n",
              "  <tbody>\n",
              "    <tr>\n",
              "      <th>1961527</th>\n",
              "      <td>80355</td>\n",
              "      <td>5000.0</td>\n",
              "      <td>36</td>\n",
              "      <td>0.2566</td>\n",
              "      <td>200.548615</td>\n",
              "      <td>E</td>\n",
              "      <td>2013-01-04</td>\n",
              "      <td>NaN</td>\n",
              "      <td>0.00</td>\n",
              "      <td>5000.00</td>\n",
              "      <td>1793.31</td>\n",
              "      <td>0.0</td>\n",
              "      <td>0.0</td>\n",
              "      <td>2015-07-04</td>\n",
              "      <td>2016-01-04</td>\n",
              "      <td>0</td>\n",
              "      <td>COMPLETED</td>\n",
              "    </tr>\n",
              "    <tr>\n",
              "      <th>1961528</th>\n",
              "      <td>80708</td>\n",
              "      <td>15500.0</td>\n",
              "      <td>36</td>\n",
              "      <td>0.1679</td>\n",
              "      <td>550.998674</td>\n",
              "      <td>C</td>\n",
              "      <td>2013-01-04</td>\n",
              "      <td>NaN</td>\n",
              "      <td>0.00</td>\n",
              "      <td>15500.00</td>\n",
              "      <td>3452.00</td>\n",
              "      <td>0.0</td>\n",
              "      <td>0.0</td>\n",
              "      <td>2015-06-04</td>\n",
              "      <td>2016-01-04</td>\n",
              "      <td>0</td>\n",
              "      <td>COMPLETED</td>\n",
              "    </tr>\n",
              "    <tr>\n",
              "      <th>1961529</th>\n",
              "      <td>80800</td>\n",
              "      <td>10000.0</td>\n",
              "      <td>60</td>\n",
              "      <td>0.2557</td>\n",
              "      <td>296.864320</td>\n",
              "      <td>E</td>\n",
              "      <td>2013-01-07</td>\n",
              "      <td>NaN</td>\n",
              "      <td>0.00</td>\n",
              "      <td>10000.00</td>\n",
              "      <td>4084.82</td>\n",
              "      <td>0.0</td>\n",
              "      <td>0.0</td>\n",
              "      <td>2015-09-07</td>\n",
              "      <td>2018-01-07</td>\n",
              "      <td>0</td>\n",
              "      <td>COMPLETED</td>\n",
              "    </tr>\n",
              "    <tr>\n",
              "      <th>1961530</th>\n",
              "      <td>81062</td>\n",
              "      <td>15000.0</td>\n",
              "      <td>60</td>\n",
              "      <td>0.1752</td>\n",
              "      <td>376.995481</td>\n",
              "      <td>C</td>\n",
              "      <td>2013-01-07</td>\n",
              "      <td>NaN</td>\n",
              "      <td>0.00</td>\n",
              "      <td>15000.00</td>\n",
              "      <td>4133.78</td>\n",
              "      <td>0.0</td>\n",
              "      <td>0.0</td>\n",
              "      <td>2015-10-07</td>\n",
              "      <td>2018-01-07</td>\n",
              "      <td>0</td>\n",
              "      <td>COMPLETED</td>\n",
              "    </tr>\n",
              "    <tr>\n",
              "      <th>1961531</th>\n",
              "      <td>80676</td>\n",
              "      <td>2500.0</td>\n",
              "      <td>36</td>\n",
              "      <td>0.0789</td>\n",
              "      <td>78.214113</td>\n",
              "      <td>A</td>\n",
              "      <td>2013-01-07</td>\n",
              "      <td>NaN</td>\n",
              "      <td>0.00</td>\n",
              "      <td>2499.99</td>\n",
              "      <td>228.74</td>\n",
              "      <td>0.0</td>\n",
              "      <td>0.0</td>\n",
              "      <td>2015-04-07</td>\n",
              "      <td>2016-01-07</td>\n",
              "      <td>0</td>\n",
              "      <td>COMPLETED</td>\n",
              "    </tr>\n",
              "    <tr>\n",
              "      <th>...</th>\n",
              "      <td>...</td>\n",
              "      <td>...</td>\n",
              "      <td>...</td>\n",
              "      <td>...</td>\n",
              "      <td>...</td>\n",
              "      <td>...</td>\n",
              "      <td>...</td>\n",
              "      <td>...</td>\n",
              "      <td>...</td>\n",
              "      <td>...</td>\n",
              "      <td>...</td>\n",
              "      <td>...</td>\n",
              "      <td>...</td>\n",
              "      <td>...</td>\n",
              "      <td>...</td>\n",
              "      <td>...</td>\n",
              "      <td>...</td>\n",
              "    </tr>\n",
              "    <tr>\n",
              "      <th>2875141</th>\n",
              "      <td>1081905</td>\n",
              "      <td>10000.0</td>\n",
              "      <td>36</td>\n",
              "      <td>0.0934</td>\n",
              "      <td>319.582092</td>\n",
              "      <td>B</td>\n",
              "      <td>2018-06-29</td>\n",
              "      <td>NaN</td>\n",
              "      <td>9667.17</td>\n",
              "      <td>332.83</td>\n",
              "      <td>86.75</td>\n",
              "      <td>0.0</td>\n",
              "      <td>0.0</td>\n",
              "      <td>2018-09-29</td>\n",
              "      <td>2018-08-29</td>\n",
              "      <td>0</td>\n",
              "      <td>CURRENT</td>\n",
              "    </tr>\n",
              "    <tr>\n",
              "      <th>2875142</th>\n",
              "      <td>1081908</td>\n",
              "      <td>10000.0</td>\n",
              "      <td>36</td>\n",
              "      <td>0.1214</td>\n",
              "      <td>332.812163</td>\n",
              "      <td>C</td>\n",
              "      <td>2018-06-29</td>\n",
              "      <td>NaN</td>\n",
              "      <td>9766.97</td>\n",
              "      <td>233.03</td>\n",
              "      <td>99.78</td>\n",
              "      <td>0.0</td>\n",
              "      <td>0.0</td>\n",
              "      <td>2018-08-29</td>\n",
              "      <td>2018-08-29</td>\n",
              "      <td>0</td>\n",
              "      <td>CURRENT</td>\n",
              "    </tr>\n",
              "    <tr>\n",
              "      <th>2875143</th>\n",
              "      <td>1081947</td>\n",
              "      <td>4000.0</td>\n",
              "      <td>60</td>\n",
              "      <td>0.2455</td>\n",
              "      <td>116.352367</td>\n",
              "      <td>E</td>\n",
              "      <td>2018-06-29</td>\n",
              "      <td>NaN</td>\n",
              "      <td>3964.36</td>\n",
              "      <td>35.64</td>\n",
              "      <td>80.71</td>\n",
              "      <td>0.0</td>\n",
              "      <td>0.0</td>\n",
              "      <td>2018-08-29</td>\n",
              "      <td>2018-08-29</td>\n",
              "      <td>0</td>\n",
              "      <td>CURRENT</td>\n",
              "    </tr>\n",
              "    <tr>\n",
              "      <th>2875144</th>\n",
              "      <td>1081797</td>\n",
              "      <td>30000.0</td>\n",
              "      <td>60</td>\n",
              "      <td>0.1878</td>\n",
              "      <td>774.589469</td>\n",
              "      <td>D</td>\n",
              "      <td>2018-06-29</td>\n",
              "      <td>NaN</td>\n",
              "      <td>29688.48</td>\n",
              "      <td>311.52</td>\n",
              "      <td>463.07</td>\n",
              "      <td>0.0</td>\n",
              "      <td>0.0</td>\n",
              "      <td>2018-08-29</td>\n",
              "      <td>2018-08-29</td>\n",
              "      <td>0</td>\n",
              "      <td>CURRENT</td>\n",
              "    </tr>\n",
              "    <tr>\n",
              "      <th>2875145</th>\n",
              "      <td>1081953</td>\n",
              "      <td>3500.0</td>\n",
              "      <td>36</td>\n",
              "      <td>0.1024</td>\n",
              "      <td>113.329941</td>\n",
              "      <td>B</td>\n",
              "      <td>2018-06-29</td>\n",
              "      <td>NaN</td>\n",
              "      <td>3416.13</td>\n",
              "      <td>83.87</td>\n",
              "      <td>29.46</td>\n",
              "      <td>0.0</td>\n",
              "      <td>0.0</td>\n",
              "      <td>2018-08-29</td>\n",
              "      <td>2018-08-29</td>\n",
              "      <td>0</td>\n",
              "      <td>CURRENT</td>\n",
              "    </tr>\n",
              "  </tbody>\n",
              "</table>\n",
              "<p>913619 rows × 17 columns</p>\n",
              "</div>\n",
              "      <button class=\"colab-df-convert\" onclick=\"convertToInteractive('df-3b161e8d-024d-430b-8460-8525f2de6acc')\"\n",
              "              title=\"Convert this dataframe to an interactive table.\"\n",
              "              style=\"display:none;\">\n",
              "        \n",
              "  <svg xmlns=\"http://www.w3.org/2000/svg\" height=\"24px\"viewBox=\"0 0 24 24\"\n",
              "       width=\"24px\">\n",
              "    <path d=\"M0 0h24v24H0V0z\" fill=\"none\"/>\n",
              "    <path d=\"M18.56 5.44l.94 2.06.94-2.06 2.06-.94-2.06-.94-.94-2.06-.94 2.06-2.06.94zm-11 1L8.5 8.5l.94-2.06 2.06-.94-2.06-.94L8.5 2.5l-.94 2.06-2.06.94zm10 10l.94 2.06.94-2.06 2.06-.94-2.06-.94-.94-2.06-.94 2.06-2.06.94z\"/><path d=\"M17.41 7.96l-1.37-1.37c-.4-.4-.92-.59-1.43-.59-.52 0-1.04.2-1.43.59L10.3 9.45l-7.72 7.72c-.78.78-.78 2.05 0 2.83L4 21.41c.39.39.9.59 1.41.59.51 0 1.02-.2 1.41-.59l7.78-7.78 2.81-2.81c.8-.78.8-2.07 0-2.86zM5.41 20L4 18.59l7.72-7.72 1.47 1.35L5.41 20z\"/>\n",
              "  </svg>\n",
              "      </button>\n",
              "      \n",
              "  <style>\n",
              "    .colab-df-container {\n",
              "      display:flex;\n",
              "      flex-wrap:wrap;\n",
              "      gap: 12px;\n",
              "    }\n",
              "\n",
              "    .colab-df-convert {\n",
              "      background-color: #E8F0FE;\n",
              "      border: none;\n",
              "      border-radius: 50%;\n",
              "      cursor: pointer;\n",
              "      display: none;\n",
              "      fill: #1967D2;\n",
              "      height: 32px;\n",
              "      padding: 0 0 0 0;\n",
              "      width: 32px;\n",
              "    }\n",
              "\n",
              "    .colab-df-convert:hover {\n",
              "      background-color: #E2EBFA;\n",
              "      box-shadow: 0px 1px 2px rgba(60, 64, 67, 0.3), 0px 1px 3px 1px rgba(60, 64, 67, 0.15);\n",
              "      fill: #174EA6;\n",
              "    }\n",
              "\n",
              "    [theme=dark] .colab-df-convert {\n",
              "      background-color: #3B4455;\n",
              "      fill: #D2E3FC;\n",
              "    }\n",
              "\n",
              "    [theme=dark] .colab-df-convert:hover {\n",
              "      background-color: #434B5C;\n",
              "      box-shadow: 0px 1px 3px 1px rgba(0, 0, 0, 0.15);\n",
              "      filter: drop-shadow(0px 1px 2px rgba(0, 0, 0, 0.3));\n",
              "      fill: #FFFFFF;\n",
              "    }\n",
              "  </style>\n",
              "\n",
              "      <script>\n",
              "        const buttonEl =\n",
              "          document.querySelector('#df-3b161e8d-024d-430b-8460-8525f2de6acc button.colab-df-convert');\n",
              "        buttonEl.style.display =\n",
              "          google.colab.kernel.accessAllowed ? 'block' : 'none';\n",
              "\n",
              "        async function convertToInteractive(key) {\n",
              "          const element = document.querySelector('#df-3b161e8d-024d-430b-8460-8525f2de6acc');\n",
              "          const dataTable =\n",
              "            await google.colab.kernel.invokeFunction('convertToInteractive',\n",
              "                                                     [key], {});\n",
              "          if (!dataTable) return;\n",
              "\n",
              "          const docLinkHtml = 'Like what you see? Visit the ' +\n",
              "            '<a target=\"_blank\" href=https://colab.research.google.com/notebooks/data_table.ipynb>data table notebook</a>'\n",
              "            + ' to learn more about interactive tables.';\n",
              "          element.innerHTML = '';\n",
              "          dataTable['output_type'] = 'display_data';\n",
              "          await google.colab.output.renderOutput(dataTable, element);\n",
              "          const docLink = document.createElement('div');\n",
              "          docLink.innerHTML = docLinkHtml;\n",
              "          element.appendChild(docLink);\n",
              "        }\n",
              "      </script>\n",
              "    </div>\n",
              "  </div>\n",
              "  "
            ]
          },
          "metadata": {},
          "execution_count": 18
        }
      ],
      "source": [
        "# hapus fitur data source karena sudah tidak diperlukan\n",
        "df = df.drop(['data_source'], axis=1)\n",
        "df"
      ]
    },
    {
      "cell_type": "code",
      "execution_count": 19,
      "metadata": {
        "colab": {
          "base_uri": "https://localhost:8080/",
          "height": 0
        },
        "id": "8raTH1yrvEFr",
        "outputId": "1d587a17-7a68-4f75-8f1f-1b4b35f1d7a2"
      },
      "outputs": [
        {
          "output_type": "execute_result",
          "data": {
            "text/plain": [
              "        loan_number  amount_borrowed  term  borrower_rate  installment grade  \\\n",
              "0             80355           5000.0    36         0.2566   200.548615     E   \n",
              "1             80708          15500.0    36         0.1679   550.998674     C   \n",
              "2             80800          10000.0    60         0.2557   296.864320     E   \n",
              "3             81062          15000.0    60         0.1752   376.995481     C   \n",
              "4             80676           2500.0    36         0.0789    78.214113     A   \n",
              "...             ...              ...   ...            ...          ...   ...   \n",
              "913614      1081905          10000.0    36         0.0934   319.582092     B   \n",
              "913615      1081908          10000.0    36         0.1214   332.812163     C   \n",
              "913616      1081947           4000.0    60         0.2455   116.352367     E   \n",
              "913617      1081797          30000.0    60         0.1878   774.589469     D   \n",
              "913618      1081953           3500.0    36         0.1024   113.329941     B   \n",
              "\n",
              "       origination_date listing_title  principal_balance  principal_paid  \\\n",
              "0            2013-01-04           NaN               0.00         5000.00   \n",
              "1            2013-01-04           NaN               0.00        15500.00   \n",
              "2            2013-01-07           NaN               0.00        10000.00   \n",
              "3            2013-01-07           NaN               0.00        15000.00   \n",
              "4            2013-01-07           NaN               0.00         2499.99   \n",
              "...                 ...           ...                ...             ...   \n",
              "913614       2018-06-29           NaN            9667.17          332.83   \n",
              "913615       2018-06-29           NaN            9766.97          233.03   \n",
              "913616       2018-06-29           NaN            3964.36           35.64   \n",
              "913617       2018-06-29           NaN           29688.48          311.52   \n",
              "913618       2018-06-29           NaN            3416.13           83.87   \n",
              "\n",
              "        interest_paid  late_fees_paid  debt_sale_proceeds_received  \\\n",
              "0             1793.31             0.0                          0.0   \n",
              "1             3452.00             0.0                          0.0   \n",
              "2             4084.82             0.0                          0.0   \n",
              "3             4133.78             0.0                          0.0   \n",
              "4              228.74             0.0                          0.0   \n",
              "...               ...             ...                          ...   \n",
              "913614          86.75             0.0                          0.0   \n",
              "913615          99.78             0.0                          0.0   \n",
              "913616          80.71             0.0                          0.0   \n",
              "913617         463.07             0.0                          0.0   \n",
              "913618          29.46             0.0                          0.0   \n",
              "\n",
              "       last_payment_date next_payment_due_date  days_past_due  \\\n",
              "0             2015-07-04            2016-01-04              0   \n",
              "1             2015-06-04            2016-01-04              0   \n",
              "2             2015-09-07            2018-01-07              0   \n",
              "3             2015-10-07            2018-01-07              0   \n",
              "4             2015-04-07            2016-01-07              0   \n",
              "...                  ...                   ...            ...   \n",
              "913614        2018-09-29            2018-08-29              0   \n",
              "913615        2018-08-29            2018-08-29              0   \n",
              "913616        2018-08-29            2018-08-29              0   \n",
              "913617        2018-08-29            2018-08-29              0   \n",
              "913618        2018-08-29            2018-08-29              0   \n",
              "\n",
              "       loan_status_description  \n",
              "0                    COMPLETED  \n",
              "1                    COMPLETED  \n",
              "2                    COMPLETED  \n",
              "3                    COMPLETED  \n",
              "4                    COMPLETED  \n",
              "...                        ...  \n",
              "913614                 CURRENT  \n",
              "913615                 CURRENT  \n",
              "913616                 CURRENT  \n",
              "913617                 CURRENT  \n",
              "913618                 CURRENT  \n",
              "\n",
              "[913619 rows x 17 columns]"
            ],
            "text/html": [
              "\n",
              "  <div id=\"df-5393ca9a-f96e-4626-941f-67f384a5d6bc\">\n",
              "    <div class=\"colab-df-container\">\n",
              "      <div>\n",
              "<style scoped>\n",
              "    .dataframe tbody tr th:only-of-type {\n",
              "        vertical-align: middle;\n",
              "    }\n",
              "\n",
              "    .dataframe tbody tr th {\n",
              "        vertical-align: top;\n",
              "    }\n",
              "\n",
              "    .dataframe thead th {\n",
              "        text-align: right;\n",
              "    }\n",
              "</style>\n",
              "<table border=\"1\" class=\"dataframe\">\n",
              "  <thead>\n",
              "    <tr style=\"text-align: right;\">\n",
              "      <th></th>\n",
              "      <th>loan_number</th>\n",
              "      <th>amount_borrowed</th>\n",
              "      <th>term</th>\n",
              "      <th>borrower_rate</th>\n",
              "      <th>installment</th>\n",
              "      <th>grade</th>\n",
              "      <th>origination_date</th>\n",
              "      <th>listing_title</th>\n",
              "      <th>principal_balance</th>\n",
              "      <th>principal_paid</th>\n",
              "      <th>interest_paid</th>\n",
              "      <th>late_fees_paid</th>\n",
              "      <th>debt_sale_proceeds_received</th>\n",
              "      <th>last_payment_date</th>\n",
              "      <th>next_payment_due_date</th>\n",
              "      <th>days_past_due</th>\n",
              "      <th>loan_status_description</th>\n",
              "    </tr>\n",
              "  </thead>\n",
              "  <tbody>\n",
              "    <tr>\n",
              "      <th>0</th>\n",
              "      <td>80355</td>\n",
              "      <td>5000.0</td>\n",
              "      <td>36</td>\n",
              "      <td>0.2566</td>\n",
              "      <td>200.548615</td>\n",
              "      <td>E</td>\n",
              "      <td>2013-01-04</td>\n",
              "      <td>NaN</td>\n",
              "      <td>0.00</td>\n",
              "      <td>5000.00</td>\n",
              "      <td>1793.31</td>\n",
              "      <td>0.0</td>\n",
              "      <td>0.0</td>\n",
              "      <td>2015-07-04</td>\n",
              "      <td>2016-01-04</td>\n",
              "      <td>0</td>\n",
              "      <td>COMPLETED</td>\n",
              "    </tr>\n",
              "    <tr>\n",
              "      <th>1</th>\n",
              "      <td>80708</td>\n",
              "      <td>15500.0</td>\n",
              "      <td>36</td>\n",
              "      <td>0.1679</td>\n",
              "      <td>550.998674</td>\n",
              "      <td>C</td>\n",
              "      <td>2013-01-04</td>\n",
              "      <td>NaN</td>\n",
              "      <td>0.00</td>\n",
              "      <td>15500.00</td>\n",
              "      <td>3452.00</td>\n",
              "      <td>0.0</td>\n",
              "      <td>0.0</td>\n",
              "      <td>2015-06-04</td>\n",
              "      <td>2016-01-04</td>\n",
              "      <td>0</td>\n",
              "      <td>COMPLETED</td>\n",
              "    </tr>\n",
              "    <tr>\n",
              "      <th>2</th>\n",
              "      <td>80800</td>\n",
              "      <td>10000.0</td>\n",
              "      <td>60</td>\n",
              "      <td>0.2557</td>\n",
              "      <td>296.864320</td>\n",
              "      <td>E</td>\n",
              "      <td>2013-01-07</td>\n",
              "      <td>NaN</td>\n",
              "      <td>0.00</td>\n",
              "      <td>10000.00</td>\n",
              "      <td>4084.82</td>\n",
              "      <td>0.0</td>\n",
              "      <td>0.0</td>\n",
              "      <td>2015-09-07</td>\n",
              "      <td>2018-01-07</td>\n",
              "      <td>0</td>\n",
              "      <td>COMPLETED</td>\n",
              "    </tr>\n",
              "    <tr>\n",
              "      <th>3</th>\n",
              "      <td>81062</td>\n",
              "      <td>15000.0</td>\n",
              "      <td>60</td>\n",
              "      <td>0.1752</td>\n",
              "      <td>376.995481</td>\n",
              "      <td>C</td>\n",
              "      <td>2013-01-07</td>\n",
              "      <td>NaN</td>\n",
              "      <td>0.00</td>\n",
              "      <td>15000.00</td>\n",
              "      <td>4133.78</td>\n",
              "      <td>0.0</td>\n",
              "      <td>0.0</td>\n",
              "      <td>2015-10-07</td>\n",
              "      <td>2018-01-07</td>\n",
              "      <td>0</td>\n",
              "      <td>COMPLETED</td>\n",
              "    </tr>\n",
              "    <tr>\n",
              "      <th>4</th>\n",
              "      <td>80676</td>\n",
              "      <td>2500.0</td>\n",
              "      <td>36</td>\n",
              "      <td>0.0789</td>\n",
              "      <td>78.214113</td>\n",
              "      <td>A</td>\n",
              "      <td>2013-01-07</td>\n",
              "      <td>NaN</td>\n",
              "      <td>0.00</td>\n",
              "      <td>2499.99</td>\n",
              "      <td>228.74</td>\n",
              "      <td>0.0</td>\n",
              "      <td>0.0</td>\n",
              "      <td>2015-04-07</td>\n",
              "      <td>2016-01-07</td>\n",
              "      <td>0</td>\n",
              "      <td>COMPLETED</td>\n",
              "    </tr>\n",
              "    <tr>\n",
              "      <th>...</th>\n",
              "      <td>...</td>\n",
              "      <td>...</td>\n",
              "      <td>...</td>\n",
              "      <td>...</td>\n",
              "      <td>...</td>\n",
              "      <td>...</td>\n",
              "      <td>...</td>\n",
              "      <td>...</td>\n",
              "      <td>...</td>\n",
              "      <td>...</td>\n",
              "      <td>...</td>\n",
              "      <td>...</td>\n",
              "      <td>...</td>\n",
              "      <td>...</td>\n",
              "      <td>...</td>\n",
              "      <td>...</td>\n",
              "      <td>...</td>\n",
              "    </tr>\n",
              "    <tr>\n",
              "      <th>913614</th>\n",
              "      <td>1081905</td>\n",
              "      <td>10000.0</td>\n",
              "      <td>36</td>\n",
              "      <td>0.0934</td>\n",
              "      <td>319.582092</td>\n",
              "      <td>B</td>\n",
              "      <td>2018-06-29</td>\n",
              "      <td>NaN</td>\n",
              "      <td>9667.17</td>\n",
              "      <td>332.83</td>\n",
              "      <td>86.75</td>\n",
              "      <td>0.0</td>\n",
              "      <td>0.0</td>\n",
              "      <td>2018-09-29</td>\n",
              "      <td>2018-08-29</td>\n",
              "      <td>0</td>\n",
              "      <td>CURRENT</td>\n",
              "    </tr>\n",
              "    <tr>\n",
              "      <th>913615</th>\n",
              "      <td>1081908</td>\n",
              "      <td>10000.0</td>\n",
              "      <td>36</td>\n",
              "      <td>0.1214</td>\n",
              "      <td>332.812163</td>\n",
              "      <td>C</td>\n",
              "      <td>2018-06-29</td>\n",
              "      <td>NaN</td>\n",
              "      <td>9766.97</td>\n",
              "      <td>233.03</td>\n",
              "      <td>99.78</td>\n",
              "      <td>0.0</td>\n",
              "      <td>0.0</td>\n",
              "      <td>2018-08-29</td>\n",
              "      <td>2018-08-29</td>\n",
              "      <td>0</td>\n",
              "      <td>CURRENT</td>\n",
              "    </tr>\n",
              "    <tr>\n",
              "      <th>913616</th>\n",
              "      <td>1081947</td>\n",
              "      <td>4000.0</td>\n",
              "      <td>60</td>\n",
              "      <td>0.2455</td>\n",
              "      <td>116.352367</td>\n",
              "      <td>E</td>\n",
              "      <td>2018-06-29</td>\n",
              "      <td>NaN</td>\n",
              "      <td>3964.36</td>\n",
              "      <td>35.64</td>\n",
              "      <td>80.71</td>\n",
              "      <td>0.0</td>\n",
              "      <td>0.0</td>\n",
              "      <td>2018-08-29</td>\n",
              "      <td>2018-08-29</td>\n",
              "      <td>0</td>\n",
              "      <td>CURRENT</td>\n",
              "    </tr>\n",
              "    <tr>\n",
              "      <th>913617</th>\n",
              "      <td>1081797</td>\n",
              "      <td>30000.0</td>\n",
              "      <td>60</td>\n",
              "      <td>0.1878</td>\n",
              "      <td>774.589469</td>\n",
              "      <td>D</td>\n",
              "      <td>2018-06-29</td>\n",
              "      <td>NaN</td>\n",
              "      <td>29688.48</td>\n",
              "      <td>311.52</td>\n",
              "      <td>463.07</td>\n",
              "      <td>0.0</td>\n",
              "      <td>0.0</td>\n",
              "      <td>2018-08-29</td>\n",
              "      <td>2018-08-29</td>\n",
              "      <td>0</td>\n",
              "      <td>CURRENT</td>\n",
              "    </tr>\n",
              "    <tr>\n",
              "      <th>913618</th>\n",
              "      <td>1081953</td>\n",
              "      <td>3500.0</td>\n",
              "      <td>36</td>\n",
              "      <td>0.1024</td>\n",
              "      <td>113.329941</td>\n",
              "      <td>B</td>\n",
              "      <td>2018-06-29</td>\n",
              "      <td>NaN</td>\n",
              "      <td>3416.13</td>\n",
              "      <td>83.87</td>\n",
              "      <td>29.46</td>\n",
              "      <td>0.0</td>\n",
              "      <td>0.0</td>\n",
              "      <td>2018-08-29</td>\n",
              "      <td>2018-08-29</td>\n",
              "      <td>0</td>\n",
              "      <td>CURRENT</td>\n",
              "    </tr>\n",
              "  </tbody>\n",
              "</table>\n",
              "<p>913619 rows × 17 columns</p>\n",
              "</div>\n",
              "      <button class=\"colab-df-convert\" onclick=\"convertToInteractive('df-5393ca9a-f96e-4626-941f-67f384a5d6bc')\"\n",
              "              title=\"Convert this dataframe to an interactive table.\"\n",
              "              style=\"display:none;\">\n",
              "        \n",
              "  <svg xmlns=\"http://www.w3.org/2000/svg\" height=\"24px\"viewBox=\"0 0 24 24\"\n",
              "       width=\"24px\">\n",
              "    <path d=\"M0 0h24v24H0V0z\" fill=\"none\"/>\n",
              "    <path d=\"M18.56 5.44l.94 2.06.94-2.06 2.06-.94-2.06-.94-.94-2.06-.94 2.06-2.06.94zm-11 1L8.5 8.5l.94-2.06 2.06-.94-2.06-.94L8.5 2.5l-.94 2.06-2.06.94zm10 10l.94 2.06.94-2.06 2.06-.94-2.06-.94-.94-2.06-.94 2.06-2.06.94z\"/><path d=\"M17.41 7.96l-1.37-1.37c-.4-.4-.92-.59-1.43-.59-.52 0-1.04.2-1.43.59L10.3 9.45l-7.72 7.72c-.78.78-.78 2.05 0 2.83L4 21.41c.39.39.9.59 1.41.59.51 0 1.02-.2 1.41-.59l7.78-7.78 2.81-2.81c.8-.78.8-2.07 0-2.86zM5.41 20L4 18.59l7.72-7.72 1.47 1.35L5.41 20z\"/>\n",
              "  </svg>\n",
              "      </button>\n",
              "      \n",
              "  <style>\n",
              "    .colab-df-container {\n",
              "      display:flex;\n",
              "      flex-wrap:wrap;\n",
              "      gap: 12px;\n",
              "    }\n",
              "\n",
              "    .colab-df-convert {\n",
              "      background-color: #E8F0FE;\n",
              "      border: none;\n",
              "      border-radius: 50%;\n",
              "      cursor: pointer;\n",
              "      display: none;\n",
              "      fill: #1967D2;\n",
              "      height: 32px;\n",
              "      padding: 0 0 0 0;\n",
              "      width: 32px;\n",
              "    }\n",
              "\n",
              "    .colab-df-convert:hover {\n",
              "      background-color: #E2EBFA;\n",
              "      box-shadow: 0px 1px 2px rgba(60, 64, 67, 0.3), 0px 1px 3px 1px rgba(60, 64, 67, 0.15);\n",
              "      fill: #174EA6;\n",
              "    }\n",
              "\n",
              "    [theme=dark] .colab-df-convert {\n",
              "      background-color: #3B4455;\n",
              "      fill: #D2E3FC;\n",
              "    }\n",
              "\n",
              "    [theme=dark] .colab-df-convert:hover {\n",
              "      background-color: #434B5C;\n",
              "      box-shadow: 0px 1px 3px 1px rgba(0, 0, 0, 0.15);\n",
              "      filter: drop-shadow(0px 1px 2px rgba(0, 0, 0, 0.3));\n",
              "      fill: #FFFFFF;\n",
              "    }\n",
              "  </style>\n",
              "\n",
              "      <script>\n",
              "        const buttonEl =\n",
              "          document.querySelector('#df-5393ca9a-f96e-4626-941f-67f384a5d6bc button.colab-df-convert');\n",
              "        buttonEl.style.display =\n",
              "          google.colab.kernel.accessAllowed ? 'block' : 'none';\n",
              "\n",
              "        async function convertToInteractive(key) {\n",
              "          const element = document.querySelector('#df-5393ca9a-f96e-4626-941f-67f384a5d6bc');\n",
              "          const dataTable =\n",
              "            await google.colab.kernel.invokeFunction('convertToInteractive',\n",
              "                                                     [key], {});\n",
              "          if (!dataTable) return;\n",
              "\n",
              "          const docLinkHtml = 'Like what you see? Visit the ' +\n",
              "            '<a target=\"_blank\" href=https://colab.research.google.com/notebooks/data_table.ipynb>data table notebook</a>'\n",
              "            + ' to learn more about interactive tables.';\n",
              "          element.innerHTML = '';\n",
              "          dataTable['output_type'] = 'display_data';\n",
              "          await google.colab.output.renderOutput(dataTable, element);\n",
              "          const docLink = document.createElement('div');\n",
              "          docLink.innerHTML = docLinkHtml;\n",
              "          element.appendChild(docLink);\n",
              "        }\n",
              "      </script>\n",
              "    </div>\n",
              "  </div>\n",
              "  "
            ]
          },
          "metadata": {},
          "execution_count": 19
        }
      ],
      "source": [
        "# atur indexing dataset\n",
        "df = df.reset_index(drop=True)\n",
        "df"
      ]
    },
    {
      "cell_type": "markdown",
      "metadata": {
        "id": "_ubMZxp4ySCX"
      },
      "source": [
        "# **Exploratory Data Analysis**"
      ]
    },
    {
      "cell_type": "code",
      "execution_count": 20,
      "metadata": {
        "id": "Q-TpK-6FxTGs",
        "colab": {
          "base_uri": "https://localhost:8080/"
        },
        "outputId": "84a5ddd0-df5e-43a0-9b23-2c0495adff1c"
      },
      "outputs": [
        {
          "output_type": "stream",
          "name": "stdout",
          "text": [
            "<class 'pandas.core.frame.DataFrame'>\n",
            "RangeIndex: 913619 entries, 0 to 913618\n",
            "Data columns (total 17 columns):\n",
            " #   Column                       Non-Null Count   Dtype  \n",
            "---  ------                       --------------   -----  \n",
            " 0   loan_number                  913619 non-null  int64  \n",
            " 1   amount_borrowed              913619 non-null  float64\n",
            " 2   term                         913619 non-null  int64  \n",
            " 3   borrower_rate                913619 non-null  float64\n",
            " 4   installment                  913619 non-null  float64\n",
            " 5   grade                        913619 non-null  object \n",
            " 6   origination_date             913619 non-null  object \n",
            " 7   listing_title                50541 non-null   object \n",
            " 8   principal_balance            913619 non-null  float64\n",
            " 9   principal_paid               913619 non-null  float64\n",
            " 10  interest_paid                913619 non-null  float64\n",
            " 11  late_fees_paid               913619 non-null  float64\n",
            " 12  debt_sale_proceeds_received  913619 non-null  float64\n",
            " 13  last_payment_date            913619 non-null  object \n",
            " 14  next_payment_due_date        913619 non-null  object \n",
            " 15  days_past_due                913619 non-null  int64  \n",
            " 16  loan_status_description      913619 non-null  object \n",
            "dtypes: float64(8), int64(3), object(6)\n",
            "memory usage: 118.5+ MB\n"
          ]
        }
      ],
      "source": [
        "# info data\n",
        "df.info()"
      ]
    },
    {
      "cell_type": "code",
      "execution_count": 21,
      "metadata": {
        "colab": {
          "base_uri": "https://localhost:8080/",
          "height": 0
        },
        "id": "wL036ZRAnY0g",
        "outputId": "828872d7-322d-4317-9ff3-9553f462856f"
      },
      "outputs": [
        {
          "output_type": "execute_result",
          "data": {
            "text/plain": [
              "        loan_number  amount_borrowed           term  borrower_rate  \\\n",
              "count  9.136190e+05    913619.000000  913619.000000  913619.000000   \n",
              "mean   5.821678e+05     13332.617882      43.128871       0.153106   \n",
              "std    2.858683e+05      7946.272924      10.982495       0.065643   \n",
              "min    7.965000e+04      2000.000000      12.000000       0.053100   \n",
              "25%    3.309195e+05      7500.000000      36.000000       0.103900   \n",
              "50%    5.946240e+05     12000.000000      36.000000       0.137500   \n",
              "75%    8.324515e+05     18000.000000      60.000000       0.192000   \n",
              "max    1.081986e+06     40000.000000      60.000000       0.319200   \n",
              "\n",
              "         installment  principal_balance  principal_paid  interest_paid  \\\n",
              "count  913619.000000      913619.000000   913619.000000  913619.000000   \n",
              "mean      407.563923        4307.853990     8104.099338    2142.619795   \n",
              "std       235.237354        6514.352055     7514.961075    2073.576736   \n",
              "min        40.066394           0.000000      -15.000000      -8.255100   \n",
              "25%       231.905584           0.000000     2198.805000     702.335000   \n",
              "50%       361.373478           0.000000     5722.420000    1497.500000   \n",
              "75%       531.325392        7162.990000    12000.000000    2875.450000   \n",
              "max      2251.506148       39546.430000    40000.000000   18575.600000   \n",
              "\n",
              "       late_fees_paid  debt_sale_proceeds_received  days_past_due  \n",
              "count   913619.000000                     913619.0  913619.000000  \n",
              "mean         5.808205                          0.0      15.807546  \n",
              "std         34.922043                          0.0     109.942776  \n",
              "min          0.000000                          0.0       0.000000  \n",
              "25%          0.000000                          0.0       0.000000  \n",
              "50%          0.000000                          0.0       0.000000  \n",
              "75%          0.000000                          0.0       0.000000  \n",
              "max       1676.850000                          0.0    2029.000000  "
            ],
            "text/html": [
              "\n",
              "  <div id=\"df-540289e8-29c8-493d-a2c1-c7e0bd9c87f0\">\n",
              "    <div class=\"colab-df-container\">\n",
              "      <div>\n",
              "<style scoped>\n",
              "    .dataframe tbody tr th:only-of-type {\n",
              "        vertical-align: middle;\n",
              "    }\n",
              "\n",
              "    .dataframe tbody tr th {\n",
              "        vertical-align: top;\n",
              "    }\n",
              "\n",
              "    .dataframe thead th {\n",
              "        text-align: right;\n",
              "    }\n",
              "</style>\n",
              "<table border=\"1\" class=\"dataframe\">\n",
              "  <thead>\n",
              "    <tr style=\"text-align: right;\">\n",
              "      <th></th>\n",
              "      <th>loan_number</th>\n",
              "      <th>amount_borrowed</th>\n",
              "      <th>term</th>\n",
              "      <th>borrower_rate</th>\n",
              "      <th>installment</th>\n",
              "      <th>principal_balance</th>\n",
              "      <th>principal_paid</th>\n",
              "      <th>interest_paid</th>\n",
              "      <th>late_fees_paid</th>\n",
              "      <th>debt_sale_proceeds_received</th>\n",
              "      <th>days_past_due</th>\n",
              "    </tr>\n",
              "  </thead>\n",
              "  <tbody>\n",
              "    <tr>\n",
              "      <th>count</th>\n",
              "      <td>9.136190e+05</td>\n",
              "      <td>913619.000000</td>\n",
              "      <td>913619.000000</td>\n",
              "      <td>913619.000000</td>\n",
              "      <td>913619.000000</td>\n",
              "      <td>913619.000000</td>\n",
              "      <td>913619.000000</td>\n",
              "      <td>913619.000000</td>\n",
              "      <td>913619.000000</td>\n",
              "      <td>913619.0</td>\n",
              "      <td>913619.000000</td>\n",
              "    </tr>\n",
              "    <tr>\n",
              "      <th>mean</th>\n",
              "      <td>5.821678e+05</td>\n",
              "      <td>13332.617882</td>\n",
              "      <td>43.128871</td>\n",
              "      <td>0.153106</td>\n",
              "      <td>407.563923</td>\n",
              "      <td>4307.853990</td>\n",
              "      <td>8104.099338</td>\n",
              "      <td>2142.619795</td>\n",
              "      <td>5.808205</td>\n",
              "      <td>0.0</td>\n",
              "      <td>15.807546</td>\n",
              "    </tr>\n",
              "    <tr>\n",
              "      <th>std</th>\n",
              "      <td>2.858683e+05</td>\n",
              "      <td>7946.272924</td>\n",
              "      <td>10.982495</td>\n",
              "      <td>0.065643</td>\n",
              "      <td>235.237354</td>\n",
              "      <td>6514.352055</td>\n",
              "      <td>7514.961075</td>\n",
              "      <td>2073.576736</td>\n",
              "      <td>34.922043</td>\n",
              "      <td>0.0</td>\n",
              "      <td>109.942776</td>\n",
              "    </tr>\n",
              "    <tr>\n",
              "      <th>min</th>\n",
              "      <td>7.965000e+04</td>\n",
              "      <td>2000.000000</td>\n",
              "      <td>12.000000</td>\n",
              "      <td>0.053100</td>\n",
              "      <td>40.066394</td>\n",
              "      <td>0.000000</td>\n",
              "      <td>-15.000000</td>\n",
              "      <td>-8.255100</td>\n",
              "      <td>0.000000</td>\n",
              "      <td>0.0</td>\n",
              "      <td>0.000000</td>\n",
              "    </tr>\n",
              "    <tr>\n",
              "      <th>25%</th>\n",
              "      <td>3.309195e+05</td>\n",
              "      <td>7500.000000</td>\n",
              "      <td>36.000000</td>\n",
              "      <td>0.103900</td>\n",
              "      <td>231.905584</td>\n",
              "      <td>0.000000</td>\n",
              "      <td>2198.805000</td>\n",
              "      <td>702.335000</td>\n",
              "      <td>0.000000</td>\n",
              "      <td>0.0</td>\n",
              "      <td>0.000000</td>\n",
              "    </tr>\n",
              "    <tr>\n",
              "      <th>50%</th>\n",
              "      <td>5.946240e+05</td>\n",
              "      <td>12000.000000</td>\n",
              "      <td>36.000000</td>\n",
              "      <td>0.137500</td>\n",
              "      <td>361.373478</td>\n",
              "      <td>0.000000</td>\n",
              "      <td>5722.420000</td>\n",
              "      <td>1497.500000</td>\n",
              "      <td>0.000000</td>\n",
              "      <td>0.0</td>\n",
              "      <td>0.000000</td>\n",
              "    </tr>\n",
              "    <tr>\n",
              "      <th>75%</th>\n",
              "      <td>8.324515e+05</td>\n",
              "      <td>18000.000000</td>\n",
              "      <td>60.000000</td>\n",
              "      <td>0.192000</td>\n",
              "      <td>531.325392</td>\n",
              "      <td>7162.990000</td>\n",
              "      <td>12000.000000</td>\n",
              "      <td>2875.450000</td>\n",
              "      <td>0.000000</td>\n",
              "      <td>0.0</td>\n",
              "      <td>0.000000</td>\n",
              "    </tr>\n",
              "    <tr>\n",
              "      <th>max</th>\n",
              "      <td>1.081986e+06</td>\n",
              "      <td>40000.000000</td>\n",
              "      <td>60.000000</td>\n",
              "      <td>0.319200</td>\n",
              "      <td>2251.506148</td>\n",
              "      <td>39546.430000</td>\n",
              "      <td>40000.000000</td>\n",
              "      <td>18575.600000</td>\n",
              "      <td>1676.850000</td>\n",
              "      <td>0.0</td>\n",
              "      <td>2029.000000</td>\n",
              "    </tr>\n",
              "  </tbody>\n",
              "</table>\n",
              "</div>\n",
              "      <button class=\"colab-df-convert\" onclick=\"convertToInteractive('df-540289e8-29c8-493d-a2c1-c7e0bd9c87f0')\"\n",
              "              title=\"Convert this dataframe to an interactive table.\"\n",
              "              style=\"display:none;\">\n",
              "        \n",
              "  <svg xmlns=\"http://www.w3.org/2000/svg\" height=\"24px\"viewBox=\"0 0 24 24\"\n",
              "       width=\"24px\">\n",
              "    <path d=\"M0 0h24v24H0V0z\" fill=\"none\"/>\n",
              "    <path d=\"M18.56 5.44l.94 2.06.94-2.06 2.06-.94-2.06-.94-.94-2.06-.94 2.06-2.06.94zm-11 1L8.5 8.5l.94-2.06 2.06-.94-2.06-.94L8.5 2.5l-.94 2.06-2.06.94zm10 10l.94 2.06.94-2.06 2.06-.94-2.06-.94-.94-2.06-.94 2.06-2.06.94z\"/><path d=\"M17.41 7.96l-1.37-1.37c-.4-.4-.92-.59-1.43-.59-.52 0-1.04.2-1.43.59L10.3 9.45l-7.72 7.72c-.78.78-.78 2.05 0 2.83L4 21.41c.39.39.9.59 1.41.59.51 0 1.02-.2 1.41-.59l7.78-7.78 2.81-2.81c.8-.78.8-2.07 0-2.86zM5.41 20L4 18.59l7.72-7.72 1.47 1.35L5.41 20z\"/>\n",
              "  </svg>\n",
              "      </button>\n",
              "      \n",
              "  <style>\n",
              "    .colab-df-container {\n",
              "      display:flex;\n",
              "      flex-wrap:wrap;\n",
              "      gap: 12px;\n",
              "    }\n",
              "\n",
              "    .colab-df-convert {\n",
              "      background-color: #E8F0FE;\n",
              "      border: none;\n",
              "      border-radius: 50%;\n",
              "      cursor: pointer;\n",
              "      display: none;\n",
              "      fill: #1967D2;\n",
              "      height: 32px;\n",
              "      padding: 0 0 0 0;\n",
              "      width: 32px;\n",
              "    }\n",
              "\n",
              "    .colab-df-convert:hover {\n",
              "      background-color: #E2EBFA;\n",
              "      box-shadow: 0px 1px 2px rgba(60, 64, 67, 0.3), 0px 1px 3px 1px rgba(60, 64, 67, 0.15);\n",
              "      fill: #174EA6;\n",
              "    }\n",
              "\n",
              "    [theme=dark] .colab-df-convert {\n",
              "      background-color: #3B4455;\n",
              "      fill: #D2E3FC;\n",
              "    }\n",
              "\n",
              "    [theme=dark] .colab-df-convert:hover {\n",
              "      background-color: #434B5C;\n",
              "      box-shadow: 0px 1px 3px 1px rgba(0, 0, 0, 0.15);\n",
              "      filter: drop-shadow(0px 1px 2px rgba(0, 0, 0, 0.3));\n",
              "      fill: #FFFFFF;\n",
              "    }\n",
              "  </style>\n",
              "\n",
              "      <script>\n",
              "        const buttonEl =\n",
              "          document.querySelector('#df-540289e8-29c8-493d-a2c1-c7e0bd9c87f0 button.colab-df-convert');\n",
              "        buttonEl.style.display =\n",
              "          google.colab.kernel.accessAllowed ? 'block' : 'none';\n",
              "\n",
              "        async function convertToInteractive(key) {\n",
              "          const element = document.querySelector('#df-540289e8-29c8-493d-a2c1-c7e0bd9c87f0');\n",
              "          const dataTable =\n",
              "            await google.colab.kernel.invokeFunction('convertToInteractive',\n",
              "                                                     [key], {});\n",
              "          if (!dataTable) return;\n",
              "\n",
              "          const docLinkHtml = 'Like what you see? Visit the ' +\n",
              "            '<a target=\"_blank\" href=https://colab.research.google.com/notebooks/data_table.ipynb>data table notebook</a>'\n",
              "            + ' to learn more about interactive tables.';\n",
              "          element.innerHTML = '';\n",
              "          dataTable['output_type'] = 'display_data';\n",
              "          await google.colab.output.renderOutput(dataTable, element);\n",
              "          const docLink = document.createElement('div');\n",
              "          docLink.innerHTML = docLinkHtml;\n",
              "          element.appendChild(docLink);\n",
              "        }\n",
              "      </script>\n",
              "    </div>\n",
              "  </div>\n",
              "  "
            ]
          },
          "metadata": {},
          "execution_count": 21
        }
      ],
      "source": [
        "# deskripsi data\n",
        "df.describe()"
      ]
    },
    {
      "cell_type": "code",
      "execution_count": 22,
      "metadata": {
        "colab": {
          "base_uri": "https://localhost:8080/",
          "height": 0
        },
        "id": "ffEwJZugyiIl",
        "outputId": "1f1829a2-b99f-4f45-e02a-492467562e42"
      },
      "outputs": [
        {
          "output_type": "execute_result",
          "data": {
            "text/plain": [
              "<AxesSubplot:xlabel='loan_status_description', ylabel='count'>"
            ]
          },
          "metadata": {},
          "execution_count": 22
        },
        {
          "output_type": "display_data",
          "data": {
            "text/plain": [
              "<Figure size 1440x576 with 1 Axes>"
            ],
            "image/png": "[encoded data removed]"
          },
          "metadata": {
            "needs_background": "light"
          }
        }
      ],
      "source": [
        "plt.figure(figsize=(20, 8))\n",
        "\n",
        "uniq = df['loan_status_description'].astype(str).unique()\n",
        "grade = sorted(uniq.tolist())\n",
        "sns.countplot(x='loan_status_description', data=df, hue='loan_status_description', order=grade)"
      ]
    },
    {
      "cell_type": "code",
      "execution_count": 23,
      "metadata": {
        "id": "7SHk3dl129qE",
        "colab": {
          "base_uri": "https://localhost:8080/",
          "height": 0
        },
        "outputId": "e4397228-9095-412e-98f9-c2f9589eb7bb"
      },
      "outputs": [
        {
          "output_type": "execute_result",
          "data": {
            "text/plain": [
              "<AxesSubplot:>"
            ]
          },
          "metadata": {},
          "execution_count": 23
        },
        {
          "output_type": "display_data",
          "data": {
            "text/plain": [
              "<Figure size 864x576 with 2 Axes>"
            ],
            "image/png": "[encoded data removed]"
          },
          "metadata": {
            "needs_background": "light"
          }
        }
      ],
      "source": [
        "plt.figure(figsize=(12, 8))\n",
        "sns.heatmap(df.corr(), annot=True, cmap='viridis')"
      ]
    },
    {
      "cell_type": "markdown",
      "metadata": {
        "id": "HMpOqt6a3Jfc"
      },
      "source": [
        "installment memiliki korelasi baik dengan amount_borrowed"
      ]
    },
    {
      "cell_type": "markdown",
      "metadata": {
        "id": "WQrcRh-3ErIz"
      },
      "source": [
        "# **Preprocessing Data**"
      ]
    },
    {
      "cell_type": "markdown",
      "source": [
        "## **Data Cleaning: Missing Values Check**\n",
        "\n"
      ],
      "metadata": {
        "id": "kcHyJ3EHk5i1"
      }
    },
    {
      "cell_type": "code",
      "execution_count": 24,
      "metadata": {
        "colab": {
          "base_uri": "https://localhost:8080/"
        },
        "id": "HtxlcFTT9b2D",
        "outputId": "c90ab304-99ea-4224-9cc9-7ce4b07f90aa"
      },
      "outputs": [
        {
          "output_type": "execute_result",
          "data": {
            "text/plain": [
              "loan_number                         0\n",
              "amount_borrowed                     0\n",
              "term                                0\n",
              "borrower_rate                       0\n",
              "installment                         0\n",
              "grade                               0\n",
              "origination_date                    0\n",
              "listing_title                  863078\n",
              "principal_balance                   0\n",
              "principal_paid                      0\n",
              "interest_paid                       0\n",
              "late_fees_paid                      0\n",
              "debt_sale_proceeds_received         0\n",
              "last_payment_date                   0\n",
              "next_payment_due_date               0\n",
              "days_past_due                       0\n",
              "loan_status_description             0\n",
              "dtype: int64"
            ]
          },
          "metadata": {},
          "execution_count": 24
        }
      ],
      "source": [
        "#preprocessing data\n",
        "#cek mising value nilai Null\n",
        "df.isnull().sum() "
      ]
    },
    {
      "cell_type": "code",
      "execution_count": 25,
      "metadata": {
        "colab": {
          "base_uri": "https://localhost:8080/"
        },
        "id": "CVDuRBggFRd0",
        "outputId": "7cf519f1-8e70-4300-b675-df01d2bb9b0f"
      },
      "outputs": [
        {
          "output_type": "stream",
          "name": "stdout",
          "text": [
            "The Length of the data: (913619, 17)\n"
          ]
        }
      ],
      "source": [
        "# The length of the data\n",
        "print(f\"The Length of the data: {df.shape}\")"
      ]
    },
    {
      "cell_type": "code",
      "execution_count": 26,
      "metadata": {
        "colab": {
          "base_uri": "https://localhost:8080/"
        },
        "id": "aGNSDhJ6FYw9",
        "outputId": "9f08c632-ed52-4339-a3c7-821f3dce994d"
      },
      "outputs": [
        {
          "output_type": "stream",
          "name": "stdout",
          "text": [
            "'listing_title': number of missing values '863078' ==> '94.468%'\n"
          ]
        }
      ],
      "source": [
        "# Missing values nilai NaN\n",
        "for column in df.columns:\n",
        "    if df[column].isna().sum() != 0:\n",
        "        missing = df[column].isna().sum()\n",
        "        portion = (missing / df.shape[0]) * 100\n",
        "        print(f\"'{column}': number of missing values '{missing}' ==> '{portion:.3f}%'\")"
      ]
    },
    {
      "cell_type": "code",
      "execution_count": 27,
      "metadata": {
        "id": "-TZ2-2C1z7ST"
      },
      "outputs": [],
      "source": [
        "# hapus kolom yang meiliki missing value diatas 30%\n",
        "df = df.drop(['listing_title'], axis=1)"
      ]
    },
    {
      "cell_type": "code",
      "execution_count": 28,
      "metadata": {
        "colab": {
          "base_uri": "https://localhost:8080/"
        },
        "id": "bPj2oo62u0mL",
        "outputId": "973f27ee-e17d-402e-d22c-9bc4163c5154"
      },
      "outputs": [
        {
          "output_type": "execute_result",
          "data": {
            "text/plain": [
              "loan_number                    0\n",
              "amount_borrowed                0\n",
              "term                           0\n",
              "borrower_rate                  0\n",
              "installment                    0\n",
              "grade                          0\n",
              "origination_date               0\n",
              "principal_balance              0\n",
              "principal_paid                 0\n",
              "interest_paid                  0\n",
              "late_fees_paid                 0\n",
              "debt_sale_proceeds_received    0\n",
              "last_payment_date              0\n",
              "next_payment_due_date          0\n",
              "days_past_due                  0\n",
              "loan_status_description        0\n",
              "dtype: int64"
            ]
          },
          "metadata": {},
          "execution_count": 28
        }
      ],
      "source": [
        "# cek ulang missing value setelah dihapus\n",
        "df.isna().sum()"
      ]
    },
    {
      "cell_type": "markdown",
      "metadata": {
        "id": "1shr4_NnWbm2"
      },
      "source": [
        "## **Data Cleaning: Outlier Check**"
      ]
    },
    {
      "cell_type": "markdown",
      "metadata": {
        "id": "0GoiCs2cMBL4"
      },
      "source": [
        "### **amount_borrowed**"
      ]
    },
    {
      "cell_type": "code",
      "execution_count": 29,
      "metadata": {
        "colab": {
          "base_uri": "https://localhost:8080/",
          "height": 0
        },
        "id": "FQW1pH8NMBL5",
        "outputId": "9c3bb197-318f-455f-ee7c-5ce63c34fe52"
      },
      "outputs": [
        {
          "output_type": "stream",
          "name": "stderr",
          "text": [
            "/usr/local/lib/python3.9/dist-packages/seaborn/_decorators.py:36: FutureWarning: Pass the following variable as a keyword arg: x. From version 0.12, the only valid positional argument will be `data`, and passing other arguments without an explicit keyword will result in an error or misinterpretation.\n",
            "  warnings.warn(\n"
          ]
        },
        {
          "output_type": "display_data",
          "data": {
            "text/plain": [
              "<Figure size 720x360 with 1 Axes>"
            ],
            "image/png": "[encoded data removed]"
          },
          "metadata": {
            "needs_background": "light"
          }
        }
      ],
      "source": [
        "import matplotlib.pyplot as plt\n",
        "import seaborn as sns\n",
        "plt.figure(figsize = (10, 5))\n",
        "sns.boxplot(df['amount_borrowed'])\n",
        "plt.annotate('Outlier', (df['amount_borrowed'].describe()['max'],0.1), xytext = (df['amount_borrowed'].describe()['max'],0.3),\n",
        "             arrowprops = dict(facecolor = 'blue'), fontsize = 13 )\n",
        "IQR = df['amount_borrowed'].describe()['75%'] - df['amount_borrowed'].describe()['25%']"
      ]
    },
    {
      "cell_type": "code",
      "execution_count": 30,
      "metadata": {
        "id": "TgjXrORNMBL5"
      },
      "outputs": [],
      "source": [
        "# Q1, Q3, dan IQR\n",
        "Q1 = df['amount_borrowed'].quantile(0.25)\n",
        "Q3 = df['amount_borrowed'].quantile(0.75)\n",
        "IQR = Q3 - Q1"
      ]
    },
    {
      "cell_type": "code",
      "execution_count": 31,
      "metadata": {
        "id": "vDFnobQuMBL6"
      },
      "outputs": [],
      "source": [
        "# Removing outliers\n",
        "df = df[~((df['amount_borrowed'] < (Q1-1.5*IQR)) | (df['amount_borrowed'] > (Q3+1.5*IQR)))]\n"
      ]
    },
    {
      "cell_type": "code",
      "execution_count": 32,
      "metadata": {
        "colab": {
          "base_uri": "https://localhost:8080/"
        },
        "id": "Aus_5IfoMBL6",
        "outputId": "f045dd76-f2d1-4b85-f8b8-22947e9f5db3"
      },
      "outputs": [
        {
          "output_type": "stream",
          "name": "stdout",
          "text": [
            "Shape akhir:  (883499, 16)\n"
          ]
        }
      ],
      "source": [
        "# Check ukuran (baris dan kolom) setelah data yang outliers dibuang\n",
        "print('Shape akhir: ', df.shape)"
      ]
    },
    {
      "cell_type": "markdown",
      "metadata": {
        "id": "jd79gBfQKpxk"
      },
      "source": [
        "### **borrower_rate**"
      ]
    },
    {
      "cell_type": "code",
      "execution_count": 33,
      "metadata": {
        "colab": {
          "base_uri": "https://localhost:8080/",
          "height": 0
        },
        "id": "-EDGjzkOKpxl",
        "outputId": "dba57ad8-bd7b-48c9-d073-20ce7e6005be"
      },
      "outputs": [
        {
          "output_type": "stream",
          "name": "stderr",
          "text": [
            "/usr/local/lib/python3.9/dist-packages/seaborn/_decorators.py:36: FutureWarning: Pass the following variable as a keyword arg: x. From version 0.12, the only valid positional argument will be `data`, and passing other arguments without an explicit keyword will result in an error or misinterpretation.\n",
            "  warnings.warn(\n"
          ]
        },
        {
          "output_type": "display_data",
          "data": {
            "text/plain": [
              "<Figure size 720x360 with 1 Axes>"
            ],
            "image/png": "[encoded data removed]"
          },
          "metadata": {
            "needs_background": "light"
          }
        }
      ],
      "source": [
        "import matplotlib.pyplot as plt\n",
        "import seaborn as sns\n",
        "plt.figure(figsize = (10, 5))\n",
        "sns.boxplot(df['borrower_rate'])\n",
        "plt.annotate('Outlier', (df['borrower_rate'].describe()['max'],0.1), xytext = (df['borrower_rate'].describe()['max'],0.3),\n",
        "             arrowprops = dict(facecolor = 'blue'), fontsize = 13 )\n",
        "IQR = df['borrower_rate'].describe()['75%'] - df['borrower_rate'].describe()['25%']"
      ]
    },
    {
      "cell_type": "code",
      "execution_count": 34,
      "metadata": {
        "id": "643jZJHIKpxm"
      },
      "outputs": [],
      "source": [
        "# Q1, Q3, dan IQR\n",
        "Q1 = df['borrower_rate'].quantile(0.25)\n",
        "Q3 = df['borrower_rate'].quantile(0.75)\n",
        "IQR = Q3 - Q1"
      ]
    },
    {
      "cell_type": "code",
      "execution_count": 35,
      "metadata": {
        "id": "n_nNzKqwKpxm"
      },
      "outputs": [],
      "source": [
        "# Removing outliers\n",
        "df = df[~((df['borrower_rate'] < (Q1-1.5*IQR)) | (df['borrower_rate'] > (Q3+1.5*IQR)))]\n"
      ]
    },
    {
      "cell_type": "code",
      "execution_count": 36,
      "metadata": {
        "colab": {
          "base_uri": "https://localhost:8080/"
        },
        "id": "HFAN9RYcKpxm",
        "outputId": "46627240-3c2a-439a-f10c-8436346dfed7"
      },
      "outputs": [
        {
          "output_type": "stream",
          "name": "stdout",
          "text": [
            "Shape akhir:  (883499, 16)\n"
          ]
        }
      ],
      "source": [
        "# Check ukuran (baris dan kolom) setelah data yang outliers dibuang\n",
        "print('Shape akhir: ', df.shape)"
      ]
    },
    {
      "cell_type": "markdown",
      "metadata": {
        "id": "5CZSTCUvMaWP"
      },
      "source": [
        "### **installment**"
      ]
    },
    {
      "cell_type": "code",
      "execution_count": 37,
      "metadata": {
        "colab": {
          "base_uri": "https://localhost:8080/",
          "height": 0
        },
        "id": "rgBdqjVPMaWQ",
        "outputId": "105afff9-4327-4ebb-dfcf-39958a9fc52a"
      },
      "outputs": [
        {
          "output_type": "stream",
          "name": "stderr",
          "text": [
            "/usr/local/lib/python3.9/dist-packages/seaborn/_decorators.py:36: FutureWarning: Pass the following variable as a keyword arg: x. From version 0.12, the only valid positional argument will be `data`, and passing other arguments without an explicit keyword will result in an error or misinterpretation.\n",
            "  warnings.warn(\n"
          ]
        },
        {
          "output_type": "display_data",
          "data": {
            "text/plain": [
              "<Figure size 720x360 with 1 Axes>"
            ],
            "image/png": "[encoded data removed]"
          },
          "metadata": {
            "needs_background": "light"
          }
        }
      ],
      "source": [
        "import matplotlib.pyplot as plt\n",
        "import seaborn as sns\n",
        "plt.figure(figsize = (10, 5))\n",
        "sns.boxplot(df['installment'])\n",
        "plt.annotate('Outlier', (df['installment'].describe()['max'],0.1), xytext = (df['installment'].describe()['max'],0.3),\n",
        "             arrowprops = dict(facecolor = 'blue'), fontsize = 13 )\n",
        "IQR = df['installment'].describe()['75%'] - df['installment'].describe()['25%']"
      ]
    },
    {
      "cell_type": "code",
      "execution_count": 38,
      "metadata": {
        "id": "Gk6caCj2MaWQ"
      },
      "outputs": [],
      "source": [
        "# Q1, Q3, dan IQR\n",
        "Q1 = df['installment'].quantile(0.25)\n",
        "Q3 = df['installment'].quantile(0.75)\n",
        "IQR = Q3 - Q1"
      ]
    },
    {
      "cell_type": "code",
      "execution_count": 39,
      "metadata": {
        "id": "LI_yjv11MaWR"
      },
      "outputs": [],
      "source": [
        "# Removing outliers\n",
        "df = df[~((df['installment'] < (Q1-1.5*IQR)) | (df['installment'] > (Q3+1.5*IQR)))]\n"
      ]
    },
    {
      "cell_type": "code",
      "execution_count": 40,
      "metadata": {
        "colab": {
          "base_uri": "https://localhost:8080/"
        },
        "id": "1-X6xeHTMaWR",
        "outputId": "6ff7d23d-6208-45b9-8d4e-14242961bcea"
      },
      "outputs": [
        {
          "output_type": "stream",
          "name": "stdout",
          "text": [
            "Shape akhir:  (866490, 16)\n"
          ]
        }
      ],
      "source": [
        "# Check ukuran (baris dan kolom) setelah data yang outliers dibuang\n",
        "print('Shape akhir: ', df.shape)"
      ]
    },
    {
      "cell_type": "markdown",
      "metadata": {
        "id": "uYOET0AdNC_6"
      },
      "source": [
        "### **principal_balance**"
      ]
    },
    {
      "cell_type": "code",
      "execution_count": 41,
      "metadata": {
        "colab": {
          "base_uri": "https://localhost:8080/",
          "height": 0
        },
        "id": "2eL0f9TZNC_7",
        "outputId": "1766115a-e8ff-4e01-a87c-72a335434e56"
      },
      "outputs": [
        {
          "output_type": "stream",
          "name": "stderr",
          "text": [
            "/usr/local/lib/python3.9/dist-packages/seaborn/_decorators.py:36: FutureWarning: Pass the following variable as a keyword arg: x. From version 0.12, the only valid positional argument will be `data`, and passing other arguments without an explicit keyword will result in an error or misinterpretation.\n",
            "  warnings.warn(\n"
          ]
        },
        {
          "output_type": "display_data",
          "data": {
            "text/plain": [
              "<Figure size 720x360 with 1 Axes>"
            ],
            "image/png": "[encoded data removed]"
          },
          "metadata": {
            "needs_background": "light"
          }
        }
      ],
      "source": [
        "import matplotlib.pyplot as plt\n",
        "import seaborn as sns\n",
        "plt.figure(figsize = (10, 5))\n",
        "sns.boxplot(df['principal_balance'])\n",
        "plt.annotate('Outlier', (df['principal_balance'].describe()['max'],0.1), xytext = (df['principal_balance'].describe()['max'],0.3),\n",
        "             arrowprops = dict(facecolor = 'blue'), fontsize = 13 )\n",
        "IQR = df['principal_balance'].describe()['75%'] - df['principal_balance'].describe()['25%']"
      ]
    },
    {
      "cell_type": "code",
      "execution_count": 42,
      "metadata": {
        "id": "wtHNmd5yNC_7"
      },
      "outputs": [],
      "source": [
        "# Q1, Q3, dan IQR\n",
        "Q1 = df['principal_balance'].quantile(0.25)\n",
        "Q3 = df['principal_balance'].quantile(0.75)\n",
        "IQR = Q3 - Q1"
      ]
    },
    {
      "cell_type": "code",
      "execution_count": 43,
      "metadata": {
        "id": "ccRH5T4vNC_8"
      },
      "outputs": [],
      "source": [
        "# Removing outliers\n",
        "df = df[~((df['principal_balance'] < (Q1-1.5*IQR)) | (df['principal_balance'] > (Q3+1.5*IQR)))]\n"
      ]
    },
    {
      "cell_type": "code",
      "execution_count": 44,
      "metadata": {
        "colab": {
          "base_uri": "https://localhost:8080/"
        },
        "id": "E_9pcqVYNC_8",
        "outputId": "d8e92433-c62f-4ced-dff8-a0cb3a5cc508"
      },
      "outputs": [
        {
          "output_type": "stream",
          "name": "stdout",
          "text": [
            "Shape akhir:  (830829, 16)\n"
          ]
        }
      ],
      "source": [
        "# Check ukuran (baris dan kolom) setelah data yang outliers dibuang\n",
        "print('Shape akhir: ', df.shape)"
      ]
    },
    {
      "cell_type": "markdown",
      "metadata": {
        "id": "PR7gISi7OTKv"
      },
      "source": [
        "### **principal_paid**"
      ]
    },
    {
      "cell_type": "code",
      "execution_count": 45,
      "metadata": {
        "colab": {
          "base_uri": "https://localhost:8080/",
          "height": 0
        },
        "id": "WwLqPO6TOTKw",
        "outputId": "b8b05088-3faa-41bf-cf4c-628863e449c9"
      },
      "outputs": [
        {
          "output_type": "stream",
          "name": "stderr",
          "text": [
            "/usr/local/lib/python3.9/dist-packages/seaborn/_decorators.py:36: FutureWarning: Pass the following variable as a keyword arg: x. From version 0.12, the only valid positional argument will be `data`, and passing other arguments without an explicit keyword will result in an error or misinterpretation.\n",
            "  warnings.warn(\n"
          ]
        },
        {
          "output_type": "display_data",
          "data": {
            "text/plain": [
              "<Figure size 720x360 with 1 Axes>"
            ],
            "image/png": "[encoded data removed]"
          },
          "metadata": {
            "needs_background": "light"
          }
        }
      ],
      "source": [
        "import matplotlib.pyplot as plt\n",
        "import seaborn as sns\n",
        "plt.figure(figsize = (10, 5))\n",
        "sns.boxplot(df['principal_paid'])\n",
        "plt.annotate('Outlier', (df['principal_paid'].describe()['max'],0.1), xytext = (df['principal_paid'].describe()['max'],0.3),\n",
        "             arrowprops = dict(facecolor = 'blue'), fontsize = 13 )\n",
        "IQR = df['principal_paid'].describe()['75%'] - df['principal_paid'].describe()['25%']"
      ]
    },
    {
      "cell_type": "code",
      "execution_count": 46,
      "metadata": {
        "id": "nBmDgp-5OTKw"
      },
      "outputs": [],
      "source": [
        "# Q1, Q3, dan IQR\n",
        "Q1 = df['principal_paid'].quantile(0.25)\n",
        "Q3 = df['principal_paid'].quantile(0.75)\n",
        "IQR = Q3 - Q1"
      ]
    },
    {
      "cell_type": "code",
      "execution_count": 47,
      "metadata": {
        "id": "vRB1DUbtOTKw"
      },
      "outputs": [],
      "source": [
        "# Removing outliers\n",
        "df = df[~((df['principal_paid'] < (Q1-1.5*IQR)) | (df['principal_paid'] > (Q3+1.5*IQR)))]\n"
      ]
    },
    {
      "cell_type": "code",
      "execution_count": 48,
      "metadata": {
        "colab": {
          "base_uri": "https://localhost:8080/"
        },
        "id": "4baCp-HrOTKw",
        "outputId": "9da43610-1555-40d6-90f6-90a02187932e"
      },
      "outputs": [
        {
          "output_type": "stream",
          "name": "stdout",
          "text": [
            "Shape akhir:  (824797, 16)\n"
          ]
        }
      ],
      "source": [
        "# Check ukuran (baris dan kolom) setelah data yang outliers dibuang\n",
        "print('Shape akhir: ', df.shape)"
      ]
    },
    {
      "cell_type": "markdown",
      "metadata": {
        "id": "ywfUMBuoDc12"
      },
      "source": [
        "### **Interest_paid**"
      ]
    },
    {
      "cell_type": "code",
      "execution_count": 49,
      "metadata": {
        "colab": {
          "base_uri": "https://localhost:8080/",
          "height": 0
        },
        "id": "zpi7hs-QDFyo",
        "outputId": "24958ff7-d116-478e-cf7b-afa44685b1a3"
      },
      "outputs": [
        {
          "output_type": "stream",
          "name": "stderr",
          "text": [
            "/usr/local/lib/python3.9/dist-packages/seaborn/_decorators.py:36: FutureWarning: Pass the following variable as a keyword arg: x. From version 0.12, the only valid positional argument will be `data`, and passing other arguments without an explicit keyword will result in an error or misinterpretation.\n",
            "  warnings.warn(\n"
          ]
        },
        {
          "output_type": "display_data",
          "data": {
            "text/plain": [
              "<Figure size 720x360 with 1 Axes>"
            ],
            "image/png": "[encoded data removed]"
          },
          "metadata": {
            "needs_background": "light"
          }
        }
      ],
      "source": [
        "import matplotlib.pyplot as plt\n",
        "import seaborn as sns\n",
        "plt.figure(figsize = (10, 5))\n",
        "sns.boxplot(df['interest_paid'])\n",
        "plt.annotate('Outlier', (df['interest_paid'].describe()['max'],0.1), xytext = (df['interest_paid'].describe()['max'],0.3),\n",
        "             arrowprops = dict(facecolor = 'blue'), fontsize = 13 )\n",
        "IQR = df['interest_paid'].describe()['75%'] - df['interest_paid'].describe()['25%']"
      ]
    },
    {
      "cell_type": "code",
      "execution_count": 50,
      "metadata": {
        "id": "HL2IQ25Ak3yZ"
      },
      "outputs": [],
      "source": [
        "# Q1, Q3, dan IQR\n",
        "Q1 = df['interest_paid'].quantile(0.25)\n",
        "Q3 = df['interest_paid'].quantile(0.75)\n",
        "IQR = Q3 - Q1"
      ]
    },
    {
      "cell_type": "code",
      "execution_count": 51,
      "metadata": {
        "id": "QFQ_J3uWk-Xb"
      },
      "outputs": [],
      "source": [
        "# Removing outliers\n",
        "df = df[~((df['interest_paid'] < (Q1-1.5*IQR)) | (df['interest_paid'] > (Q3+1.5*IQR)))]\n"
      ]
    },
    {
      "cell_type": "code",
      "execution_count": 52,
      "metadata": {
        "colab": {
          "base_uri": "https://localhost:8080/"
        },
        "id": "XEXIu6gUlBsq",
        "outputId": "aac9bb58-5ddc-4a95-93c9-bdd4159c205a"
      },
      "outputs": [
        {
          "output_type": "stream",
          "name": "stdout",
          "text": [
            "Shape akhir:  (779042, 16)\n"
          ]
        }
      ],
      "source": [
        "# Check ukuran (baris dan kolom) setelah data yang outliers dibuang\n",
        "print('Shape akhir: ', df.shape)"
      ]
    },
    {
      "cell_type": "markdown",
      "metadata": {
        "id": "80qHprSoERab"
      },
      "source": [
        "### **late_fees_paid**"
      ]
    },
    {
      "cell_type": "code",
      "execution_count": 53,
      "metadata": {
        "colab": {
          "base_uri": "https://localhost:8080/",
          "height": 0
        },
        "id": "B-LvrQ31ERac",
        "outputId": "2aafec23-c3dd-45c0-8db3-0075488eb26a"
      },
      "outputs": [
        {
          "output_type": "stream",
          "name": "stderr",
          "text": [
            "/usr/local/lib/python3.9/dist-packages/seaborn/_decorators.py:36: FutureWarning: Pass the following variable as a keyword arg: x. From version 0.12, the only valid positional argument will be `data`, and passing other arguments without an explicit keyword will result in an error or misinterpretation.\n",
            "  warnings.warn(\n"
          ]
        },
        {
          "output_type": "display_data",
          "data": {
            "text/plain": [
              "<Figure size 720x360 with 1 Axes>"
            ],
            "image/png": "[encoded data removed]"
          },
          "metadata": {
            "needs_background": "light"
          }
        }
      ],
      "source": [
        "import matplotlib.pyplot as plt\n",
        "import seaborn as sns\n",
        "plt.figure(figsize = (10, 5))\n",
        "sns.boxplot(df['late_fees_paid'])\n",
        "plt.annotate('Outlier', (df['late_fees_paid'].describe()['max'],0.1), xytext = (df['late_fees_paid'].describe()['max'],0.3),\n",
        "             arrowprops = dict(facecolor = 'blue'), fontsize = 13 )\n",
        "IQR = df['late_fees_paid'].describe()['75%'] - df['late_fees_paid'].describe()['25%']"
      ]
    },
    {
      "cell_type": "code",
      "execution_count": 54,
      "metadata": {
        "id": "wjTpyXNiERad"
      },
      "outputs": [],
      "source": [
        "# Q1, Q3, dan IQR\n",
        "Q1 = df['late_fees_paid'].quantile(0.25)\n",
        "Q3 = df['late_fees_paid'].quantile(0.75)\n",
        "IQR = Q3 - Q1"
      ]
    },
    {
      "cell_type": "code",
      "execution_count": 55,
      "metadata": {
        "id": "qAE4z9HGERae"
      },
      "outputs": [],
      "source": [
        "# Removing outliers\n",
        "df = df[~((df['late_fees_paid'] < (Q1-1.5*IQR)) | (df['late_fees_paid'] > (Q3+1.5*IQR)))]\n"
      ]
    },
    {
      "cell_type": "code",
      "execution_count": 56,
      "metadata": {
        "colab": {
          "base_uri": "https://localhost:8080/"
        },
        "id": "2FY772XIERae",
        "outputId": "81dd394a-595d-4bbd-d42f-5b86d2476689"
      },
      "outputs": [
        {
          "output_type": "stream",
          "name": "stdout",
          "text": [
            "Shape akhir:  (727131, 16)\n"
          ]
        }
      ],
      "source": [
        "# Check ukuran (baris dan kolom) setelah data yang outliers dibuang\n",
        "print('Shape akhir: ', df.shape)"
      ]
    },
    {
      "cell_type": "markdown",
      "metadata": {
        "id": "Uod6WcVGE0KY"
      },
      "source": [
        "### **debt_sale_proceeds_received**"
      ]
    },
    {
      "cell_type": "code",
      "execution_count": 57,
      "metadata": {
        "colab": {
          "base_uri": "https://localhost:8080/",
          "height": 0
        },
        "id": "YFFoc0TdE0KZ",
        "outputId": "f7d8c8a8-c603-4254-a5dc-e7f9d9de746e"
      },
      "outputs": [
        {
          "output_type": "stream",
          "name": "stderr",
          "text": [
            "/usr/local/lib/python3.9/dist-packages/seaborn/_decorators.py:36: FutureWarning: Pass the following variable as a keyword arg: x. From version 0.12, the only valid positional argument will be `data`, and passing other arguments without an explicit keyword will result in an error or misinterpretation.\n",
            "  warnings.warn(\n"
          ]
        },
        {
          "output_type": "display_data",
          "data": {
            "text/plain": [
              "<Figure size 720x360 with 1 Axes>"
            ],
            "image/png": "[encoded data removed]"
          },
          "metadata": {
            "needs_background": "light"
          }
        }
      ],
      "source": [
        "import matplotlib.pyplot as plt\n",
        "import seaborn as sns\n",
        "plt.figure(figsize = (10, 5))\n",
        "sns.boxplot(df['debt_sale_proceeds_received'])\n",
        "plt.annotate('Outlier', (df['debt_sale_proceeds_received'].describe()['max'],0.1), xytext = (df['debt_sale_proceeds_received'].describe()['max'],0.3),\n",
        "             arrowprops = dict(facecolor = 'blue'), fontsize = 13 )\n",
        "IQR = df['debt_sale_proceeds_received'].describe()['75%'] - df['debt_sale_proceeds_received'].describe()['25%']"
      ]
    },
    {
      "cell_type": "code",
      "execution_count": 58,
      "metadata": {
        "id": "FapSg2CBE0Ka"
      },
      "outputs": [],
      "source": [
        "# Q1, Q3, dan IQR\n",
        "Q1 = df['debt_sale_proceeds_received'].quantile(0.25)\n",
        "Q3 = df['debt_sale_proceeds_received'].quantile(0.75)\n",
        "IQR = Q3 - Q1"
      ]
    },
    {
      "cell_type": "code",
      "execution_count": 59,
      "metadata": {
        "id": "08LLpYoCE0Kc"
      },
      "outputs": [],
      "source": [
        "# Removing outliers\n",
        "df = df[~((df['debt_sale_proceeds_received'] < (Q1-1.5*IQR)) | (df['debt_sale_proceeds_received'] > (Q3+1.5*IQR)))]\n"
      ]
    },
    {
      "cell_type": "code",
      "execution_count": 60,
      "metadata": {
        "colab": {
          "base_uri": "https://localhost:8080/"
        },
        "id": "G263G-EyE0Kc",
        "outputId": "cc05bc42-992c-4f4d-a9fc-a08d9dfe8979"
      },
      "outputs": [
        {
          "output_type": "stream",
          "name": "stdout",
          "text": [
            "Shape akhir:  (727131, 16)\n"
          ]
        }
      ],
      "source": [
        "# Check ukuran (baris dan kolom) setelah data yang outliers dibuang\n",
        "print('Shape akhir: ', df.shape)"
      ]
    },
    {
      "cell_type": "markdown",
      "metadata": {
        "id": "XAScHJXXCml4"
      },
      "source": [
        "### **term**"
      ]
    },
    {
      "cell_type": "code",
      "execution_count": 61,
      "metadata": {
        "colab": {
          "base_uri": "https://localhost:8080/",
          "height": 0
        },
        "id": "dG41UdFXCml5",
        "outputId": "76ce623b-a068-4b5c-92b3-a84d37c9955e"
      },
      "outputs": [
        {
          "output_type": "stream",
          "name": "stderr",
          "text": [
            "/usr/local/lib/python3.9/dist-packages/seaborn/_decorators.py:36: FutureWarning: Pass the following variable as a keyword arg: x. From version 0.12, the only valid positional argument will be `data`, and passing other arguments without an explicit keyword will result in an error or misinterpretation.\n",
            "  warnings.warn(\n"
          ]
        },
        {
          "output_type": "display_data",
          "data": {
            "text/plain": [
              "<Figure size 720x360 with 1 Axes>"
            ],
            "image/png": "[encoded data removed]"
          },
          "metadata": {
            "needs_background": "light"
          }
        }
      ],
      "source": [
        "import matplotlib.pyplot as plt\n",
        "import seaborn as sns\n",
        "plt.figure(figsize = (10, 5))\n",
        "sns.boxplot(df['term'])\n",
        "plt.annotate('Outlier', (df['term'].describe()['max'],0.1), xytext = (df['term'].describe()['max'],0.3),\n",
        "             arrowprops = dict(facecolor = 'blue'), fontsize = 13 )\n",
        "IQR = df['term'].describe()['75%'] - df['term'].describe()['25%']"
      ]
    },
    {
      "cell_type": "code",
      "execution_count": 62,
      "metadata": {
        "id": "V58LhRnMCml6"
      },
      "outputs": [],
      "source": [
        "# Q1, Q3, dan IQR\n",
        "Q1 = df['term'].quantile(0.25)\n",
        "Q3 = df['term'].quantile(0.75)\n",
        "IQR = Q3 - Q1"
      ]
    },
    {
      "cell_type": "code",
      "execution_count": 63,
      "metadata": {
        "id": "Pf1SxuswCml7"
      },
      "outputs": [],
      "source": [
        "# Removing outliers\n",
        "df = df[~((df['term'] < (Q1-1.5*IQR)) | (df['term'] > (Q3+1.5*IQR)))]\n"
      ]
    },
    {
      "cell_type": "code",
      "execution_count": 64,
      "metadata": {
        "colab": {
          "base_uri": "https://localhost:8080/"
        },
        "id": "TajC1smMCml7",
        "outputId": "28cfee74-f06b-45db-f8ef-b504941ba5d1"
      },
      "outputs": [
        {
          "output_type": "stream",
          "name": "stdout",
          "text": [
            "Shape akhir:  (549838, 16)\n"
          ]
        }
      ],
      "source": [
        "# Check ukuran (baris dan kolom) setelah data yang outliers dibuang\n",
        "print('Shape akhir: ', df.shape)"
      ]
    },
    {
      "cell_type": "markdown",
      "metadata": {
        "id": "utyXaqbbC70b"
      },
      "source": [
        "### **days_past_due**"
      ]
    },
    {
      "cell_type": "code",
      "execution_count": 65,
      "metadata": {
        "colab": {
          "base_uri": "https://localhost:8080/",
          "height": 0
        },
        "id": "79GeQaqIC70c",
        "outputId": "2c88a1e5-3500-4a5c-9db0-2f42011cfdff"
      },
      "outputs": [
        {
          "output_type": "stream",
          "name": "stderr",
          "text": [
            "/usr/local/lib/python3.9/dist-packages/seaborn/_decorators.py:36: FutureWarning: Pass the following variable as a keyword arg: x. From version 0.12, the only valid positional argument will be `data`, and passing other arguments without an explicit keyword will result in an error or misinterpretation.\n",
            "  warnings.warn(\n"
          ]
        },
        {
          "output_type": "display_data",
          "data": {
            "text/plain": [
              "<Figure size 720x360 with 1 Axes>"
            ],
            "image/png": "[encoded data removed]"
          },
          "metadata": {
            "needs_background": "light"
          }
        }
      ],
      "source": [
        "import matplotlib.pyplot as plt\n",
        "import seaborn as sns\n",
        "plt.figure(figsize = (10, 5))\n",
        "sns.boxplot(df['days_past_due'])\n",
        "plt.annotate('Outlier', (df['days_past_due'].describe()['max'],0.1), xytext = (df['days_past_due'].describe()['max'],0.3),\n",
        "             arrowprops = dict(facecolor = 'blue'), fontsize = 13 )\n",
        "IQR = df['days_past_due'].describe()['75%'] - df['days_past_due'].describe()['25%']"
      ]
    },
    {
      "cell_type": "code",
      "execution_count": 66,
      "metadata": {
        "id": "EAPxn_1uC70d"
      },
      "outputs": [],
      "source": [
        "# Q1, Q3, dan IQR\n",
        "Q1 = df['days_past_due'].quantile(0.25)\n",
        "Q3 = df['days_past_due'].quantile(0.75)\n",
        "IQR = Q3 - Q1"
      ]
    },
    {
      "cell_type": "code",
      "execution_count": 67,
      "metadata": {
        "id": "bUWj_ktIC70d"
      },
      "outputs": [],
      "source": [
        "# Removing outliers\n",
        "df = df[~((df['days_past_due'] < (Q1-1.5*IQR)) | (df['days_past_due'] > (Q3+1.5*IQR)))]\n"
      ]
    },
    {
      "cell_type": "code",
      "execution_count": 68,
      "metadata": {
        "colab": {
          "base_uri": "https://localhost:8080/"
        },
        "id": "GBZE6TTtC70d",
        "outputId": "24d6ba55-f16c-4267-cc03-64d26365ee3b"
      },
      "outputs": [
        {
          "output_type": "stream",
          "name": "stdout",
          "text": [
            "Shape akhir:  (525401, 16)\n"
          ]
        }
      ],
      "source": [
        "# Check ukuran (baris dan kolom) setelah data yang outliers dibuang\n",
        "print('Shape akhir: ', df.shape)"
      ]
    },
    {
      "cell_type": "markdown",
      "source": [
        "## **Data Cleaning: Removing Features Unused**"
      ],
      "metadata": {
        "id": "W3jg3E9clSnA"
      }
    },
    {
      "cell_type": "code",
      "source": [
        "print(\"Jumlah unique value fitur last_payment_date:\", len(df[\"last_payment_date\"].unique()))\n",
        "print(\"Jumlah unique value fitur next_payment_due_date:\", len(df[\"next_payment_due_date\"].unique()))\n",
        "print(\"Jumlah unique value fitur origination_date:\", len(df[\"origination_date\"].unique()))\n",
        "print(\"Jumlah unique value fitur late_fees_paid:\", len(df[\"late_fees_paid\"].unique()))\n",
        "print(\"Jumlah unique value fitur days_past_due:\", len(df[\"days_past_due\"].unique()))"
      ],
      "metadata": {
        "id": "CV59fijROM22",
        "colab": {
          "base_uri": "https://localhost:8080/"
        },
        "outputId": "21a58200-e3c1-4336-d128-3df281253c3f"
      },
      "execution_count": 69,
      "outputs": [
        {
          "output_type": "stream",
          "name": "stdout",
          "text": [
            "Jumlah unique value fitur last_payment_date: 2195\n",
            "Jumlah unique value fitur next_payment_due_date: 1703\n",
            "Jumlah unique value fitur origination_date: 1381\n",
            "Jumlah unique value fitur late_fees_paid: 1\n",
            "Jumlah unique value fitur days_past_due: 1\n"
          ]
        }
      ]
    },
    {
      "cell_type": "code",
      "execution_count": 70,
      "metadata": {
        "colab": {
          "base_uri": "https://localhost:8080/",
          "height": 0
        },
        "id": "7FB1zAIalZqi",
        "outputId": "97947d8c-1c18-4359-f493-5f6ec53b5e9e"
      },
      "outputs": [
        {
          "output_type": "execute_result",
          "data": {
            "text/plain": [
              "        loan_number  amount_borrowed  term  borrower_rate  installment grade  \\\n",
              "0             80355          5000.00    36         0.2566   200.548615     E   \n",
              "1             80708         15500.00    36         0.1679   550.998674     C   \n",
              "4             80676          2500.00    36         0.0789    78.214113     A   \n",
              "5             82158          3983.31    36         0.2859   166.036273     F   \n",
              "6             81659          5000.00    36         0.2566   200.548615     E   \n",
              "...             ...              ...   ...            ...          ...   ...   \n",
              "913611      1081977         11400.00    36         0.0964   365.922141     B   \n",
              "913612      1081968          9800.00    36         0.0531   295.080729     A   \n",
              "913614      1081905         10000.00    36         0.0934   319.582092     B   \n",
              "913615      1081908         10000.00    36         0.1214   332.812163     C   \n",
              "913618      1081953          3500.00    36         0.1024   113.329941     B   \n",
              "\n",
              "        principal_balance  principal_paid  interest_paid  late_fees_paid  \\\n",
              "0                    0.00         5000.00        1793.31             0.0   \n",
              "1                    0.00        15500.00        3452.00             0.0   \n",
              "4                    0.00         2499.99         228.74             0.0   \n",
              "5                    0.00         3983.30        1582.13             0.0   \n",
              "6                    0.00         5000.00        1598.26             0.0   \n",
              "...                   ...             ...            ...             ...   \n",
              "913611           11124.41          275.59          90.33             0.0   \n",
              "913612            9547.69          252.31          42.77             0.0   \n",
              "913614            9667.17          332.83          86.75             0.0   \n",
              "913615            9766.97          233.03          99.78             0.0   \n",
              "913618            3416.13           83.87          29.46             0.0   \n",
              "\n",
              "        debt_sale_proceeds_received  days_past_due loan_status_description  \n",
              "0                               0.0              0               COMPLETED  \n",
              "1                               0.0              0               COMPLETED  \n",
              "4                               0.0              0               COMPLETED  \n",
              "5                               0.0              0               COMPLETED  \n",
              "6                               0.0              0               COMPLETED  \n",
              "...                             ...            ...                     ...  \n",
              "913611                          0.0              0                 CURRENT  \n",
              "913612                          0.0              0                 CURRENT  \n",
              "913614                          0.0              0                 CURRENT  \n",
              "913615                          0.0              0                 CURRENT  \n",
              "913618                          0.0              0                 CURRENT  \n",
              "\n",
              "[525401 rows x 13 columns]"
            ],
            "text/html": [
              "\n",
              "  <div id=\"df-a13c8f51-0bd8-4642-964b-aa6e9b88c581\">\n",
              "    <div class=\"colab-df-container\">\n",
              "      <div>\n",
              "<style scoped>\n",
              "    .dataframe tbody tr th:only-of-type {\n",
              "        vertical-align: middle;\n",
              "    }\n",
              "\n",
              "    .dataframe tbody tr th {\n",
              "        vertical-align: top;\n",
              "    }\n",
              "\n",
              "    .dataframe thead th {\n",
              "        text-align: right;\n",
              "    }\n",
              "</style>\n",
              "<table border=\"1\" class=\"dataframe\">\n",
              "  <thead>\n",
              "    <tr style=\"text-align: right;\">\n",
              "      <th></th>\n",
              "      <th>loan_number</th>\n",
              "      <th>amount_borrowed</th>\n",
              "      <th>term</th>\n",
              "      <th>borrower_rate</th>\n",
              "      <th>installment</th>\n",
              "      <th>grade</th>\n",
              "      <th>principal_balance</th>\n",
              "      <th>principal_paid</th>\n",
              "      <th>interest_paid</th>\n",
              "      <th>late_fees_paid</th>\n",
              "      <th>debt_sale_proceeds_received</th>\n",
              "      <th>days_past_due</th>\n",
              "      <th>loan_status_description</th>\n",
              "    </tr>\n",
              "  </thead>\n",
              "  <tbody>\n",
              "    <tr>\n",
              "      <th>0</th>\n",
              "      <td>80355</td>\n",
              "      <td>5000.00</td>\n",
              "      <td>36</td>\n",
              "      <td>0.2566</td>\n",
              "      <td>200.548615</td>\n",
              "      <td>E</td>\n",
              "      <td>0.00</td>\n",
              "      <td>5000.00</td>\n",
              "      <td>1793.31</td>\n",
              "      <td>0.0</td>\n",
              "      <td>0.0</td>\n",
              "      <td>0</td>\n",
              "      <td>COMPLETED</td>\n",
              "    </tr>\n",
              "    <tr>\n",
              "      <th>1</th>\n",
              "      <td>80708</td>\n",
              "      <td>15500.00</td>\n",
              "      <td>36</td>\n",
              "      <td>0.1679</td>\n",
              "      <td>550.998674</td>\n",
              "      <td>C</td>\n",
              "      <td>0.00</td>\n",
              "      <td>15500.00</td>\n",
              "      <td>3452.00</td>\n",
              "      <td>0.0</td>\n",
              "      <td>0.0</td>\n",
              "      <td>0</td>\n",
              "      <td>COMPLETED</td>\n",
              "    </tr>\n",
              "    <tr>\n",
              "      <th>4</th>\n",
              "      <td>80676</td>\n",
              "      <td>2500.00</td>\n",
              "      <td>36</td>\n",
              "      <td>0.0789</td>\n",
              "      <td>78.214113</td>\n",
              "      <td>A</td>\n",
              "      <td>0.00</td>\n",
              "      <td>2499.99</td>\n",
              "      <td>228.74</td>\n",
              "      <td>0.0</td>\n",
              "      <td>0.0</td>\n",
              "      <td>0</td>\n",
              "      <td>COMPLETED</td>\n",
              "    </tr>\n",
              "    <tr>\n",
              "      <th>5</th>\n",
              "      <td>82158</td>\n",
              "      <td>3983.31</td>\n",
              "      <td>36</td>\n",
              "      <td>0.2859</td>\n",
              "      <td>166.036273</td>\n",
              "      <td>F</td>\n",
              "      <td>0.00</td>\n",
              "      <td>3983.30</td>\n",
              "      <td>1582.13</td>\n",
              "      <td>0.0</td>\n",
              "      <td>0.0</td>\n",
              "      <td>0</td>\n",
              "      <td>COMPLETED</td>\n",
              "    </tr>\n",
              "    <tr>\n",
              "      <th>6</th>\n",
              "      <td>81659</td>\n",
              "      <td>5000.00</td>\n",
              "      <td>36</td>\n",
              "      <td>0.2566</td>\n",
              "      <td>200.548615</td>\n",
              "      <td>E</td>\n",
              "      <td>0.00</td>\n",
              "      <td>5000.00</td>\n",
              "      <td>1598.26</td>\n",
              "      <td>0.0</td>\n",
              "      <td>0.0</td>\n",
              "      <td>0</td>\n",
              "      <td>COMPLETED</td>\n",
              "    </tr>\n",
              "    <tr>\n",
              "      <th>...</th>\n",
              "      <td>...</td>\n",
              "      <td>...</td>\n",
              "      <td>...</td>\n",
              "      <td>...</td>\n",
              "      <td>...</td>\n",
              "      <td>...</td>\n",
              "      <td>...</td>\n",
              "      <td>...</td>\n",
              "      <td>...</td>\n",
              "      <td>...</td>\n",
              "      <td>...</td>\n",
              "      <td>...</td>\n",
              "      <td>...</td>\n",
              "    </tr>\n",
              "    <tr>\n",
              "      <th>913611</th>\n",
              "      <td>1081977</td>\n",
              "      <td>11400.00</td>\n",
              "      <td>36</td>\n",
              "      <td>0.0964</td>\n",
              "      <td>365.922141</td>\n",
              "      <td>B</td>\n",
              "      <td>11124.41</td>\n",
              "      <td>275.59</td>\n",
              "      <td>90.33</td>\n",
              "      <td>0.0</td>\n",
              "      <td>0.0</td>\n",
              "      <td>0</td>\n",
              "      <td>CURRENT</td>\n",
              "    </tr>\n",
              "    <tr>\n",
              "      <th>913612</th>\n",
              "      <td>1081968</td>\n",
              "      <td>9800.00</td>\n",
              "      <td>36</td>\n",
              "      <td>0.0531</td>\n",
              "      <td>295.080729</td>\n",
              "      <td>A</td>\n",
              "      <td>9547.69</td>\n",
              "      <td>252.31</td>\n",
              "      <td>42.77</td>\n",
              "      <td>0.0</td>\n",
              "      <td>0.0</td>\n",
              "      <td>0</td>\n",
              "      <td>CURRENT</td>\n",
              "    </tr>\n",
              "    <tr>\n",
              "      <th>913614</th>\n",
              "      <td>1081905</td>\n",
              "      <td>10000.00</td>\n",
              "      <td>36</td>\n",
              "      <td>0.0934</td>\n",
              "      <td>319.582092</td>\n",
              "      <td>B</td>\n",
              "      <td>9667.17</td>\n",
              "      <td>332.83</td>\n",
              "      <td>86.75</td>\n",
              "      <td>0.0</td>\n",
              "      <td>0.0</td>\n",
              "      <td>0</td>\n",
              "      <td>CURRENT</td>\n",
              "    </tr>\n",
              "    <tr>\n",
              "      <th>913615</th>\n",
              "      <td>1081908</td>\n",
              "      <td>10000.00</td>\n",
              "      <td>36</td>\n",
              "      <td>0.1214</td>\n",
              "      <td>332.812163</td>\n",
              "      <td>C</td>\n",
              "      <td>9766.97</td>\n",
              "      <td>233.03</td>\n",
              "      <td>99.78</td>\n",
              "      <td>0.0</td>\n",
              "      <td>0.0</td>\n",
              "      <td>0</td>\n",
              "      <td>CURRENT</td>\n",
              "    </tr>\n",
              "    <tr>\n",
              "      <th>913618</th>\n",
              "      <td>1081953</td>\n",
              "      <td>3500.00</td>\n",
              "      <td>36</td>\n",
              "      <td>0.1024</td>\n",
              "      <td>113.329941</td>\n",
              "      <td>B</td>\n",
              "      <td>3416.13</td>\n",
              "      <td>83.87</td>\n",
              "      <td>29.46</td>\n",
              "      <td>0.0</td>\n",
              "      <td>0.0</td>\n",
              "      <td>0</td>\n",
              "      <td>CURRENT</td>\n",
              "    </tr>\n",
              "  </tbody>\n",
              "</table>\n",
              "<p>525401 rows × 13 columns</p>\n",
              "</div>\n",
              "      <button class=\"colab-df-convert\" onclick=\"convertToInteractive('df-a13c8f51-0bd8-4642-964b-aa6e9b88c581')\"\n",
              "              title=\"Convert this dataframe to an interactive table.\"\n",
              "              style=\"display:none;\">\n",
              "        \n",
              "  <svg xmlns=\"http://www.w3.org/2000/svg\" height=\"24px\"viewBox=\"0 0 24 24\"\n",
              "       width=\"24px\">\n",
              "    <path d=\"M0 0h24v24H0V0z\" fill=\"none\"/>\n",
              "    <path d=\"M18.56 5.44l.94 2.06.94-2.06 2.06-.94-2.06-.94-.94-2.06-.94 2.06-2.06.94zm-11 1L8.5 8.5l.94-2.06 2.06-.94-2.06-.94L8.5 2.5l-.94 2.06-2.06.94zm10 10l.94 2.06.94-2.06 2.06-.94-2.06-.94-.94-2.06-.94 2.06-2.06.94z\"/><path d=\"M17.41 7.96l-1.37-1.37c-.4-.4-.92-.59-1.43-.59-.52 0-1.04.2-1.43.59L10.3 9.45l-7.72 7.72c-.78.78-.78 2.05 0 2.83L4 21.41c.39.39.9.59 1.41.59.51 0 1.02-.2 1.41-.59l7.78-7.78 2.81-2.81c.8-.78.8-2.07 0-2.86zM5.41 20L4 18.59l7.72-7.72 1.47 1.35L5.41 20z\"/>\n",
              "  </svg>\n",
              "      </button>\n",
              "      \n",
              "  <style>\n",
              "    .colab-df-container {\n",
              "      display:flex;\n",
              "      flex-wrap:wrap;\n",
              "      gap: 12px;\n",
              "    }\n",
              "\n",
              "    .colab-df-convert {\n",
              "      background-color: #E8F0FE;\n",
              "      border: none;\n",
              "      border-radius: 50%;\n",
              "      cursor: pointer;\n",
              "      display: none;\n",
              "      fill: #1967D2;\n",
              "      height: 32px;\n",
              "      padding: 0 0 0 0;\n",
              "      width: 32px;\n",
              "    }\n",
              "\n",
              "    .colab-df-convert:hover {\n",
              "      background-color: #E2EBFA;\n",
              "      box-shadow: 0px 1px 2px rgba(60, 64, 67, 0.3), 0px 1px 3px 1px rgba(60, 64, 67, 0.15);\n",
              "      fill: #174EA6;\n",
              "    }\n",
              "\n",
              "    [theme=dark] .colab-df-convert {\n",
              "      background-color: #3B4455;\n",
              "      fill: #D2E3FC;\n",
              "    }\n",
              "\n",
              "    [theme=dark] .colab-df-convert:hover {\n",
              "      background-color: #434B5C;\n",
              "      box-shadow: 0px 1px 3px 1px rgba(0, 0, 0, 0.15);\n",
              "      filter: drop-shadow(0px 1px 2px rgba(0, 0, 0, 0.3));\n",
              "      fill: #FFFFFF;\n",
              "    }\n",
              "  </style>\n",
              "\n",
              "      <script>\n",
              "        const buttonEl =\n",
              "          document.querySelector('#df-a13c8f51-0bd8-4642-964b-aa6e9b88c581 button.colab-df-convert');\n",
              "        buttonEl.style.display =\n",
              "          google.colab.kernel.accessAllowed ? 'block' : 'none';\n",
              "\n",
              "        async function convertToInteractive(key) {\n",
              "          const element = document.querySelector('#df-a13c8f51-0bd8-4642-964b-aa6e9b88c581');\n",
              "          const dataTable =\n",
              "            await google.colab.kernel.invokeFunction('convertToInteractive',\n",
              "                                                     [key], {});\n",
              "          if (!dataTable) return;\n",
              "\n",
              "          const docLinkHtml = 'Like what you see? Visit the ' +\n",
              "            '<a target=\"_blank\" href=https://colab.research.google.com/notebooks/data_table.ipynb>data table notebook</a>'\n",
              "            + ' to learn more about interactive tables.';\n",
              "          element.innerHTML = '';\n",
              "          dataTable['output_type'] = 'display_data';\n",
              "          await google.colab.output.renderOutput(dataTable, element);\n",
              "          const docLink = document.createElement('div');\n",
              "          docLink.innerHTML = docLinkHtml;\n",
              "          element.appendChild(docLink);\n",
              "        }\n",
              "      </script>\n",
              "    </div>\n",
              "  </div>\n",
              "  "
            ]
          },
          "metadata": {},
          "execution_count": 70
        }
      ],
      "source": [
        "# menghapus fitur yang tidak digunakan\n",
        "# fitur terlalu banyak nilai unique\n",
        "df = df.drop(['last_payment_date', 'next_payment_due_date', 'origination_date'], axis=1)\n",
        "df"
      ]
    },
    {
      "cell_type": "markdown",
      "metadata": {
        "id": "bo9M0tmQ2l3M"
      },
      "source": [
        "# **Encoder**"
      ]
    },
    {
      "cell_type": "code",
      "execution_count": 71,
      "metadata": {
        "id": "qhir8Lcpv5xC"
      },
      "outputs": [],
      "source": [
        "# fitur yang akan di encode\n",
        "label_encode = ['grade']"
      ]
    },
    {
      "cell_type": "code",
      "execution_count": 72,
      "metadata": {
        "id": "i33i6-3dvGBC"
      },
      "outputs": [],
      "source": [
        "from sklearn.preprocessing import LabelEncoder\n",
        "# label_encoder object knows how to understand word labels. \n",
        "label_encoder = LabelEncoder()\n",
        "# Encode labels in column 'grade'. \n",
        "df[label_encode] =df[label_encode].apply(LabelEncoder().fit_transform)"
      ]
    },
    {
      "cell_type": "code",
      "execution_count": 73,
      "metadata": {
        "colab": {
          "base_uri": "https://localhost:8080/",
          "height": 0
        },
        "id": "OBafgx0OwFVM",
        "outputId": "cd769506-5a01-4f52-85f0-0c5396201c4d"
      },
      "outputs": [
        {
          "output_type": "execute_result",
          "data": {
            "text/plain": [
              "        loan_number  amount_borrowed  term  borrower_rate  installment  grade  \\\n",
              "0             80355          5000.00    36         0.2566   200.548615      4   \n",
              "1             80708         15500.00    36         0.1679   550.998674      2   \n",
              "4             80676          2500.00    36         0.0789    78.214113      0   \n",
              "5             82158          3983.31    36         0.2859   166.036273      5   \n",
              "6             81659          5000.00    36         0.2566   200.548615      4   \n",
              "...             ...              ...   ...            ...          ...    ...   \n",
              "913611      1081977         11400.00    36         0.0964   365.922141      1   \n",
              "913612      1081968          9800.00    36         0.0531   295.080729      0   \n",
              "913614      1081905         10000.00    36         0.0934   319.582092      1   \n",
              "913615      1081908         10000.00    36         0.1214   332.812163      2   \n",
              "913618      1081953          3500.00    36         0.1024   113.329941      1   \n",
              "\n",
              "        principal_balance  principal_paid  interest_paid  late_fees_paid  \\\n",
              "0                    0.00         5000.00        1793.31             0.0   \n",
              "1                    0.00        15500.00        3452.00             0.0   \n",
              "4                    0.00         2499.99         228.74             0.0   \n",
              "5                    0.00         3983.30        1582.13             0.0   \n",
              "6                    0.00         5000.00        1598.26             0.0   \n",
              "...                   ...             ...            ...             ...   \n",
              "913611           11124.41          275.59          90.33             0.0   \n",
              "913612            9547.69          252.31          42.77             0.0   \n",
              "913614            9667.17          332.83          86.75             0.0   \n",
              "913615            9766.97          233.03          99.78             0.0   \n",
              "913618            3416.13           83.87          29.46             0.0   \n",
              "\n",
              "        debt_sale_proceeds_received  days_past_due loan_status_description  \n",
              "0                               0.0              0               COMPLETED  \n",
              "1                               0.0              0               COMPLETED  \n",
              "4                               0.0              0               COMPLETED  \n",
              "5                               0.0              0               COMPLETED  \n",
              "6                               0.0              0               COMPLETED  \n",
              "...                             ...            ...                     ...  \n",
              "913611                          0.0              0                 CURRENT  \n",
              "913612                          0.0              0                 CURRENT  \n",
              "913614                          0.0              0                 CURRENT  \n",
              "913615                          0.0              0                 CURRENT  \n",
              "913618                          0.0              0                 CURRENT  \n",
              "\n",
              "[525401 rows x 13 columns]"
            ],
            "text/html": [
              "\n",
              "  <div id=\"df-ba930829-1817-4d85-a1cc-32e460e5419a\">\n",
              "    <div class=\"colab-df-container\">\n",
              "      <div>\n",
              "<style scoped>\n",
              "    .dataframe tbody tr th:only-of-type {\n",
              "        vertical-align: middle;\n",
              "    }\n",
              "\n",
              "    .dataframe tbody tr th {\n",
              "        vertical-align: top;\n",
              "    }\n",
              "\n",
              "    .dataframe thead th {\n",
              "        text-align: right;\n",
              "    }\n",
              "</style>\n",
              "<table border=\"1\" class=\"dataframe\">\n",
              "  <thead>\n",
              "    <tr style=\"text-align: right;\">\n",
              "      <th></th>\n",
              "      <th>loan_number</th>\n",
              "      <th>amount_borrowed</th>\n",
              "      <th>term</th>\n",
              "      <th>borrower_rate</th>\n",
              "      <th>installment</th>\n",
              "      <th>grade</th>\n",
              "      <th>principal_balance</th>\n",
              "      <th>principal_paid</th>\n",
              "      <th>interest_paid</th>\n",
              "      <th>late_fees_paid</th>\n",
              "      <th>debt_sale_proceeds_received</th>\n",
              "      <th>days_past_due</th>\n",
              "      <th>loan_status_description</th>\n",
              "    </tr>\n",
              "  </thead>\n",
              "  <tbody>\n",
              "    <tr>\n",
              "      <th>0</th>\n",
              "      <td>80355</td>\n",
              "      <td>5000.00</td>\n",
              "      <td>36</td>\n",
              "      <td>0.2566</td>\n",
              "      <td>200.548615</td>\n",
              "      <td>4</td>\n",
              "      <td>0.00</td>\n",
              "      <td>5000.00</td>\n",
              "      <td>1793.31</td>\n",
              "      <td>0.0</td>\n",
              "      <td>0.0</td>\n",
              "      <td>0</td>\n",
              "      <td>COMPLETED</td>\n",
              "    </tr>\n",
              "    <tr>\n",
              "      <th>1</th>\n",
              "      <td>80708</td>\n",
              "      <td>15500.00</td>\n",
              "      <td>36</td>\n",
              "      <td>0.1679</td>\n",
              "      <td>550.998674</td>\n",
              "      <td>2</td>\n",
              "      <td>0.00</td>\n",
              "      <td>15500.00</td>\n",
              "      <td>3452.00</td>\n",
              "      <td>0.0</td>\n",
              "      <td>0.0</td>\n",
              "      <td>0</td>\n",
              "      <td>COMPLETED</td>\n",
              "    </tr>\n",
              "    <tr>\n",
              "      <th>4</th>\n",
              "      <td>80676</td>\n",
              "      <td>2500.00</td>\n",
              "      <td>36</td>\n",
              "      <td>0.0789</td>\n",
              "      <td>78.214113</td>\n",
              "      <td>0</td>\n",
              "      <td>0.00</td>\n",
              "      <td>2499.99</td>\n",
              "      <td>228.74</td>\n",
              "      <td>0.0</td>\n",
              "      <td>0.0</td>\n",
              "      <td>0</td>\n",
              "      <td>COMPLETED</td>\n",
              "    </tr>\n",
              "    <tr>\n",
              "      <th>5</th>\n",
              "      <td>82158</td>\n",
              "      <td>3983.31</td>\n",
              "      <td>36</td>\n",
              "      <td>0.2859</td>\n",
              "      <td>166.036273</td>\n",
              "      <td>5</td>\n",
              "      <td>0.00</td>\n",
              "      <td>3983.30</td>\n",
              "      <td>1582.13</td>\n",
              "      <td>0.0</td>\n",
              "      <td>0.0</td>\n",
              "      <td>0</td>\n",
              "      <td>COMPLETED</td>\n",
              "    </tr>\n",
              "    <tr>\n",
              "      <th>6</th>\n",
              "      <td>81659</td>\n",
              "      <td>5000.00</td>\n",
              "      <td>36</td>\n",
              "      <td>0.2566</td>\n",
              "      <td>200.548615</td>\n",
              "      <td>4</td>\n",
              "      <td>0.00</td>\n",
              "      <td>5000.00</td>\n",
              "      <td>1598.26</td>\n",
              "      <td>0.0</td>\n",
              "      <td>0.0</td>\n",
              "      <td>0</td>\n",
              "      <td>COMPLETED</td>\n",
              "    </tr>\n",
              "    <tr>\n",
              "      <th>...</th>\n",
              "      <td>...</td>\n",
              "      <td>...</td>\n",
              "      <td>...</td>\n",
              "      <td>...</td>\n",
              "      <td>...</td>\n",
              "      <td>...</td>\n",
              "      <td>...</td>\n",
              "      <td>...</td>\n",
              "      <td>...</td>\n",
              "      <td>...</td>\n",
              "      <td>...</td>\n",
              "      <td>...</td>\n",
              "      <td>...</td>\n",
              "    </tr>\n",
              "    <tr>\n",
              "      <th>913611</th>\n",
              "      <td>1081977</td>\n",
              "      <td>11400.00</td>\n",
              "      <td>36</td>\n",
              "      <td>0.0964</td>\n",
              "      <td>365.922141</td>\n",
              "      <td>1</td>\n",
              "      <td>11124.41</td>\n",
              "      <td>275.59</td>\n",
              "      <td>90.33</td>\n",
              "      <td>0.0</td>\n",
              "      <td>0.0</td>\n",
              "      <td>0</td>\n",
              "      <td>CURRENT</td>\n",
              "    </tr>\n",
              "    <tr>\n",
              "      <th>913612</th>\n",
              "      <td>1081968</td>\n",
              "      <td>9800.00</td>\n",
              "      <td>36</td>\n",
              "      <td>0.0531</td>\n",
              "      <td>295.080729</td>\n",
              "      <td>0</td>\n",
              "      <td>9547.69</td>\n",
              "      <td>252.31</td>\n",
              "      <td>42.77</td>\n",
              "      <td>0.0</td>\n",
              "      <td>0.0</td>\n",
              "      <td>0</td>\n",
              "      <td>CURRENT</td>\n",
              "    </tr>\n",
              "    <tr>\n",
              "      <th>913614</th>\n",
              "      <td>1081905</td>\n",
              "      <td>10000.00</td>\n",
              "      <td>36</td>\n",
              "      <td>0.0934</td>\n",
              "      <td>319.582092</td>\n",
              "      <td>1</td>\n",
              "      <td>9667.17</td>\n",
              "      <td>332.83</td>\n",
              "      <td>86.75</td>\n",
              "      <td>0.0</td>\n",
              "      <td>0.0</td>\n",
              "      <td>0</td>\n",
              "      <td>CURRENT</td>\n",
              "    </tr>\n",
              "    <tr>\n",
              "      <th>913615</th>\n",
              "      <td>1081908</td>\n",
              "      <td>10000.00</td>\n",
              "      <td>36</td>\n",
              "      <td>0.1214</td>\n",
              "      <td>332.812163</td>\n",
              "      <td>2</td>\n",
              "      <td>9766.97</td>\n",
              "      <td>233.03</td>\n",
              "      <td>99.78</td>\n",
              "      <td>0.0</td>\n",
              "      <td>0.0</td>\n",
              "      <td>0</td>\n",
              "      <td>CURRENT</td>\n",
              "    </tr>\n",
              "    <tr>\n",
              "      <th>913618</th>\n",
              "      <td>1081953</td>\n",
              "      <td>3500.00</td>\n",
              "      <td>36</td>\n",
              "      <td>0.1024</td>\n",
              "      <td>113.329941</td>\n",
              "      <td>1</td>\n",
              "      <td>3416.13</td>\n",
              "      <td>83.87</td>\n",
              "      <td>29.46</td>\n",
              "      <td>0.0</td>\n",
              "      <td>0.0</td>\n",
              "      <td>0</td>\n",
              "      <td>CURRENT</td>\n",
              "    </tr>\n",
              "  </tbody>\n",
              "</table>\n",
              "<p>525401 rows × 13 columns</p>\n",
              "</div>\n",
              "      <button class=\"colab-df-convert\" onclick=\"convertToInteractive('df-ba930829-1817-4d85-a1cc-32e460e5419a')\"\n",
              "              title=\"Convert this dataframe to an interactive table.\"\n",
              "              style=\"display:none;\">\n",
              "        \n",
              "  <svg xmlns=\"http://www.w3.org/2000/svg\" height=\"24px\"viewBox=\"0 0 24 24\"\n",
              "       width=\"24px\">\n",
              "    <path d=\"M0 0h24v24H0V0z\" fill=\"none\"/>\n",
              "    <path d=\"M18.56 5.44l.94 2.06.94-2.06 2.06-.94-2.06-.94-.94-2.06-.94 2.06-2.06.94zm-11 1L8.5 8.5l.94-2.06 2.06-.94-2.06-.94L8.5 2.5l-.94 2.06-2.06.94zm10 10l.94 2.06.94-2.06 2.06-.94-2.06-.94-.94-2.06-.94 2.06-2.06.94z\"/><path d=\"M17.41 7.96l-1.37-1.37c-.4-.4-.92-.59-1.43-.59-.52 0-1.04.2-1.43.59L10.3 9.45l-7.72 7.72c-.78.78-.78 2.05 0 2.83L4 21.41c.39.39.9.59 1.41.59.51 0 1.02-.2 1.41-.59l7.78-7.78 2.81-2.81c.8-.78.8-2.07 0-2.86zM5.41 20L4 18.59l7.72-7.72 1.47 1.35L5.41 20z\"/>\n",
              "  </svg>\n",
              "      </button>\n",
              "      \n",
              "  <style>\n",
              "    .colab-df-container {\n",
              "      display:flex;\n",
              "      flex-wrap:wrap;\n",
              "      gap: 12px;\n",
              "    }\n",
              "\n",
              "    .colab-df-convert {\n",
              "      background-color: #E8F0FE;\n",
              "      border: none;\n",
              "      border-radius: 50%;\n",
              "      cursor: pointer;\n",
              "      display: none;\n",
              "      fill: #1967D2;\n",
              "      height: 32px;\n",
              "      padding: 0 0 0 0;\n",
              "      width: 32px;\n",
              "    }\n",
              "\n",
              "    .colab-df-convert:hover {\n",
              "      background-color: #E2EBFA;\n",
              "      box-shadow: 0px 1px 2px rgba(60, 64, 67, 0.3), 0px 1px 3px 1px rgba(60, 64, 67, 0.15);\n",
              "      fill: #174EA6;\n",
              "    }\n",
              "\n",
              "    [theme=dark] .colab-df-convert {\n",
              "      background-color: #3B4455;\n",
              "      fill: #D2E3FC;\n",
              "    }\n",
              "\n",
              "    [theme=dark] .colab-df-convert:hover {\n",
              "      background-color: #434B5C;\n",
              "      box-shadow: 0px 1px 3px 1px rgba(0, 0, 0, 0.15);\n",
              "      filter: drop-shadow(0px 1px 2px rgba(0, 0, 0, 0.3));\n",
              "      fill: #FFFFFF;\n",
              "    }\n",
              "  </style>\n",
              "\n",
              "      <script>\n",
              "        const buttonEl =\n",
              "          document.querySelector('#df-ba930829-1817-4d85-a1cc-32e460e5419a button.colab-df-convert');\n",
              "        buttonEl.style.display =\n",
              "          google.colab.kernel.accessAllowed ? 'block' : 'none';\n",
              "\n",
              "        async function convertToInteractive(key) {\n",
              "          const element = document.querySelector('#df-ba930829-1817-4d85-a1cc-32e460e5419a');\n",
              "          const dataTable =\n",
              "            await google.colab.kernel.invokeFunction('convertToInteractive',\n",
              "                                                     [key], {});\n",
              "          if (!dataTable) return;\n",
              "\n",
              "          const docLinkHtml = 'Like what you see? Visit the ' +\n",
              "            '<a target=\"_blank\" href=https://colab.research.google.com/notebooks/data_table.ipynb>data table notebook</a>'\n",
              "            + ' to learn more about interactive tables.';\n",
              "          element.innerHTML = '';\n",
              "          dataTable['output_type'] = 'display_data';\n",
              "          await google.colab.output.renderOutput(dataTable, element);\n",
              "          const docLink = document.createElement('div');\n",
              "          docLink.innerHTML = docLinkHtml;\n",
              "          element.appendChild(docLink);\n",
              "        }\n",
              "      </script>\n",
              "    </div>\n",
              "  </div>\n",
              "  "
            ]
          },
          "metadata": {},
          "execution_count": 73
        }
      ],
      "source": [
        "df"
      ]
    },
    {
      "cell_type": "code",
      "execution_count": 74,
      "metadata": {
        "colab": {
          "base_uri": "https://localhost:8080/"
        },
        "id": "7CJiLfxZ1e0Q",
        "outputId": "13a34050-78b4-4a6e-9237-eed45359efa7"
      },
      "outputs": [
        {
          "output_type": "execute_result",
          "data": {
            "text/plain": [
              "array(['COMPLETED', 'CURRENT', 'DEFAULTED', 'CANCELLED'], dtype=object)"
            ]
          },
          "metadata": {},
          "execution_count": 74
        }
      ],
      "source": [
        "# melihat nilai unique dari loan_status\n",
        "df['loan_status_description'].unique()"
      ]
    },
    {
      "cell_type": "code",
      "execution_count": 75,
      "metadata": {
        "colab": {
          "base_uri": "https://localhost:8080/"
        },
        "id": "p-Kc9RFY9MBi",
        "outputId": "c5c1377a-2b70-4672-e1eb-10e01aea3a33"
      },
      "outputs": [
        {
          "output_type": "execute_result",
          "data": {
            "text/plain": [
              "COMPLETED    267040\n",
              "CURRENT      218247\n",
              "DEFAULTED     38719\n",
              "CANCELLED      1395\n",
              "Name: loan_status_description, dtype: int64"
            ]
          },
          "metadata": {},
          "execution_count": 75
        }
      ],
      "source": [
        "# melihat jumlah setiap nilai unique\n",
        "df[\"loan_status_description\"].value_counts()"
      ]
    },
    {
      "cell_type": "code",
      "source": [
        "# encode nilai loan_status menjadi 0 dan 1\n",
        "cleanup_nums = {\"loan_status_description\":     {\"CURRENT\": 0, \"COMPLETED\": 0, \"DEFAULTED\": 1, \"CHARGEOFF\": 1, \"CANCELLED\": 1}}"
      ],
      "metadata": {
        "id": "7ALq5SH-jV07"
      },
      "execution_count": 76,
      "outputs": []
    },
    {
      "cell_type": "code",
      "execution_count": 77,
      "metadata": {
        "colab": {
          "base_uri": "https://localhost:8080/",
          "height": 0
        },
        "id": "lvnC83Kj83Zl",
        "outputId": "f3cfef57-2d82-48d0-ae50-efe9080fe3af"
      },
      "outputs": [
        {
          "output_type": "execute_result",
          "data": {
            "text/plain": [
              "   loan_number  amount_borrowed  term  borrower_rate  installment  grade  \\\n",
              "0        80355          5000.00    36         0.2566   200.548615      4   \n",
              "1        80708         15500.00    36         0.1679   550.998674      2   \n",
              "4        80676          2500.00    36         0.0789    78.214113      0   \n",
              "5        82158          3983.31    36         0.2859   166.036273      5   \n",
              "6        81659          5000.00    36         0.2566   200.548615      4   \n",
              "\n",
              "   principal_balance  principal_paid  interest_paid  late_fees_paid  \\\n",
              "0                0.0         5000.00        1793.31             0.0   \n",
              "1                0.0        15500.00        3452.00             0.0   \n",
              "4                0.0         2499.99         228.74             0.0   \n",
              "5                0.0         3983.30        1582.13             0.0   \n",
              "6                0.0         5000.00        1598.26             0.0   \n",
              "\n",
              "   debt_sale_proceeds_received  days_past_due  loan_status_description  \n",
              "0                          0.0              0                        0  \n",
              "1                          0.0              0                        0  \n",
              "4                          0.0              0                        0  \n",
              "5                          0.0              0                        0  \n",
              "6                          0.0              0                        0  "
            ],
            "text/html": [
              "\n",
              "  <div id=\"df-03b81688-d601-463e-83b9-ce7d5352545c\">\n",
              "    <div class=\"colab-df-container\">\n",
              "      <div>\n",
              "<style scoped>\n",
              "    .dataframe tbody tr th:only-of-type {\n",
              "        vertical-align: middle;\n",
              "    }\n",
              "\n",
              "    .dataframe tbody tr th {\n",
              "        vertical-align: top;\n",
              "    }\n",
              "\n",
              "    .dataframe thead th {\n",
              "        text-align: right;\n",
              "    }\n",
              "</style>\n",
              "<table border=\"1\" class=\"dataframe\">\n",
              "  <thead>\n",
              "    <tr style=\"text-align: right;\">\n",
              "      <th></th>\n",
              "      <th>loan_number</th>\n",
              "      <th>amount_borrowed</th>\n",
              "      <th>term</th>\n",
              "      <th>borrower_rate</th>\n",
              "      <th>installment</th>\n",
              "      <th>grade</th>\n",
              "      <th>principal_balance</th>\n",
              "      <th>principal_paid</th>\n",
              "      <th>interest_paid</th>\n",
              "      <th>late_fees_paid</th>\n",
              "      <th>debt_sale_proceeds_received</th>\n",
              "      <th>days_past_due</th>\n",
              "      <th>loan_status_description</th>\n",
              "    </tr>\n",
              "  </thead>\n",
              "  <tbody>\n",
              "    <tr>\n",
              "      <th>0</th>\n",
              "      <td>80355</td>\n",
              "      <td>5000.00</td>\n",
              "      <td>36</td>\n",
              "      <td>0.2566</td>\n",
              "      <td>200.548615</td>\n",
              "      <td>4</td>\n",
              "      <td>0.0</td>\n",
              "      <td>5000.00</td>\n",
              "      <td>1793.31</td>\n",
              "      <td>0.0</td>\n",
              "      <td>0.0</td>\n",
              "      <td>0</td>\n",
              "      <td>0</td>\n",
              "    </tr>\n",
              "    <tr>\n",
              "      <th>1</th>\n",
              "      <td>80708</td>\n",
              "      <td>15500.00</td>\n",
              "      <td>36</td>\n",
              "      <td>0.1679</td>\n",
              "      <td>550.998674</td>\n",
              "      <td>2</td>\n",
              "      <td>0.0</td>\n",
              "      <td>15500.00</td>\n",
              "      <td>3452.00</td>\n",
              "      <td>0.0</td>\n",
              "      <td>0.0</td>\n",
              "      <td>0</td>\n",
              "      <td>0</td>\n",
              "    </tr>\n",
              "    <tr>\n",
              "      <th>4</th>\n",
              "      <td>80676</td>\n",
              "      <td>2500.00</td>\n",
              "      <td>36</td>\n",
              "      <td>0.0789</td>\n",
              "      <td>78.214113</td>\n",
              "      <td>0</td>\n",
              "      <td>0.0</td>\n",
              "      <td>2499.99</td>\n",
              "      <td>228.74</td>\n",
              "      <td>0.0</td>\n",
              "      <td>0.0</td>\n",
              "      <td>0</td>\n",
              "      <td>0</td>\n",
              "    </tr>\n",
              "    <tr>\n",
              "      <th>5</th>\n",
              "      <td>82158</td>\n",
              "      <td>3983.31</td>\n",
              "      <td>36</td>\n",
              "      <td>0.2859</td>\n",
              "      <td>166.036273</td>\n",
              "      <td>5</td>\n",
              "      <td>0.0</td>\n",
              "      <td>3983.30</td>\n",
              "      <td>1582.13</td>\n",
              "      <td>0.0</td>\n",
              "      <td>0.0</td>\n",
              "      <td>0</td>\n",
              "      <td>0</td>\n",
              "    </tr>\n",
              "    <tr>\n",
              "      <th>6</th>\n",
              "      <td>81659</td>\n",
              "      <td>5000.00</td>\n",
              "      <td>36</td>\n",
              "      <td>0.2566</td>\n",
              "      <td>200.548615</td>\n",
              "      <td>4</td>\n",
              "      <td>0.0</td>\n",
              "      <td>5000.00</td>\n",
              "      <td>1598.26</td>\n",
              "      <td>0.0</td>\n",
              "      <td>0.0</td>\n",
              "      <td>0</td>\n",
              "      <td>0</td>\n",
              "    </tr>\n",
              "  </tbody>\n",
              "</table>\n",
              "</div>\n",
              "      <button class=\"colab-df-convert\" onclick=\"convertToInteractive('df-03b81688-d601-463e-83b9-ce7d5352545c')\"\n",
              "              title=\"Convert this dataframe to an interactive table.\"\n",
              "              style=\"display:none;\">\n",
              "        \n",
              "  <svg xmlns=\"http://www.w3.org/2000/svg\" height=\"24px\"viewBox=\"0 0 24 24\"\n",
              "       width=\"24px\">\n",
              "    <path d=\"M0 0h24v24H0V0z\" fill=\"none\"/>\n",
              "    <path d=\"M18.56 5.44l.94 2.06.94-2.06 2.06-.94-2.06-.94-.94-2.06-.94 2.06-2.06.94zm-11 1L8.5 8.5l.94-2.06 2.06-.94-2.06-.94L8.5 2.5l-.94 2.06-2.06.94zm10 10l.94 2.06.94-2.06 2.06-.94-2.06-.94-.94-2.06-.94 2.06-2.06.94z\"/><path d=\"M17.41 7.96l-1.37-1.37c-.4-.4-.92-.59-1.43-.59-.52 0-1.04.2-1.43.59L10.3 9.45l-7.72 7.72c-.78.78-.78 2.05 0 2.83L4 21.41c.39.39.9.59 1.41.59.51 0 1.02-.2 1.41-.59l7.78-7.78 2.81-2.81c.8-.78.8-2.07 0-2.86zM5.41 20L4 18.59l7.72-7.72 1.47 1.35L5.41 20z\"/>\n",
              "  </svg>\n",
              "      </button>\n",
              "      \n",
              "  <style>\n",
              "    .colab-df-container {\n",
              "      display:flex;\n",
              "      flex-wrap:wrap;\n",
              "      gap: 12px;\n",
              "    }\n",
              "\n",
              "    .colab-df-convert {\n",
              "      background-color: #E8F0FE;\n",
              "      border: none;\n",
              "      border-radius: 50%;\n",
              "      cursor: pointer;\n",
              "      display: none;\n",
              "      fill: #1967D2;\n",
              "      height: 32px;\n",
              "      padding: 0 0 0 0;\n",
              "      width: 32px;\n",
              "    }\n",
              "\n",
              "    .colab-df-convert:hover {\n",
              "      background-color: #E2EBFA;\n",
              "      box-shadow: 0px 1px 2px rgba(60, 64, 67, 0.3), 0px 1px 3px 1px rgba(60, 64, 67, 0.15);\n",
              "      fill: #174EA6;\n",
              "    }\n",
              "\n",
              "    [theme=dark] .colab-df-convert {\n",
              "      background-color: #3B4455;\n",
              "      fill: #D2E3FC;\n",
              "    }\n",
              "\n",
              "    [theme=dark] .colab-df-convert:hover {\n",
              "      background-color: #434B5C;\n",
              "      box-shadow: 0px 1px 3px 1px rgba(0, 0, 0, 0.15);\n",
              "      filter: drop-shadow(0px 1px 2px rgba(0, 0, 0, 0.3));\n",
              "      fill: #FFFFFF;\n",
              "    }\n",
              "  </style>\n",
              "\n",
              "      <script>\n",
              "        const buttonEl =\n",
              "          document.querySelector('#df-03b81688-d601-463e-83b9-ce7d5352545c button.colab-df-convert');\n",
              "        buttonEl.style.display =\n",
              "          google.colab.kernel.accessAllowed ? 'block' : 'none';\n",
              "\n",
              "        async function convertToInteractive(key) {\n",
              "          const element = document.querySelector('#df-03b81688-d601-463e-83b9-ce7d5352545c');\n",
              "          const dataTable =\n",
              "            await google.colab.kernel.invokeFunction('convertToInteractive',\n",
              "                                                     [key], {});\n",
              "          if (!dataTable) return;\n",
              "\n",
              "          const docLinkHtml = 'Like what you see? Visit the ' +\n",
              "            '<a target=\"_blank\" href=https://colab.research.google.com/notebooks/data_table.ipynb>data table notebook</a>'\n",
              "            + ' to learn more about interactive tables.';\n",
              "          element.innerHTML = '';\n",
              "          dataTable['output_type'] = 'display_data';\n",
              "          await google.colab.output.renderOutput(dataTable, element);\n",
              "          const docLink = document.createElement('div');\n",
              "          docLink.innerHTML = docLinkHtml;\n",
              "          element.appendChild(docLink);\n",
              "        }\n",
              "      </script>\n",
              "    </div>\n",
              "  </div>\n",
              "  "
            ]
          },
          "metadata": {},
          "execution_count": 77
        }
      ],
      "source": [
        "# replace berdasarkan variabel encode\n",
        "df = df.replace(cleanup_nums)\n",
        "df.head()"
      ]
    },
    {
      "cell_type": "code",
      "source": [
        "# atur indexing data\n",
        "df = df.reset_index(drop=True)\n",
        "df"
      ],
      "metadata": {
        "colab": {
          "base_uri": "https://localhost:8080/",
          "height": 0
        },
        "id": "ETkhsvqZgVP1",
        "outputId": "e860ccd2-64ff-4ad3-8bf9-793e2707c5ee"
      },
      "execution_count": 78,
      "outputs": [
        {
          "output_type": "execute_result",
          "data": {
            "text/plain": [
              "        loan_number  amount_borrowed  term  borrower_rate  installment  grade  \\\n",
              "0             80355          5000.00    36         0.2566   200.548615      4   \n",
              "1             80708         15500.00    36         0.1679   550.998674      2   \n",
              "2             80676          2500.00    36         0.0789    78.214113      0   \n",
              "3             82158          3983.31    36         0.2859   166.036273      5   \n",
              "4             81659          5000.00    36         0.2566   200.548615      4   \n",
              "...             ...              ...   ...            ...          ...    ...   \n",
              "525396      1081977         11400.00    36         0.0964   365.922141      1   \n",
              "525397      1081968          9800.00    36         0.0531   295.080729      0   \n",
              "525398      1081905         10000.00    36         0.0934   319.582092      1   \n",
              "525399      1081908         10000.00    36         0.1214   332.812163      2   \n",
              "525400      1081953          3500.00    36         0.1024   113.329941      1   \n",
              "\n",
              "        principal_balance  principal_paid  interest_paid  late_fees_paid  \\\n",
              "0                    0.00         5000.00        1793.31             0.0   \n",
              "1                    0.00        15500.00        3452.00             0.0   \n",
              "2                    0.00         2499.99         228.74             0.0   \n",
              "3                    0.00         3983.30        1582.13             0.0   \n",
              "4                    0.00         5000.00        1598.26             0.0   \n",
              "...                   ...             ...            ...             ...   \n",
              "525396           11124.41          275.59          90.33             0.0   \n",
              "525397            9547.69          252.31          42.77             0.0   \n",
              "525398            9667.17          332.83          86.75             0.0   \n",
              "525399            9766.97          233.03          99.78             0.0   \n",
              "525400            3416.13           83.87          29.46             0.0   \n",
              "\n",
              "        debt_sale_proceeds_received  days_past_due  loan_status_description  \n",
              "0                               0.0              0                        0  \n",
              "1                               0.0              0                        0  \n",
              "2                               0.0              0                        0  \n",
              "3                               0.0              0                        0  \n",
              "4                               0.0              0                        0  \n",
              "...                             ...            ...                      ...  \n",
              "525396                          0.0              0                        0  \n",
              "525397                          0.0              0                        0  \n",
              "525398                          0.0              0                        0  \n",
              "525399                          0.0              0                        0  \n",
              "525400                          0.0              0                        0  \n",
              "\n",
              "[525401 rows x 13 columns]"
            ],
            "text/html": [
              "\n",
              "  <div id=\"df-010e3358-d9d9-439d-9857-d9b8253dd7b5\">\n",
              "    <div class=\"colab-df-container\">\n",
              "      <div>\n",
              "<style scoped>\n",
              "    .dataframe tbody tr th:only-of-type {\n",
              "        vertical-align: middle;\n",
              "    }\n",
              "\n",
              "    .dataframe tbody tr th {\n",
              "        vertical-align: top;\n",
              "    }\n",
              "\n",
              "    .dataframe thead th {\n",
              "        text-align: right;\n",
              "    }\n",
              "</style>\n",
              "<table border=\"1\" class=\"dataframe\">\n",
              "  <thead>\n",
              "    <tr style=\"text-align: right;\">\n",
              "      <th></th>\n",
              "      <th>loan_number</th>\n",
              "      <th>amount_borrowed</th>\n",
              "      <th>term</th>\n",
              "      <th>borrower_rate</th>\n",
              "      <th>installment</th>\n",
              "      <th>grade</th>\n",
              "      <th>principal_balance</th>\n",
              "      <th>principal_paid</th>\n",
              "      <th>interest_paid</th>\n",
              "      <th>late_fees_paid</th>\n",
              "      <th>debt_sale_proceeds_received</th>\n",
              "      <th>days_past_due</th>\n",
              "      <th>loan_status_description</th>\n",
              "    </tr>\n",
              "  </thead>\n",
              "  <tbody>\n",
              "    <tr>\n",
              "      <th>0</th>\n",
              "      <td>80355</td>\n",
              "      <td>5000.00</td>\n",
              "      <td>36</td>\n",
              "      <td>0.2566</td>\n",
              "      <td>200.548615</td>\n",
              "      <td>4</td>\n",
              "      <td>0.00</td>\n",
              "      <td>5000.00</td>\n",
              "      <td>1793.31</td>\n",
              "      <td>0.0</td>\n",
              "      <td>0.0</td>\n",
              "      <td>0</td>\n",
              "      <td>0</td>\n",
              "    </tr>\n",
              "    <tr>\n",
              "      <th>1</th>\n",
              "      <td>80708</td>\n",
              "      <td>15500.00</td>\n",
              "      <td>36</td>\n",
              "      <td>0.1679</td>\n",
              "      <td>550.998674</td>\n",
              "      <td>2</td>\n",
              "      <td>0.00</td>\n",
              "      <td>15500.00</td>\n",
              "      <td>3452.00</td>\n",
              "      <td>0.0</td>\n",
              "      <td>0.0</td>\n",
              "      <td>0</td>\n",
              "      <td>0</td>\n",
              "    </tr>\n",
              "    <tr>\n",
              "      <th>2</th>\n",
              "      <td>80676</td>\n",
              "      <td>2500.00</td>\n",
              "      <td>36</td>\n",
              "      <td>0.0789</td>\n",
              "      <td>78.214113</td>\n",
              "      <td>0</td>\n",
              "      <td>0.00</td>\n",
              "      <td>2499.99</td>\n",
              "      <td>228.74</td>\n",
              "      <td>0.0</td>\n",
              "      <td>0.0</td>\n",
              "      <td>0</td>\n",
              "      <td>0</td>\n",
              "    </tr>\n",
              "    <tr>\n",
              "      <th>3</th>\n",
              "      <td>82158</td>\n",
              "      <td>3983.31</td>\n",
              "      <td>36</td>\n",
              "      <td>0.2859</td>\n",
              "      <td>166.036273</td>\n",
              "      <td>5</td>\n",
              "      <td>0.00</td>\n",
              "      <td>3983.30</td>\n",
              "      <td>1582.13</td>\n",
              "      <td>0.0</td>\n",
              "      <td>0.0</td>\n",
              "      <td>0</td>\n",
              "      <td>0</td>\n",
              "    </tr>\n",
              "    <tr>\n",
              "      <th>4</th>\n",
              "      <td>81659</td>\n",
              "      <td>5000.00</td>\n",
              "      <td>36</td>\n",
              "      <td>0.2566</td>\n",
              "      <td>200.548615</td>\n",
              "      <td>4</td>\n",
              "      <td>0.00</td>\n",
              "      <td>5000.00</td>\n",
              "      <td>1598.26</td>\n",
              "      <td>0.0</td>\n",
              "      <td>0.0</td>\n",
              "      <td>0</td>\n",
              "      <td>0</td>\n",
              "    </tr>\n",
              "    <tr>\n",
              "      <th>...</th>\n",
              "      <td>...</td>\n",
              "      <td>...</td>\n",
              "      <td>...</td>\n",
              "      <td>...</td>\n",
              "      <td>...</td>\n",
              "      <td>...</td>\n",
              "      <td>...</td>\n",
              "      <td>...</td>\n",
              "      <td>...</td>\n",
              "      <td>...</td>\n",
              "      <td>...</td>\n",
              "      <td>...</td>\n",
              "      <td>...</td>\n",
              "    </tr>\n",
              "    <tr>\n",
              "      <th>525396</th>\n",
              "      <td>1081977</td>\n",
              "      <td>11400.00</td>\n",
              "      <td>36</td>\n",
              "      <td>0.0964</td>\n",
              "      <td>365.922141</td>\n",
              "      <td>1</td>\n",
              "      <td>11124.41</td>\n",
              "      <td>275.59</td>\n",
              "      <td>90.33</td>\n",
              "      <td>0.0</td>\n",
              "      <td>0.0</td>\n",
              "      <td>0</td>\n",
              "      <td>0</td>\n",
              "    </tr>\n",
              "    <tr>\n",
              "      <th>525397</th>\n",
              "      <td>1081968</td>\n",
              "      <td>9800.00</td>\n",
              "      <td>36</td>\n",
              "      <td>0.0531</td>\n",
              "      <td>295.080729</td>\n",
              "      <td>0</td>\n",
              "      <td>9547.69</td>\n",
              "      <td>252.31</td>\n",
              "      <td>42.77</td>\n",
              "      <td>0.0</td>\n",
              "      <td>0.0</td>\n",
              "      <td>0</td>\n",
              "      <td>0</td>\n",
              "    </tr>\n",
              "    <tr>\n",
              "      <th>525398</th>\n",
              "      <td>1081905</td>\n",
              "      <td>10000.00</td>\n",
              "      <td>36</td>\n",
              "      <td>0.0934</td>\n",
              "      <td>319.582092</td>\n",
              "      <td>1</td>\n",
              "      <td>9667.17</td>\n",
              "      <td>332.83</td>\n",
              "      <td>86.75</td>\n",
              "      <td>0.0</td>\n",
              "      <td>0.0</td>\n",
              "      <td>0</td>\n",
              "      <td>0</td>\n",
              "    </tr>\n",
              "    <tr>\n",
              "      <th>525399</th>\n",
              "      <td>1081908</td>\n",
              "      <td>10000.00</td>\n",
              "      <td>36</td>\n",
              "      <td>0.1214</td>\n",
              "      <td>332.812163</td>\n",
              "      <td>2</td>\n",
              "      <td>9766.97</td>\n",
              "      <td>233.03</td>\n",
              "      <td>99.78</td>\n",
              "      <td>0.0</td>\n",
              "      <td>0.0</td>\n",
              "      <td>0</td>\n",
              "      <td>0</td>\n",
              "    </tr>\n",
              "    <tr>\n",
              "      <th>525400</th>\n",
              "      <td>1081953</td>\n",
              "      <td>3500.00</td>\n",
              "      <td>36</td>\n",
              "      <td>0.1024</td>\n",
              "      <td>113.329941</td>\n",
              "      <td>1</td>\n",
              "      <td>3416.13</td>\n",
              "      <td>83.87</td>\n",
              "      <td>29.46</td>\n",
              "      <td>0.0</td>\n",
              "      <td>0.0</td>\n",
              "      <td>0</td>\n",
              "      <td>0</td>\n",
              "    </tr>\n",
              "  </tbody>\n",
              "</table>\n",
              "<p>525401 rows × 13 columns</p>\n",
              "</div>\n",
              "      <button class=\"colab-df-convert\" onclick=\"convertToInteractive('df-010e3358-d9d9-439d-9857-d9b8253dd7b5')\"\n",
              "              title=\"Convert this dataframe to an interactive table.\"\n",
              "              style=\"display:none;\">\n",
              "        \n",
              "  <svg xmlns=\"http://www.w3.org/2000/svg\" height=\"24px\"viewBox=\"0 0 24 24\"\n",
              "       width=\"24px\">\n",
              "    <path d=\"M0 0h24v24H0V0z\" fill=\"none\"/>\n",
              "    <path d=\"M18.56 5.44l.94 2.06.94-2.06 2.06-.94-2.06-.94-.94-2.06-.94 2.06-2.06.94zm-11 1L8.5 8.5l.94-2.06 2.06-.94-2.06-.94L8.5 2.5l-.94 2.06-2.06.94zm10 10l.94 2.06.94-2.06 2.06-.94-2.06-.94-.94-2.06-.94 2.06-2.06.94z\"/><path d=\"M17.41 7.96l-1.37-1.37c-.4-.4-.92-.59-1.43-.59-.52 0-1.04.2-1.43.59L10.3 9.45l-7.72 7.72c-.78.78-.78 2.05 0 2.83L4 21.41c.39.39.9.59 1.41.59.51 0 1.02-.2 1.41-.59l7.78-7.78 2.81-2.81c.8-.78.8-2.07 0-2.86zM5.41 20L4 18.59l7.72-7.72 1.47 1.35L5.41 20z\"/>\n",
              "  </svg>\n",
              "      </button>\n",
              "      \n",
              "  <style>\n",
              "    .colab-df-container {\n",
              "      display:flex;\n",
              "      flex-wrap:wrap;\n",
              "      gap: 12px;\n",
              "    }\n",
              "\n",
              "    .colab-df-convert {\n",
              "      background-color: #E8F0FE;\n",
              "      border: none;\n",
              "      border-radius: 50%;\n",
              "      cursor: pointer;\n",
              "      display: none;\n",
              "      fill: #1967D2;\n",
              "      height: 32px;\n",
              "      padding: 0 0 0 0;\n",
              "      width: 32px;\n",
              "    }\n",
              "\n",
              "    .colab-df-convert:hover {\n",
              "      background-color: #E2EBFA;\n",
              "      box-shadow: 0px 1px 2px rgba(60, 64, 67, 0.3), 0px 1px 3px 1px rgba(60, 64, 67, 0.15);\n",
              "      fill: #174EA6;\n",
              "    }\n",
              "\n",
              "    [theme=dark] .colab-df-convert {\n",
              "      background-color: #3B4455;\n",
              "      fill: #D2E3FC;\n",
              "    }\n",
              "\n",
              "    [theme=dark] .colab-df-convert:hover {\n",
              "      background-color: #434B5C;\n",
              "      box-shadow: 0px 1px 3px 1px rgba(0, 0, 0, 0.15);\n",
              "      filter: drop-shadow(0px 1px 2px rgba(0, 0, 0, 0.3));\n",
              "      fill: #FFFFFF;\n",
              "    }\n",
              "  </style>\n",
              "\n",
              "      <script>\n",
              "        const buttonEl =\n",
              "          document.querySelector('#df-010e3358-d9d9-439d-9857-d9b8253dd7b5 button.colab-df-convert');\n",
              "        buttonEl.style.display =\n",
              "          google.colab.kernel.accessAllowed ? 'block' : 'none';\n",
              "\n",
              "        async function convertToInteractive(key) {\n",
              "          const element = document.querySelector('#df-010e3358-d9d9-439d-9857-d9b8253dd7b5');\n",
              "          const dataTable =\n",
              "            await google.colab.kernel.invokeFunction('convertToInteractive',\n",
              "                                                     [key], {});\n",
              "          if (!dataTable) return;\n",
              "\n",
              "          const docLinkHtml = 'Like what you see? Visit the ' +\n",
              "            '<a target=\"_blank\" href=https://colab.research.google.com/notebooks/data_table.ipynb>data table notebook</a>'\n",
              "            + ' to learn more about interactive tables.';\n",
              "          element.innerHTML = '';\n",
              "          dataTable['output_type'] = 'display_data';\n",
              "          await google.colab.output.renderOutput(dataTable, element);\n",
              "          const docLink = document.createElement('div');\n",
              "          docLink.innerHTML = docLinkHtml;\n",
              "          element.appendChild(docLink);\n",
              "        }\n",
              "      </script>\n",
              "    </div>\n",
              "  </div>\n",
              "  "
            ]
          },
          "metadata": {},
          "execution_count": 78
        }
      ]
    },
    {
      "cell_type": "markdown",
      "metadata": {
        "id": "UiVGU4DhoN3Y"
      },
      "source": [
        "# **SMOTE**"
      ]
    },
    {
      "cell_type": "code",
      "execution_count": 79,
      "metadata": {
        "id": "NLzKQd0B-9_X"
      },
      "outputs": [],
      "source": [
        "#over sampling data SMOTE\n",
        "loan_data = df\n",
        "X = loan_data.drop(['loan_status_description'], axis=1)\n",
        "y = loan_data['loan_status_description']\n",
        "\n",
        "from imblearn.over_sampling import SMOTE\n",
        "sm = SMOTE(random_state=42)\n",
        "X_sm, y_sm = sm.fit_resample(X,y)\n",
        "\n",
        "loan_datas = X_sm\n",
        "loan_datas['loan_status_description'] = y_sm"
      ]
    },
    {
      "cell_type": "code",
      "execution_count": 85,
      "metadata": {
        "colab": {
          "base_uri": "https://localhost:8080/",
          "height": 0
        },
        "id": "SOpPTDUr_Hvm",
        "outputId": "87343a78-6f9b-47ff-9b3a-2c100dcbda7f"
      },
      "outputs": [
        {
          "output_type": "display_data",
          "data": {
            "text/plain": [
              "<Figure size 560x320 with 1 Axes>"
            ],
            "image/png": "[encoded data removed]"
          },
          "metadata": {
            "needs_background": "light"
          }
        },
        {
          "output_type": "stream",
          "name": "stdout",
          "text": [
            "Data before over-sampling\n",
            "0    485287\n",
            "1     40114\n",
            "Name: loan_status_description, dtype: int64 \n",
            "\n",
            "Data after over-sampling\n",
            "0    485287\n",
            "1    485287\n",
            "Name: loan_status_description, dtype: int64\n"
          ]
        }
      ],
      "source": [
        "#melihat hasil dari Over Sampling SMOTE\n",
        "import numpy as np\n",
        "import matplotlib.pyplot as plt\n",
        "height = y_sm.value_counts()\n",
        "labels = ( '0', '1')\n",
        "y_pos = np.arange(len(labels))\n",
        "\n",
        "plt.figure(figsize=(7,4), dpi=80)\n",
        "plt.ylim(0,600000)\n",
        "plt.title('loan_status distribution', fontweight='bold')\n",
        "plt.xlabel('loan_status', fontweight='bold')\n",
        "plt.ylabel('count', fontweight='bold')\n",
        "plt.bar(y_pos, height, color=['deepskyblue', 'royalblue'])\n",
        "plt.xticks(y_pos, labels)\n",
        "plt.show()\n",
        "\n",
        "print(\"Data before over-sampling\")\n",
        "print(df['loan_status_description'].value_counts(), \"\\n\")\n",
        "\n",
        "print(\"Data after over-sampling\")\n",
        "print(loan_datas['loan_status_description'].value_counts())"
      ]
    },
    {
      "cell_type": "code",
      "source": [
        "#melihat hasil dari Over Sampling SMOTE\n",
        "import numpy as np\n",
        "import matplotlib.pyplot as plt\n",
        "height = y.value_counts()\n",
        "labels = ( '0', '1')\n",
        "y_pos = np.arange(len(labels))\n",
        "\n",
        "plt.figure(figsize=(7,4), dpi=80)\n",
        "plt.ylim(0,600000)\n",
        "plt.title('loan_status distribution', fontweight='bold')\n",
        "plt.xlabel('loan_status', fontweight='bold')\n",
        "plt.ylabel('count', fontweight='bold')\n",
        "plt.bar(y_pos, height, color=['deepskyblue', 'royalblue'])\n",
        "plt.xticks(y_pos, labels)\n",
        "plt.show()\n",
        "\n",
        "print(\"Data before over-sampling\")\n",
        "print(df['loan_status_description'].value_counts(), \"\\n\")\n",
        "\n",
        "print(\"Data after over-sampling\")\n",
        "print(loan_data['loan_status_description'].value_counts())"
      ],
      "metadata": {
        "colab": {
          "base_uri": "https://localhost:8080/",
          "height": 0
        },
        "id": "nIzPGF-mJDCm",
        "outputId": "b0aad087-dc96-4454-c7ca-0a58578eb1cb"
      },
      "execution_count": 86,
      "outputs": [
        {
          "output_type": "display_data",
          "data": {
            "text/plain": [
              "<Figure size 560x320 with 1 Axes>"
            ],
            "image/png": "[encoded data removed]"
          },
          "metadata": {
            "needs_background": "light"
          }
        },
        {
          "output_type": "stream",
          "name": "stdout",
          "text": [
            "Data before over-sampling\n",
            "0    485287\n",
            "1     40114\n",
            "Name: loan_status_description, dtype: int64 \n",
            "\n",
            "Data after over-sampling\n",
            "0    485287\n",
            "1     40114\n",
            "Name: loan_status_description, dtype: int64\n"
          ]
        }
      ]
    },
    {
      "cell_type": "markdown",
      "metadata": {
        "id": "nFBb-S7C_9hv"
      },
      "source": [
        "# **Modelling**"
      ]
    },
    {
      "cell_type": "code",
      "execution_count": null,
      "metadata": {
        "id": "TMJ2Mp7RAAec"
      },
      "outputs": [],
      "source": [
        "#import sklearn metric\n",
        "from sklearn.metrics import (\n",
        "    accuracy_score, confusion_matrix, classification_report, \n",
        "    roc_auc_score, roc_curve, auc)"
      ]
    },
    {
      "cell_type": "code",
      "execution_count": null,
      "metadata": {
        "id": "UGellcJ3ALa9"
      },
      "outputs": [],
      "source": [
        "#confusion Metric\n",
        "def print_score(true, pred, train=True):\n",
        "    if train:\n",
        "        clf_report = pd.DataFrame(classification_report(true, pred, output_dict=True))\n",
        "        print(\"Train Result:\\n================================================\")\n",
        "        print(f\"Accuracy Score: {accuracy_score(true, pred) * 100:.2f}%\")\n",
        "        print(\"_________________\")\n",
        "        print(f\"CLASSIFICATION REPORT:\\n{clf_report}\")\n",
        "        print(\"_________________\")\n",
        "        print(f\"Confusion Matrix: \\n {confusion_matrix(true, pred)}\\n\")\n",
        "        \n",
        "    elif train==False:\n",
        "        clf_report = pd.DataFrame(classification_report(true, pred, output_dict=True))\n",
        "        print(\"Test Result:\\n================================================\")        \n",
        "        print(f\"Accuracy Score: {accuracy_score(true, pred) * 100:.2f}%\")\n",
        "        print(\"_________________\")\n",
        "        print(f\"CLASSIFICATION REPORT:\\n{clf_report}\")\n",
        "        print(\"_________________\")\n",
        "        print(f\"Confusion Matrix: \\n {confusion_matrix(true, pred)}\\n\")"
      ]
    },
    {
      "cell_type": "code",
      "source": [
        "# Pembagian X dan y\n",
        "X = loan_datas.drop(['loan_status_description'], axis=1)\n",
        "y = loan_datas['loan_status_description']"
      ],
      "metadata": {
        "id": "iKzJ0wJuYIl8"
      },
      "execution_count": null,
      "outputs": []
    },
    {
      "cell_type": "code",
      "source": [
        "X"
      ],
      "metadata": {
        "colab": {
          "base_uri": "https://localhost:8080/",
          "height": 423
        },
        "id": "v5qjfISaf9aK",
        "outputId": "dfc9657a-8979-4ac5-a319-45425779c516"
      },
      "execution_count": null,
      "outputs": [
        {
          "output_type": "execute_result",
          "data": {
            "text/plain": [
              "        loan_number  amount_borrowed  term  borrower_rate  installment  grade  \\\n",
              "0             80355      5000.000000    36       0.256600   200.548615      4   \n",
              "1             80708     15500.000000    36       0.167900   550.998674      2   \n",
              "2             80676      2500.000000    36       0.078900    78.214113      0   \n",
              "3             82158      3983.310000    36       0.285900   166.036273      5   \n",
              "4             81659      5000.000000    36       0.256600   200.548615      4   \n",
              "...             ...              ...   ...            ...          ...    ...   \n",
              "970569       139763      6166.894111    36       0.202777   232.311175      3   \n",
              "970570       193563      4199.853636    36       0.226726   161.561994      4   \n",
              "970571       592052     15000.000000    36       0.115489   495.058853      2   \n",
              "970572       566252     13037.428966    36       0.200662   484.899788      3   \n",
              "970573       762119      4496.763017    36       0.269965   183.571134      5   \n",
              "\n",
              "        principal_balance  principal_paid  interest_paid  \n",
              "0                     0.0     5000.000000    1793.310000  \n",
              "1                     0.0    15500.000000    3452.000000  \n",
              "2                     0.0     2499.990000     228.740000  \n",
              "3                     0.0     3983.300000    1582.130000  \n",
              "4                     0.0     5000.000000    1598.260000  \n",
              "...                   ...             ...            ...  \n",
              "970569                0.0     1762.672362    1195.283422  \n",
              "970570                0.0      524.870851     458.343589  \n",
              "970571                0.0     2009.434183     534.459813  \n",
              "970572                0.0      810.077652     634.657890  \n",
              "970573                0.0      249.849198     299.795170  \n",
              "\n",
              "[970574 rows x 9 columns]"
            ],
            "text/html": [
              "\n",
              "  <div id=\"df-06c96361-8fa0-4172-9437-47f08f845ed9\">\n",
              "    <div class=\"colab-df-container\">\n",
              "      <div>\n",
              "<style scoped>\n",
              "    .dataframe tbody tr th:only-of-type {\n",
              "        vertical-align: middle;\n",
              "    }\n",
              "\n",
              "    .dataframe tbody tr th {\n",
              "        vertical-align: top;\n",
              "    }\n",
              "\n",
              "    .dataframe thead th {\n",
              "        text-align: right;\n",
              "    }\n",
              "</style>\n",
              "<table border=\"1\" class=\"dataframe\">\n",
              "  <thead>\n",
              "    <tr style=\"text-align: right;\">\n",
              "      <th></th>\n",
              "      <th>loan_number</th>\n",
              "      <th>amount_borrowed</th>\n",
              "      <th>term</th>\n",
              "      <th>borrower_rate</th>\n",
              "      <th>installment</th>\n",
              "      <th>grade</th>\n",
              "      <th>principal_balance</th>\n",
              "      <th>principal_paid</th>\n",
              "      <th>interest_paid</th>\n",
              "    </tr>\n",
              "  </thead>\n",
              "  <tbody>\n",
              "    <tr>\n",
              "      <th>0</th>\n",
              "      <td>80355</td>\n",
              "      <td>5000.000000</td>\n",
              "      <td>36</td>\n",
              "      <td>0.256600</td>\n",
              "      <td>200.548615</td>\n",
              "      <td>4</td>\n",
              "      <td>0.0</td>\n",
              "      <td>5000.000000</td>\n",
              "      <td>1793.310000</td>\n",
              "    </tr>\n",
              "    <tr>\n",
              "      <th>1</th>\n",
              "      <td>80708</td>\n",
              "      <td>15500.000000</td>\n",
              "      <td>36</td>\n",
              "      <td>0.167900</td>\n",
              "      <td>550.998674</td>\n",
              "      <td>2</td>\n",
              "      <td>0.0</td>\n",
              "      <td>15500.000000</td>\n",
              "      <td>3452.000000</td>\n",
              "    </tr>\n",
              "    <tr>\n",
              "      <th>2</th>\n",
              "      <td>80676</td>\n",
              "      <td>2500.000000</td>\n",
              "      <td>36</td>\n",
              "      <td>0.078900</td>\n",
              "      <td>78.214113</td>\n",
              "      <td>0</td>\n",
              "      <td>0.0</td>\n",
              "      <td>2499.990000</td>\n",
              "      <td>228.740000</td>\n",
              "    </tr>\n",
              "    <tr>\n",
              "      <th>3</th>\n",
              "      <td>82158</td>\n",
              "      <td>3983.310000</td>\n",
              "      <td>36</td>\n",
              "      <td>0.285900</td>\n",
              "      <td>166.036273</td>\n",
              "      <td>5</td>\n",
              "      <td>0.0</td>\n",
              "      <td>3983.300000</td>\n",
              "      <td>1582.130000</td>\n",
              "    </tr>\n",
              "    <tr>\n",
              "      <th>4</th>\n",
              "      <td>81659</td>\n",
              "      <td>5000.000000</td>\n",
              "      <td>36</td>\n",
              "      <td>0.256600</td>\n",
              "      <td>200.548615</td>\n",
              "      <td>4</td>\n",
              "      <td>0.0</td>\n",
              "      <td>5000.000000</td>\n",
              "      <td>1598.260000</td>\n",
              "    </tr>\n",
              "    <tr>\n",
              "      <th>...</th>\n",
              "      <td>...</td>\n",
              "      <td>...</td>\n",
              "      <td>...</td>\n",
              "      <td>...</td>\n",
              "      <td>...</td>\n",
              "      <td>...</td>\n",
              "      <td>...</td>\n",
              "      <td>...</td>\n",
              "      <td>...</td>\n",
              "    </tr>\n",
              "    <tr>\n",
              "      <th>970569</th>\n",
              "      <td>139763</td>\n",
              "      <td>6166.894111</td>\n",
              "      <td>36</td>\n",
              "      <td>0.202777</td>\n",
              "      <td>232.311175</td>\n",
              "      <td>3</td>\n",
              "      <td>0.0</td>\n",
              "      <td>1762.672362</td>\n",
              "      <td>1195.283422</td>\n",
              "    </tr>\n",
              "    <tr>\n",
              "      <th>970570</th>\n",
              "      <td>193563</td>\n",
              "      <td>4199.853636</td>\n",
              "      <td>36</td>\n",
              "      <td>0.226726</td>\n",
              "      <td>161.561994</td>\n",
              "      <td>4</td>\n",
              "      <td>0.0</td>\n",
              "      <td>524.870851</td>\n",
              "      <td>458.343589</td>\n",
              "    </tr>\n",
              "    <tr>\n",
              "      <th>970571</th>\n",
              "      <td>592052</td>\n",
              "      <td>15000.000000</td>\n",
              "      <td>36</td>\n",
              "      <td>0.115489</td>\n",
              "      <td>495.058853</td>\n",
              "      <td>2</td>\n",
              "      <td>0.0</td>\n",
              "      <td>2009.434183</td>\n",
              "      <td>534.459813</td>\n",
              "    </tr>\n",
              "    <tr>\n",
              "      <th>970572</th>\n",
              "      <td>566252</td>\n",
              "      <td>13037.428966</td>\n",
              "      <td>36</td>\n",
              "      <td>0.200662</td>\n",
              "      <td>484.899788</td>\n",
              "      <td>3</td>\n",
              "      <td>0.0</td>\n",
              "      <td>810.077652</td>\n",
              "      <td>634.657890</td>\n",
              "    </tr>\n",
              "    <tr>\n",
              "      <th>970573</th>\n",
              "      <td>762119</td>\n",
              "      <td>4496.763017</td>\n",
              "      <td>36</td>\n",
              "      <td>0.269965</td>\n",
              "      <td>183.571134</td>\n",
              "      <td>5</td>\n",
              "      <td>0.0</td>\n",
              "      <td>249.849198</td>\n",
              "      <td>299.795170</td>\n",
              "    </tr>\n",
              "  </tbody>\n",
              "</table>\n",
              "<p>970574 rows × 9 columns</p>\n",
              "</div>\n",
              "      <button class=\"colab-df-convert\" onclick=\"convertToInteractive('df-06c96361-8fa0-4172-9437-47f08f845ed9')\"\n",
              "              title=\"Convert this dataframe to an interactive table.\"\n",
              "              style=\"display:none;\">\n",
              "        \n",
              "  <svg xmlns=\"http://www.w3.org/2000/svg\" height=\"24px\"viewBox=\"0 0 24 24\"\n",
              "       width=\"24px\">\n",
              "    <path d=\"M0 0h24v24H0V0z\" fill=\"none\"/>\n",
              "    <path d=\"M18.56 5.44l.94 2.06.94-2.06 2.06-.94-2.06-.94-.94-2.06-.94 2.06-2.06.94zm-11 1L8.5 8.5l.94-2.06 2.06-.94-2.06-.94L8.5 2.5l-.94 2.06-2.06.94zm10 10l.94 2.06.94-2.06 2.06-.94-2.06-.94-.94-2.06-.94 2.06-2.06.94z\"/><path d=\"M17.41 7.96l-1.37-1.37c-.4-.4-.92-.59-1.43-.59-.52 0-1.04.2-1.43.59L10.3 9.45l-7.72 7.72c-.78.78-.78 2.05 0 2.83L4 21.41c.39.39.9.59 1.41.59.51 0 1.02-.2 1.41-.59l7.78-7.78 2.81-2.81c.8-.78.8-2.07 0-2.86zM5.41 20L4 18.59l7.72-7.72 1.47 1.35L5.41 20z\"/>\n",
              "  </svg>\n",
              "      </button>\n",
              "      \n",
              "  <style>\n",
              "    .colab-df-container {\n",
              "      display:flex;\n",
              "      flex-wrap:wrap;\n",
              "      gap: 12px;\n",
              "    }\n",
              "\n",
              "    .colab-df-convert {\n",
              "      background-color: #E8F0FE;\n",
              "      border: none;\n",
              "      border-radius: 50%;\n",
              "      cursor: pointer;\n",
              "      display: none;\n",
              "      fill: #1967D2;\n",
              "      height: 32px;\n",
              "      padding: 0 0 0 0;\n",
              "      width: 32px;\n",
              "    }\n",
              "\n",
              "    .colab-df-convert:hover {\n",
              "      background-color: #E2EBFA;\n",
              "      box-shadow: 0px 1px 2px rgba(60, 64, 67, 0.3), 0px 1px 3px 1px rgba(60, 64, 67, 0.15);\n",
              "      fill: #174EA6;\n",
              "    }\n",
              "\n",
              "    [theme=dark] .colab-df-convert {\n",
              "      background-color: #3B4455;\n",
              "      fill: #D2E3FC;\n",
              "    }\n",
              "\n",
              "    [theme=dark] .colab-df-convert:hover {\n",
              "      background-color: #434B5C;\n",
              "      box-shadow: 0px 1px 3px 1px rgba(0, 0, 0, 0.15);\n",
              "      filter: drop-shadow(0px 1px 2px rgba(0, 0, 0, 0.3));\n",
              "      fill: #FFFFFF;\n",
              "    }\n",
              "  </style>\n",
              "\n",
              "      <script>\n",
              "        const buttonEl =\n",
              "          document.querySelector('#df-06c96361-8fa0-4172-9437-47f08f845ed9 button.colab-df-convert');\n",
              "        buttonEl.style.display =\n",
              "          google.colab.kernel.accessAllowed ? 'block' : 'none';\n",
              "\n",
              "        async function convertToInteractive(key) {\n",
              "          const element = document.querySelector('#df-06c96361-8fa0-4172-9437-47f08f845ed9');\n",
              "          const dataTable =\n",
              "            await google.colab.kernel.invokeFunction('convertToInteractive',\n",
              "                                                     [key], {});\n",
              "          if (!dataTable) return;\n",
              "\n",
              "          const docLinkHtml = 'Like what you see? Visit the ' +\n",
              "            '<a target=\"_blank\" href=https://colab.research.google.com/notebooks/data_table.ipynb>data table notebook</a>'\n",
              "            + ' to learn more about interactive tables.';\n",
              "          element.innerHTML = '';\n",
              "          dataTable['output_type'] = 'display_data';\n",
              "          await google.colab.output.renderOutput(dataTable, element);\n",
              "          const docLink = document.createElement('div');\n",
              "          docLink.innerHTML = docLinkHtml;\n",
              "          element.appendChild(docLink);\n",
              "        }\n",
              "      </script>\n",
              "    </div>\n",
              "  </div>\n",
              "  "
            ]
          },
          "metadata": {},
          "execution_count": 151
        }
      ]
    },
    {
      "cell_type": "markdown",
      "source": [
        "## **XGBoost**"
      ],
      "metadata": {
        "id": "Z_AzLBEGgIJi"
      }
    },
    {
      "cell_type": "code",
      "execution_count": null,
      "metadata": {
        "colab": {
          "base_uri": "https://localhost:8080/"
        },
        "id": "CsQt-mqrVJXV",
        "outputId": "23900bd2-573f-44e0-927b-c3aa3aa7c3c3"
      },
      "outputs": [
        {
          "name": "stdout",
          "output_type": "stream",
          "text": [
            "Akurasi dari SVM : 98.760973%\n",
            "Akurasi dari SVM : 99.059784%\n",
            "Akurasi dari SVM : 99.252424%\n",
            "Akurasi dari SVM : 99.010530%\n",
            "Akurasi dari SVM : 99.186752%\n",
            "Akurasi dari SVM : 98.955802%\n",
            "Akurasi dari SVM : 99.168144%\n",
            "Akurasi dari SVM : 99.191130%\n",
            "Akurasi dari SVM : 98.967842%\n",
            "Akurasi dari SVM : 98.373485%\n",
            "Rata-rata Akurasi dari SVM : 0.9899268664596376\n",
            "Akurasi Terbaik:  0.9925242442153193\n",
            "Confusion Matrix:  [[796175   1251]\n",
            " [  7952 108241]]\n"
          ]
        }
      ],
      "source": [
        "from xgboost import XGBClassifier\n",
        "from sklearn.model_selection import cross_val_score\n",
        "from sklearn.model_selection import cross_val_predict\n",
        "\n",
        "clf3 = XGBClassifier()\n",
        "svm = cross_val_score(clf3, X, y, cv=10, scoring = \"accuracy\")\n",
        "for i in range(10):\n",
        "  print(\"Akurasi dari SVM : {0:2%}\". format(svm[i,]))\n",
        "print(\"Rata-rata Akurasi dari SVM :\", svm.mean())\n",
        "print(\"Akurasi Terbaik: \", svm.max())\n",
        "y_pred = cross_val_predict(clf3, X, y, cv=10)\n",
        "cfm = confusion_matrix(y, y_pred)\n",
        "print(\"Confusion Matrix: \", cfm)"
      ]
    },
    {
      "cell_type": "markdown",
      "source": [
        "## **Random Forest**"
      ],
      "metadata": {
        "id": "RJZnl2dTgAD5"
      }
    },
    {
      "cell_type": "code",
      "execution_count": null,
      "metadata": {
        "colab": {
          "background_save": true,
          "base_uri": "https://localhost:8080/"
        },
        "id": "HmsREaHnrfka",
        "outputId": "21d4b9c5-6f20-4346-d98a-18beab221178"
      },
      "outputs": [
        {
          "name": "stdout",
          "output_type": "stream",
          "text": [
            "Akurasi dari SVM : 99.217399%\n",
            "Akurasi dari SVM : 99.727458%\n",
            "Akurasi dari SVM : 93.832228%\n",
            "Akurasi dari SVM : 98.811322%\n",
            "Akurasi dari SVM : 99.637705%\n",
            "Akurasi dari SVM : 99.418796%\n",
            "Akurasi dari SVM : 99.566559%\n",
            "Akurasi dari SVM : 99.165955%\n",
            "Akurasi dari SVM : 98.697489%\n",
            "Akurasi dari SVM : 98.572695%\n",
            "Rata-rata Akurasi dari SVM : 0.9866476059269186\n",
            "Akurasi Terbaik:  0.9972745780521443\n",
            "Confusion Matrix:  [[791799   5627]\n",
            " [  4229 111964]]\n"
          ]
        }
      ],
      "source": [
        "from sklearn.ensemble import RandomForestClassifier\n",
        "from sklearn.model_selection import cross_val_score\n",
        "from sklearn.model_selection import cross_val_predict\n",
        "\n",
        "clf3 = RandomForestClassifier()\n",
        "svm = cross_val_score(clf3, X, y, cv=10, scoring = \"accuracy\")\n",
        "for i in range(10):\n",
        "  print(\"Akurasi dari SVM : {0:2%}\". format(svm[i,]))\n",
        "print(\"Rata-rata Akurasi dari SVM :\", svm.mean())\n",
        "print(\"Akurasi Terbaik: \", svm.max())\n",
        "y_pred = cross_val_predict(clf3, X, y, cv=10)\n",
        "cfm = confusion_matrix(y, y_pred)\n",
        "print(\"Confusion Matrix: \", cfm)"
      ]
    },
    {
      "cell_type": "markdown",
      "source": [
        "## **Decision Tree**"
      ],
      "metadata": {
        "id": "BlNEekf4fuMV"
      }
    },
    {
      "cell_type": "code",
      "execution_count": null,
      "metadata": {
        "colab": {
          "base_uri": "https://localhost:8080/"
        },
        "id": "1qMCRRDBwaR2",
        "outputId": "a1c1a507-3cf3-42dc-bd69-5ff7ea3b354c"
      },
      "outputs": [
        {
          "name": "stdout",
          "output_type": "stream",
          "text": [
            "Akurasi dari SVM : 99.257897%\n",
            "Akurasi dari SVM : 92.969725%\n",
            "Akurasi dari SVM : 87.808936%\n",
            "Akurasi dari SVM : 99.001773%\n",
            "Akurasi dari SVM : 99.182373%\n",
            "Akurasi dari SVM : 99.110133%\n",
            "Akurasi dari SVM : 98.489525%\n",
            "Akurasi dari SVM : 96.010376%\n",
            "Akurasi dari SVM : 98.469823%\n",
            "Akurasi dari SVM : 98.606626%\n",
            "Rata-rata Akurasi dari SVM : 0.9689071890570091\n",
            "Akurasi Terbaik:  0.9925789715636698\n",
            "Confusion Matrix:  [[776529  20897]\n",
            " [  7638 108555]]\n"
          ]
        }
      ],
      "source": [
        "from sklearn.tree import DecisionTreeClassifier\n",
        "from sklearn.model_selection import cross_val_score\n",
        "from sklearn.model_selection import cross_val_predict\n",
        "\n",
        "clf3 = DecisionTreeClassifier()\n",
        "svm = cross_val_score(clf3, X, y, cv=10, scoring = \"accuracy\")\n",
        "for i in range(10):\n",
        "  print(\"Akurasi dari SVM : {0:2%}\". format(svm[i,]))\n",
        "print(\"Rata-rata Akurasi dari SVM :\", svm.mean())\n",
        "print(\"Akurasi Terbaik: \", svm.max())\n",
        "y_pred = cross_val_predict(clf3, X, y, cv=10)\n",
        "cfm = confusion_matrix(y, y_pred)\n",
        "print(\"Confusion Matrix: \", cfm)"
      ]
    },
    {
      "cell_type": "markdown",
      "source": [
        "## **LightGBM**"
      ],
      "metadata": {
        "id": "JUXlTTmHf2Os"
      }
    },
    {
      "cell_type": "code",
      "execution_count": null,
      "metadata": {
        "colab": {
          "base_uri": "https://localhost:8080/"
        },
        "id": "Li6MExiUgzP-",
        "outputId": "1d316cea-6b61-471f-a75e-a21275dd9285"
      },
      "outputs": [
        {
          "name": "stdout",
          "output_type": "stream",
          "text": [
            "Akurasi dari SVM : 99.068541%\n",
            "Akurasi dari SVM : 99.788752%\n",
            "Akurasi dari SVM : 98.886846%\n",
            "Akurasi dari SVM : 98.261859%\n",
            "Akurasi dari SVM : 98.931722%\n",
            "Akurasi dari SVM : 99.105755%\n",
            "Akurasi dari SVM : 99.359690%\n",
            "Akurasi dari SVM : 98.965653%\n",
            "Akurasi dari SVM : 98.271710%\n",
            "Akurasi dari SVM : 98.509211%\n",
            "Rata-rata Akurasi dari SVM : 0.9891497395986374\n",
            "Akurasi Terbaik:  0.99788752435367\n",
            "Confusion Matrix:  [[792684   4742]\n",
            " [  5171 111022]]\n"
          ]
        }
      ],
      "source": [
        "from lightgbm import LGBMClassifier\n",
        "from sklearn.model_selection import cross_val_score\n",
        "from sklearn.model_selection import cross_val_predict\n",
        "\n",
        "clf3 = LGBMClassifier()\n",
        "svm = cross_val_score(clf3, X, y, cv=10, scoring = \"accuracy\")\n",
        "for i in range(10):\n",
        "  print(\"Akurasi dari SVM : {0:2%}\". format(svm[i,]))\n",
        "print(\"Rata-rata Akurasi dari SVM :\", svm.mean())\n",
        "print(\"Akurasi Terbaik: \", svm.max())\n",
        "y_pred = cross_val_predict(clf3, X, y, cv=10)\n",
        "cfm = confusion_matrix(y, y_pred)\n",
        "print(\"Confusion Matrix: \", cfm)"
      ]
    },
    {
      "cell_type": "markdown",
      "metadata": {
        "id": "2NRfhJCNrxNM"
      },
      "source": [
        "# **Stacking**"
      ]
    },
    {
      "cell_type": "code",
      "source": [
        "from sklearn.ensemble import StackingClassifier\n",
        "from sklearn.ensemble import RandomForestClassifier\n",
        "from sklearn.tree import DecisionTreeClassifier\n",
        "from xgboost import XGBClassifier\n",
        "from lightgbm import LGBMClassifier\n",
        "from sklearn.model_selection import cross_val_score\n",
        "from sklearn.model_selection import cross_val_predict\n",
        "\n",
        "estimators = [  \n",
        "    ('xgb', XGBClassifier()),\n",
        "    ('rf', RandomForestClassifier()),\n",
        "    ('dt', DecisionTreeClassifier()),\n",
        "    ('lg', LGBMClassifier())\n",
        "]\n",
        "\n",
        "clf4 = StackingClassifier(estimators=estimators, final_estimator = XGBClassifier())\n",
        "stc = cross_val_score(clf4, X, y, cv=10, scoring = \"accuracy\")\n",
        "for i in range(10):\n",
        "  print(\"Akurasi dari STACKING : {0:2%}\". format(stc[i,]))\n",
        "print(\"Rata-rata Akurasi dari STACKING: \", stc.mean())\n",
        "print(\"Akurasi Terbaik: \", stc.max())\n",
        "y_pred = cross_val_predict(clf4, X, y, cv=10)\n",
        "cfm = confusion_matrix(y, y_pred)\n",
        "print(\"Confusion Matrix: \", cfm)"
      ],
      "metadata": {
        "colab": {
          "base_uri": "https://localhost:8080/"
        },
        "id": "U6mMUxmQYUaS",
        "outputId": "20895295-e0c6-419f-a15d-064e0c9e072f"
      },
      "execution_count": null,
      "outputs": [
        {
          "output_type": "stream",
          "name": "stdout",
          "text": [
            "Akurasi dari STACKING : 97.803375%\n",
            "Akurasi dari STACKING : 99.712543%\n",
            "Akurasi dari STACKING : 99.707391%\n",
            "Akurasi dari STACKING : 99.689876%\n",
            "Akurasi dari STACKING : 99.713570%\n",
            "Akurasi dari STACKING : 99.672357%\n",
            "Akurasi dari STACKING : 99.656903%\n",
            "Akurasi dari STACKING : 99.597144%\n",
            "Akurasi dari STACKING : 99.685752%\n",
            "Akurasi dari STACKING : 99.657933%\n",
            "Rata-rata Akurasi dari STACKING:  0.9948968450169907\n",
            "Akurasi Terbaik:  0.997135703761707\n",
            "Confusion Matrix:  [[483836   1451]\n",
            " [  3747 481540]]\n"
          ]
        }
      ]
    },
    {
      "cell_type": "code",
      "execution_count": null,
      "metadata": {
        "colab": {
          "base_uri": "https://localhost:8080/"
        },
        "id": "wvKBApVSPJw5",
        "outputId": "0541983d-719b-49a7-e090-530e01ae1f88"
      },
      "outputs": [
        {
          "name": "stdout",
          "output_type": "stream",
          "text": [
            "Akurasi dari STACKING : 95.658266%\n",
            "Akurasi dari STACKING : 99.398298%\n",
            "Akurasi dari STACKING : 99.820726%\n",
            "Akurasi dari STACKING : 99.703270%\n",
            "Akurasi dari STACKING : 99.659994%\n",
            "Akurasi dari STACKING : 99.603326%\n",
            "Akurasi dari STACKING : 99.591992%\n",
            "Akurasi dari STACKING : 99.526052%\n",
            "Akurasi dari STACKING : 99.590962%\n",
            "Akurasi dari STACKING : 99.549749%\n",
            "Rata-rata Akurasi dari STACKING:  0.9921026347346398\n",
            "Akurasi Terbaik:  0.9982072575161244\n"
          ]
        }
      ],
      "source": [
        "from sklearn.ensemble import StackingClassifier\n",
        "from sklearn.ensemble import AdaBoostClassifier\n",
        "from sklearn.ensemble import RandomForestClassifier\n",
        "from sklearn.neighbors import KNeighborsClassifier\n",
        "from sklearn.tree import DecisionTreeClassifier\n",
        "from sklearn.svm import LinearSVC\n",
        "from sklearn.neural_network import MLPClassifier\n",
        "from xgboost import XGBClassifier\n",
        "from lightgbm import LGBMClassifier\n",
        "from sklearn.model_selection import cross_val_score\n",
        "from sklearn.model_selection import cross_val_predict\n",
        "from sklearn.linear_model import LogisticRegression\n",
        "\n",
        "estimators = [  \n",
        "    ('xgb', XGBClassifier()),\n",
        "    ('rf', RandomForestClassifier()),\n",
        "    ('dt', DecisionTreeClassifier()),\n",
        "    ('lg', LGBMClassifier())\n",
        "]\n",
        "\n",
        "clf4 = StackingClassifier(estimators=estimators, final_estimator = LogisticRegression())\n",
        "stc = cross_val_score(clf4, X, y, cv=10, scoring = \"accuracy\")\n",
        "for i in range(10):\n",
        "  print(\"Akurasi dari STACKING : {0:2%}\". format(stc[i,]))\n",
        "print(\"Rata-rata Akurasi dari STACKING: \", stc.mean())\n",
        "print(\"Akurasi Terbaik: \", stc.max())\n",
        "y_pred = cross_val_predict(clf4, X, y, cv=10)\n",
        "cfm = confusion_matrix(y, y_pred)\n",
        "print(\"Confusion Matrix: \", cfm)"
      ]
    }
  ],
  "metadata": {
    "colab": {
      "collapsed_sections": [
        "bnsEg5JO8SuD",
        "ICY9Aoumw0jG",
        "_ubMZxp4ySCX",
        "WQrcRh-3ErIz",
        "kcHyJ3EHk5i1",
        "0GoiCs2cMBL4",
        "jd79gBfQKpxk",
        "5CZSTCUvMaWP",
        "uYOET0AdNC_6",
        "PR7gISi7OTKv",
        "ywfUMBuoDc12",
        "80qHprSoERab",
        "Uod6WcVGE0KY",
        "XAScHJXXCml4",
        "utyXaqbbC70b",
        "W3jg3E9clSnA",
        "bo9M0tmQ2l3M",
        "UiVGU4DhoN3Y",
        "nFBb-S7C_9hv",
        "Z_AzLBEGgIJi",
        "RJZnl2dTgAD5",
        "BlNEekf4fuMV",
        "JUXlTTmHf2Os",
        "2NRfhJCNrxNM"
      ],
      "machine_shape": "hm",
      "provenance": [],
      "include_colab_link": true
    },
    "gpuClass": "standard",
    "kernelspec": {
      "display_name": "Python 3",
      "name": "python3"
    },
    "language_info": {
      "name": "python"
    }
  },
  "nbformat": 4,
  "nbformat_minor": 0
}